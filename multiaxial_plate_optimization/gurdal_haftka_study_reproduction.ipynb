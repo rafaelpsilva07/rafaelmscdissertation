{
 "cells": [
  {
   "cell_type": "markdown",
   "metadata": {},
   "source": [
    "Reproduction of Haftka and Gurdal study using composipy.\n",
    "\n",
    "\n",
    "References\n",
    "----------\n",
    "1 - Gurdal, Z. and Haftka, R. T. “Optimization of Composite Laminates,”\n",
    " presented at the NATO Advanced Study Institute on Optimization of Large Structural Systems, Berchtesgaden, Germany, Sept. 23 – Oct. 4, 1991.\n"
   ]
  },
  {
   "cell_type": "code",
   "execution_count": 5,
   "metadata": {},
   "outputs": [],
   "source": [
    "from composipy.optimize import  maximize_buckling_load"
   ]
  },
  {
   "cell_type": "code",
   "execution_count": 6,
   "metadata": {},
   "outputs": [],
   "source": [
    "panel = {'E1': 128e3,\n",
    "            'E2': 13e3,\n",
    "            'G12': 6.4e3,\n",
    "            'v12': 0.3,\n",
    "            'a': 508,\n",
    "            'b': 254,\n",
    "            'm': 7,\n",
    "            'n': 7,\n",
    "            'panel_constraint' : 'PINNED',\n",
    "            'plot': False\n",
    "}"
   ]
  },
  {
   "cell_type": "code",
   "execution_count": 7,
   "metadata": {},
   "outputs": [],
   "source": [
    "def optimize_panel(ratio, Ts):\n",
    "    global panel\n",
    "\n",
    "    return maximize_buckling_load(\n",
    "        T=Ts, Nxx=-1, Nyy=-1*ratio, Nxy=0,\n",
    "        **panel\n",
    "    )"
   ]
  },
  {
   "cell_type": "code",
   "execution_count": 4,
   "metadata": {},
   "outputs": [
    {
     "data": {
      "text/plain": [
       " message: Optimization terminated successfully\n",
       " success: True\n",
       "  status: 0\n",
       "     fun: -36.79408022138645\n",
       "       x: [-7.421e-01  4.840e-01]\n",
       "     nit: 11\n",
       "     jac: [ 1.571e+01  1.719e+00]\n",
       "    nfev: 78\n",
       "    njev: 11"
      ]
     },
     "execution_count": 4,
     "metadata": {},
     "output_type": "execute_result"
    }
   ],
   "source": [
    "optimize_panel(1, 3.048)"
   ]
  },
  {
   "cell_type": "markdown",
   "metadata": {},
   "source": [
    "## 1-Verification of Gurdal and Hafka results"
   ]
  },
  {
   "cell_type": "code",
   "execution_count": 9,
   "metadata": {},
   "outputs": [
    {
     "name": "stdout",
     "output_type": "stream",
     "text": [
      "t = 1.016\n",
      "=========================\n",
      "0, 5.000000000023462e-05, -0.9999999999999988, -3.8051457358475447, 9\n",
      "0.5, -0.47913233359219837, -0.041835332815604184, -2.0720368588006517, 44\n",
      "1.0, -0.7420551403676495, 0.48401028073529834, -1.362743621456551, 55\n"
     ]
    },
    {
     "name": "stderr",
     "output_type": "stream",
     "text": [
      "d:\\programs\\Anaconda\\lib\\site-packages\\composipy\\optimize\\_maximize_buckling.py:109: UserWarning: Loads will be normalized, prefer to use loads between -1 and 1 (Nxx = -1, Nyy = -1.5, Nxy = 0)\n",
      "  warnings.warn(f'Loads will be normalized, prefer to use loads between -1 and 1 (Nxx = {Nxx}, Nyy = {Nyy}, Nxy = {Nxy})')\n"
     ]
    },
    {
     "name": "stdout",
     "output_type": "stream",
     "text": [
      "1.5, -0.8708783792946991, 0.7416567585894006, -1.0152170428164713, 43\n"
     ]
    },
    {
     "name": "stderr",
     "output_type": "stream",
     "text": [
      "d:\\programs\\Anaconda\\lib\\site-packages\\composipy\\optimize\\_maximize_buckling.py:109: UserWarning: Loads will be normalized, prefer to use loads between -1 and 1 (Nxx = -1, Nyy = -2.0, Nxy = 0)\n",
      "  warnings.warn(f'Loads will be normalized, prefer to use loads between -1 and 1 (Nxx = {Nxx}, Nyy = {Nyy}, Nxy = {Nxy})')\n"
     ]
    },
    {
     "name": "stdout",
     "output_type": "stream",
     "text": [
      "2.0, -0.9473466697935263, 0.8945933395870539, -0.8089255896818399, 48\n"
     ]
    },
    {
     "name": "stderr",
     "output_type": "stream",
     "text": [
      "d:\\programs\\Anaconda\\lib\\site-packages\\composipy\\optimize\\_maximize_buckling.py:109: UserWarning: Loads will be normalized, prefer to use loads between -1 and 1 (Nxx = -1, Nyy = -2.5, Nxy = 0)\n",
      "  warnings.warn(f'Loads will be normalized, prefer to use loads between -1 and 1 (Nxx = {Nxx}, Nyy = {Nyy}, Nxy = {Nxy})')\n"
     ]
    },
    {
     "name": "stdout",
     "output_type": "stream",
     "text": [
      "2.5, -0.9979869575144793, 0.995873915028958, -0.6723119882593832, 47\n",
      "t = 1.524\n",
      "=========================\n",
      "0, 5.0000000000419006e-05, -0.999999999999998, -12.842366858485402, 6\n",
      "0.5, -0.47913165808486124, -0.04183668383028108, -6.993126609988945, 50\n",
      "1.0, -0.7420553411354505, 0.4840106822708915, -4.599260026048696, 50\n",
      "1.5, -0.870877979744552, 0.7416559594890995, -3.4263583043562202, 52\n",
      "2.0, -0.9473464061796936, 0.8945928123593885, -2.7301236404858096, 46\n",
      "2.5, -0.9979868881434009, 0.9958737762868016, -2.269052911997779, 35\n",
      "t = 2.032\n",
      "=========================\n",
      "0, 4.999999999843503e-05, -0.9999999999999982, -30.44116588678062, 6\n",
      "0.5, -0.4791315880550844, -0.0418368238898454, -16.576300415339347, 58\n",
      "1.0, -0.7420552848100553, 0.48401056962012484, -10.901949496943146, 79\n",
      "1.5, -0.8708776931964303, 0.7416553863928773, -8.121739516576975, 52\n",
      "2.0, -0.9473467074280224, 0.8945934148560674, -6.471404793490634, 47\n",
      "2.5, -0.9979870906714602, 0.9958741813429355, -5.3784961261883675, 44\n",
      "t = 3.048\n",
      "=========================\n",
      "0, 4.9999999968861736e-05, -1.0, -102.73893486788496, 6\n",
      "0.5, -0.4791316612382582, -0.041836677524023286, -55.94501279732729, 55\n",
      "1.0, -0.7420552826510984, 0.484010565393342, -36.794079525528346, 79\n",
      "1.5, -0.8708776913466283, 0.7416553826931831, -27.410870852230392, 51\n",
      "2.0, -0.947346727878606, 0.8945934557569546, -21.840991317479673, 50\n",
      "2.5, -0.9979870186837676, 0.9958740373681769, -18.15242402426642, 41\n"
     ]
    }
   ],
   "source": [
    "# Nxx, Nyy, Nxy\n",
    "ratio = [0, 0.5, 1.0, 1.5, 2.0, 2.5]\n",
    "Ts = [1.016, 1.524, 2.032, 3.048]\n",
    "\n",
    "for t in Ts:\n",
    "    print(f't = {t}')\n",
    "    print('=========================')\n",
    "    for r in ratio:\n",
    "        res = optimize_panel(r, t)\n",
    "        fun = res.fun\n",
    "\n",
    "        if r > 1:\n",
    "            fun = fun / r #it compensates function natural normalization\n",
    "\n",
    "        print(f'{r}, {res.x[0]}, {res.x[1]}, {fun}, {res.nfev}')\n",
    "        "
   ]
  },
  {
   "cell_type": "code",
   "execution_count": null,
   "metadata": {},
   "outputs": [],
   "source": []
  },
  {
   "cell_type": "markdown",
   "metadata": {},
   "source": [
    "## 2 - Shear study of 1.016 plate"
   ]
  },
  {
   "cell_type": "code",
   "execution_count": 17,
   "metadata": {},
   "outputs": [],
   "source": [
    "def optimize_panel_shear(ratio, Ts, shear_ratio):\n",
    "    global panel\n",
    "\n",
    "    return maximize_buckling_load(\n",
    "        T=Ts, Nxx=-1, Nyy=-1*ratio, Nxy=-1*shear_ratio,\n",
    "        **panel\n",
    "    )"
   ]
  },
  {
   "cell_type": "code",
   "execution_count": 18,
   "metadata": {},
   "outputs": [
    {
     "name": "stdout",
     "output_type": "stream",
     "text": [
      "shear_ratio = 0\n",
      "=========================\n",
      "ratio = 0, xiD = [ 5.e-05 -1.e+00], lambda = -3.8051457358475447\n",
      "ratio = 0.5, xiD = [-0.47913234 -0.04183533], lambda = -2.0720368564619656\n",
      "ratio = 1.0, xiD = [-0.74205514  0.48401028], lambda = -1.362743621457472\n"
     ]
    },
    {
     "name": "stderr",
     "output_type": "stream",
     "text": [
      "d:\\programs\\Anaconda\\lib\\site-packages\\composipy\\optimize\\_maximize_buckling.py:109: UserWarning: Loads will be normalized, prefer to use loads between -1 and 1 (Nxx = -1, Nyy = -1.5, Nxy = 0)\n",
      "  warnings.warn(f'Loads will be normalized, prefer to use loads between -1 and 1 (Nxx = {Nxx}, Nyy = {Nyy}, Nxy = {Nxy})')\n"
     ]
    },
    {
     "name": "stdout",
     "output_type": "stream",
     "text": [
      "ratio = 1.5, xiD = [-0.87087838  0.74165676], lambda = -1.0152170427617433\n"
     ]
    },
    {
     "name": "stderr",
     "output_type": "stream",
     "text": [
      "d:\\programs\\Anaconda\\lib\\site-packages\\composipy\\optimize\\_maximize_buckling.py:109: UserWarning: Loads will be normalized, prefer to use loads between -1 and 1 (Nxx = -1, Nyy = -2.0, Nxy = 0)\n",
      "  warnings.warn(f'Loads will be normalized, prefer to use loads between -1 and 1 (Nxx = {Nxx}, Nyy = {Nyy}, Nxy = {Nxy})')\n"
     ]
    },
    {
     "name": "stdout",
     "output_type": "stream",
     "text": [
      "ratio = 2.0, xiD = [-0.94734667  0.89459334], lambda = -0.8089255896805511\n"
     ]
    },
    {
     "name": "stderr",
     "output_type": "stream",
     "text": [
      "d:\\programs\\Anaconda\\lib\\site-packages\\composipy\\optimize\\_maximize_buckling.py:109: UserWarning: Loads will be normalized, prefer to use loads between -1 and 1 (Nxx = -1, Nyy = -2.5, Nxy = 0)\n",
      "  warnings.warn(f'Loads will be normalized, prefer to use loads between -1 and 1 (Nxx = {Nxx}, Nyy = {Nyy}, Nxy = {Nxy})')\n"
     ]
    },
    {
     "name": "stdout",
     "output_type": "stream",
     "text": [
      "ratio = 2.5, xiD = [-0.99798696  0.99587392], lambda = -0.6723119882605753\n",
      "shear_ratio = 0.5\n",
      "=========================\n",
      "ratio = 0, xiD = [-5.e-05 -1.e+00], lambda = -3.4600061212738873\n",
      "ratio = 0.5, xiD = [-0.46196361 -0.07617278], lambda = -2.0154054766705585\n",
      "ratio = 1.0, xiD = [-0.73092953  0.46175905], lambda = -1.34699921892897\n"
     ]
    },
    {
     "name": "stderr",
     "output_type": "stream",
     "text": [
      "d:\\programs\\Anaconda\\lib\\site-packages\\composipy\\optimize\\_maximize_buckling.py:109: UserWarning: Loads will be normalized, prefer to use loads between -1 and 1 (Nxx = -1, Nyy = -1.5, Nxy = -0.5)\n",
      "  warnings.warn(f'Loads will be normalized, prefer to use loads between -1 and 1 (Nxx = {Nxx}, Nyy = {Nyy}, Nxy = {Nxy})')\n"
     ]
    },
    {
     "name": "stdout",
     "output_type": "stream",
     "text": [
      "ratio = 1.5, xiD = [-0.86369226  0.72728452], lambda = -1.0087502990804387\n"
     ]
    },
    {
     "name": "stderr",
     "output_type": "stream",
     "text": [
      "d:\\programs\\Anaconda\\lib\\site-packages\\composipy\\optimize\\_maximize_buckling.py:109: UserWarning: Loads will be normalized, prefer to use loads between -1 and 1 (Nxx = -1, Nyy = -2.0, Nxy = -0.5)\n",
      "  warnings.warn(f'Loads will be normalized, prefer to use loads between -1 and 1 (Nxx = {Nxx}, Nyy = {Nyy}, Nxy = {Nxy})')\n"
     ]
    },
    {
     "name": "stdout",
     "output_type": "stream",
     "text": [
      "ratio = 2.0, xiD = [-0.94239901  0.88469801], lambda = -0.8056601131080673\n"
     ]
    },
    {
     "name": "stderr",
     "output_type": "stream",
     "text": [
      "d:\\programs\\Anaconda\\lib\\site-packages\\composipy\\optimize\\_maximize_buckling.py:109: UserWarning: Loads will be normalized, prefer to use loads between -1 and 1 (Nxx = -1, Nyy = -2.5, Nxy = -0.5)\n",
      "  warnings.warn(f'Loads will be normalized, prefer to use loads between -1 and 1 (Nxx = {Nxx}, Nyy = {Nyy}, Nxy = {Nxy})')\n"
     ]
    },
    {
     "name": "stdout",
     "output_type": "stream",
     "text": [
      "ratio = 2.5, xiD = [-0.99439053  0.98868106], lambda = -0.670437687352681\n",
      "shear_ratio = 1.0\n",
      "=========================\n",
      "ratio = 0, xiD = [-5.e-05 -1.e+00], lambda = -2.856344295186581\n",
      "ratio = 0.5, xiD = [-0.42556888 -0.14896225], lambda = -1.8692170408679505\n",
      "ratio = 1.0, xiD = [-0.70143343  0.40276686], lambda = -1.3024751182900949\n"
     ]
    },
    {
     "name": "stderr",
     "output_type": "stream",
     "text": [
      "d:\\programs\\Anaconda\\lib\\site-packages\\composipy\\optimize\\_maximize_buckling.py:109: UserWarning: Loads will be normalized, prefer to use loads between -1 and 1 (Nxx = -1, Nyy = -1.5, Nxy = -1.0)\n",
      "  warnings.warn(f'Loads will be normalized, prefer to use loads between -1 and 1 (Nxx = {Nxx}, Nyy = {Nyy}, Nxy = {Nxy})')\n"
     ]
    },
    {
     "name": "stdout",
     "output_type": "stream",
     "text": [
      "ratio = 1.5, xiD = [-0.84346962  0.68683923], lambda = -0.9899534230601336\n"
     ]
    },
    {
     "name": "stderr",
     "output_type": "stream",
     "text": [
      "d:\\programs\\Anaconda\\lib\\site-packages\\composipy\\optimize\\_maximize_buckling.py:109: UserWarning: Loads will be normalized, prefer to use loads between -1 and 1 (Nxx = -1, Nyy = -2.0, Nxy = -1.0)\n",
      "  warnings.warn(f'Loads will be normalized, prefer to use loads between -1 and 1 (Nxx = {Nxx}, Nyy = {Nyy}, Nxy = {Nxy})')\n"
     ]
    },
    {
     "name": "stdout",
     "output_type": "stream",
     "text": [
      "ratio = 2.0, xiD = [-0.92812485  0.8561497 ], lambda = -0.7960568578030152\n"
     ]
    },
    {
     "name": "stderr",
     "output_type": "stream",
     "text": [
      "d:\\programs\\Anaconda\\lib\\site-packages\\composipy\\optimize\\_maximize_buckling.py:109: UserWarning: Loads will be normalized, prefer to use loads between -1 and 1 (Nxx = -1, Nyy = -2.5, Nxy = -1.0)\n",
      "  warnings.warn(f'Loads will be normalized, prefer to use loads between -1 and 1 (Nxx = {Nxx}, Nyy = {Nyy}, Nxy = {Nxy})')\n"
     ]
    },
    {
     "name": "stdout",
     "output_type": "stream",
     "text": [
      "ratio = 2.5, xiD = [-0.98388071  0.96766141], lambda = -0.6648914034176492\n",
      "shear_ratio = 2.0\n",
      "=========================\n"
     ]
    },
    {
     "name": "stderr",
     "output_type": "stream",
     "text": [
      "d:\\programs\\Anaconda\\lib\\site-packages\\composipy\\optimize\\_maximize_buckling.py:109: UserWarning: Loads will be normalized, prefer to use loads between -1 and 1 (Nxx = -1, Nyy = 0, Nxy = -2.0)\n",
      "  warnings.warn(f'Loads will be normalized, prefer to use loads between -1 and 1 (Nxx = {Nxx}, Nyy = {Nyy}, Nxy = {Nxy})')\n"
     ]
    },
    {
     "name": "stdout",
     "output_type": "stream",
     "text": [
      "ratio = 0, xiD = [-5.e-05 -1.e+00], lambda = -1.9781378528558449\n"
     ]
    },
    {
     "name": "stderr",
     "output_type": "stream",
     "text": [
      "d:\\programs\\Anaconda\\lib\\site-packages\\composipy\\optimize\\_maximize_buckling.py:109: UserWarning: Loads will be normalized, prefer to use loads between -1 and 1 (Nxx = -1, Nyy = -0.5, Nxy = -2.0)\n",
      "  warnings.warn(f'Loads will be normalized, prefer to use loads between -1 and 1 (Nxx = {Nxx}, Nyy = {Nyy}, Nxy = {Nxy})')\n"
     ]
    },
    {
     "name": "stdout",
     "output_type": "stream",
     "text": [
      "ratio = 0.5, xiD = [-0.36463645 -0.2708271 ], lambda = -1.511787273751489\n"
     ]
    },
    {
     "name": "stderr",
     "output_type": "stream",
     "text": [
      "d:\\programs\\Anaconda\\lib\\site-packages\\composipy\\optimize\\_maximize_buckling.py:109: UserWarning: Loads will be normalized, prefer to use loads between -1 and 1 (Nxx = -1, Nyy = -1.0, Nxy = -2.0)\n",
      "  warnings.warn(f'Loads will be normalized, prefer to use loads between -1 and 1 (Nxx = {Nxx}, Nyy = {Nyy}, Nxy = {Nxy})')\n"
     ]
    },
    {
     "name": "stdout",
     "output_type": "stream",
     "text": [
      "ratio = 1.0, xiD = [-0.62150456  0.24290913], lambda = -1.1611089217705501\n"
     ]
    },
    {
     "name": "stderr",
     "output_type": "stream",
     "text": [
      "d:\\programs\\Anaconda\\lib\\site-packages\\composipy\\optimize\\_maximize_buckling.py:109: UserWarning: Loads will be normalized, prefer to use loads between -1 and 1 (Nxx = -1, Nyy = -1.5, Nxy = -2.0)\n",
      "  warnings.warn(f'Loads will be normalized, prefer to use loads between -1 and 1 (Nxx = {Nxx}, Nyy = {Nyy}, Nxy = {Nxy})')\n"
     ]
    },
    {
     "name": "stdout",
     "output_type": "stream",
     "text": [
      "ratio = 1.5, xiD = [-0.77851607  0.55693215], lambda = -0.9238146351681762\n"
     ]
    },
    {
     "name": "stderr",
     "output_type": "stream",
     "text": [
      "d:\\programs\\Anaconda\\lib\\site-packages\\composipy\\optimize\\_maximize_buckling.py:109: UserWarning: Loads will be normalized, prefer to use loads between -1 and 1 (Nxx = -1, Nyy = -2.0, Nxy = -2.0)\n",
      "  warnings.warn(f'Loads will be normalized, prefer to use loads between -1 and 1 (Nxx = {Nxx}, Nyy = {Nyy}, Nxy = {Nxy})')\n"
     ]
    },
    {
     "name": "stdout",
     "output_type": "stream",
     "text": [
      "ratio = 2.0, xiD = [-0.87845528  0.75681055], lambda = -0.7606167022487421\n"
     ]
    },
    {
     "name": "stderr",
     "output_type": "stream",
     "text": [
      "d:\\programs\\Anaconda\\lib\\site-packages\\composipy\\optimize\\_maximize_buckling.py:109: UserWarning: Loads will be normalized, prefer to use loads between -1 and 1 (Nxx = -1, Nyy = -2.5, Nxy = -2.0)\n",
      "  warnings.warn(f'Loads will be normalized, prefer to use loads between -1 and 1 (Nxx = {Nxx}, Nyy = {Nyy}, Nxy = {Nxy})')\n"
     ]
    },
    {
     "name": "stdout",
     "output_type": "stream",
     "text": [
      "ratio = 2.5, xiD = [-0.94569265  0.8912853 ], lambda = -0.6438987307003772\n",
      "shear_ratio = 2.5\n",
      "=========================\n"
     ]
    },
    {
     "name": "stderr",
     "output_type": "stream",
     "text": [
      "d:\\programs\\Anaconda\\lib\\site-packages\\composipy\\optimize\\_maximize_buckling.py:109: UserWarning: Loads will be normalized, prefer to use loads between -1 and 1 (Nxx = -1, Nyy = 0, Nxy = -2.5)\n",
      "  warnings.warn(f'Loads will be normalized, prefer to use loads between -1 and 1 (Nxx = {Nxx}, Nyy = {Nyy}, Nxy = {Nxy})')\n"
     ]
    },
    {
     "name": "stdout",
     "output_type": "stream",
     "text": [
      "ratio = 0, xiD = [-5.e-05 -1.e+00], lambda = -1.6990812901811618\n"
     ]
    },
    {
     "name": "stderr",
     "output_type": "stream",
     "text": [
      "d:\\programs\\Anaconda\\lib\\site-packages\\composipy\\optimize\\_maximize_buckling.py:109: UserWarning: Loads will be normalized, prefer to use loads between -1 and 1 (Nxx = -1, Nyy = -0.5, Nxy = -2.5)\n",
      "  warnings.warn(f'Loads will be normalized, prefer to use loads between -1 and 1 (Nxx = {Nxx}, Nyy = {Nyy}, Nxy = {Nxy})')\n"
     ]
    },
    {
     "name": "stdout",
     "output_type": "stream",
     "text": [
      "ratio = 0.5, xiD = [-0.34565467 -0.30879066], lambda = -1.3572370571184436\n"
     ]
    },
    {
     "name": "stderr",
     "output_type": "stream",
     "text": [
      "d:\\programs\\Anaconda\\lib\\site-packages\\composipy\\optimize\\_maximize_buckling.py:109: UserWarning: Loads will be normalized, prefer to use loads between -1 and 1 (Nxx = -1, Nyy = -1.0, Nxy = -2.5)\n",
      "  warnings.warn(f'Loads will be normalized, prefer to use loads between -1 and 1 (Nxx = {Nxx}, Nyy = {Nyy}, Nxy = {Nxy})')\n"
     ]
    },
    {
     "name": "stdout",
     "output_type": "stream",
     "text": [
      "ratio = 1.0, xiD = [-0.58373689  0.16737378], lambda = -1.08316114949604\n"
     ]
    },
    {
     "name": "stderr",
     "output_type": "stream",
     "text": [
      "d:\\programs\\Anaconda\\lib\\site-packages\\composipy\\optimize\\_maximize_buckling.py:109: UserWarning: Loads will be normalized, prefer to use loads between -1 and 1 (Nxx = -1, Nyy = -1.5, Nxy = -2.5)\n",
      "  warnings.warn(f'Loads will be normalized, prefer to use loads between -1 and 1 (Nxx = {Nxx}, Nyy = {Nyy}, Nxy = {Nxy})')\n"
     ]
    },
    {
     "name": "stdout",
     "output_type": "stream",
     "text": [
      "ratio = 1.5, xiD = [-0.74178074  0.48346148], lambda = -0.8825283647220962\n"
     ]
    },
    {
     "name": "stderr",
     "output_type": "stream",
     "text": [
      "d:\\programs\\Anaconda\\lib\\site-packages\\composipy\\optimize\\_maximize_buckling.py:109: UserWarning: Loads will be normalized, prefer to use loads between -1 and 1 (Nxx = -1, Nyy = -2.0, Nxy = -2.5)\n",
      "  warnings.warn(f'Loads will be normalized, prefer to use loads between -1 and 1 (Nxx = {Nxx}, Nyy = {Nyy}, Nxy = {Nxy})')\n"
     ]
    },
    {
     "name": "stdout",
     "output_type": "stream",
     "text": [
      "ratio = 2.0, xiD = [-0.84753551  0.69497102], lambda = -0.7370046793589482\n"
     ]
    },
    {
     "name": "stderr",
     "output_type": "stream",
     "text": [
      "d:\\programs\\Anaconda\\lib\\site-packages\\composipy\\optimize\\_maximize_buckling.py:109: UserWarning: Loads will be normalized, prefer to use loads between -1 and 1 (Nxx = -1, Nyy = -2.5, Nxy = -2.5)\n",
      "  warnings.warn(f'Loads will be normalized, prefer to use loads between -1 and 1 (Nxx = {Nxx}, Nyy = {Nyy}, Nxy = {Nxy})')\n"
     ]
    },
    {
     "name": "stdout",
     "output_type": "stream",
     "text": [
      "ratio = 2.5, xiD = [-0.92056317  0.84102635], lambda = -0.6293893993356356\n",
      "shear_ratio = 3.0\n",
      "=========================\n"
     ]
    },
    {
     "name": "stderr",
     "output_type": "stream",
     "text": [
      "d:\\programs\\Anaconda\\lib\\site-packages\\composipy\\optimize\\_maximize_buckling.py:109: UserWarning: Loads will be normalized, prefer to use loads between -1 and 1 (Nxx = -1, Nyy = 0, Nxy = -3.0)\n",
      "  warnings.warn(f'Loads will be normalized, prefer to use loads between -1 and 1 (Nxx = {Nxx}, Nyy = {Nyy}, Nxy = {Nxy})')\n"
     ]
    },
    {
     "name": "stdout",
     "output_type": "stream",
     "text": [
      "ratio = 0, xiD = [-0.02573137 -0.94863726], lambda = -1.4846702699715404\n"
     ]
    },
    {
     "name": "stderr",
     "output_type": "stream",
     "text": [
      "d:\\programs\\Anaconda\\lib\\site-packages\\composipy\\optimize\\_maximize_buckling.py:109: UserWarning: Loads will be normalized, prefer to use loads between -1 and 1 (Nxx = -1, Nyy = -0.5, Nxy = -3.0)\n",
      "  warnings.warn(f'Loads will be normalized, prefer to use loads between -1 and 1 (Nxx = {Nxx}, Nyy = {Nyy}, Nxy = {Nxy})')\n"
     ]
    },
    {
     "name": "stdout",
     "output_type": "stream",
     "text": [
      "ratio = 0.5, xiD = [-0.33181559 -0.33646881], lambda = -1.225744494660964\n"
     ]
    },
    {
     "name": "stderr",
     "output_type": "stream",
     "text": [
      "d:\\programs\\Anaconda\\lib\\site-packages\\composipy\\optimize\\_maximize_buckling.py:109: UserWarning: Loads will be normalized, prefer to use loads between -1 and 1 (Nxx = -1, Nyy = -1.0, Nxy = -3.0)\n",
      "  warnings.warn(f'Loads will be normalized, prefer to use loads between -1 and 1 (Nxx = {Nxx}, Nyy = {Nyy}, Nxy = {Nxy})')\n"
     ]
    },
    {
     "name": "stdout",
     "output_type": "stream",
     "text": [
      "ratio = 1.0, xiD = [-0.55064172  0.10118343], lambda = -1.0084403975905312\n"
     ]
    },
    {
     "name": "stderr",
     "output_type": "stream",
     "text": [
      "d:\\programs\\Anaconda\\lib\\site-packages\\composipy\\optimize\\_maximize_buckling.py:109: UserWarning: Loads will be normalized, prefer to use loads between -1 and 1 (Nxx = -1, Nyy = -1.5, Nxy = -3.0)\n",
      "  warnings.warn(f'Loads will be normalized, prefer to use loads between -1 and 1 (Nxx = {Nxx}, Nyy = {Nyy}, Nxy = {Nxy})')\n"
     ]
    },
    {
     "name": "stdout",
     "output_type": "stream",
     "text": [
      "ratio = 1.5, xiD = [-0.70602922  0.41195844], lambda = -0.8395717292250344\n"
     ]
    },
    {
     "name": "stderr",
     "output_type": "stream",
     "text": [
      "d:\\programs\\Anaconda\\lib\\site-packages\\composipy\\optimize\\_maximize_buckling.py:109: UserWarning: Loads will be normalized, prefer to use loads between -1 and 1 (Nxx = -1, Nyy = -2.0, Nxy = -3.0)\n",
      "  warnings.warn(f'Loads will be normalized, prefer to use loads between -1 and 1 (Nxx = {Nxx}, Nyy = {Nyy}, Nxy = {Nxy})')\n"
     ]
    },
    {
     "name": "stdout",
     "output_type": "stream",
     "text": [
      "ratio = 2.0, xiD = [-0.81534047  0.63058094], lambda = -0.7111511559587101\n"
     ]
    },
    {
     "name": "stderr",
     "output_type": "stream",
     "text": [
      "d:\\programs\\Anaconda\\lib\\site-packages\\composipy\\optimize\\_maximize_buckling.py:109: UserWarning: Loads will be normalized, prefer to use loads between -1 and 1 (Nxx = -1, Nyy = -2.5, Nxy = -3.0)\n",
      "  warnings.warn(f'Loads will be normalized, prefer to use loads between -1 and 1 (Nxx = {Nxx}, Nyy = {Nyy}, Nxy = {Nxy})')\n"
     ]
    },
    {
     "name": "stdout",
     "output_type": "stream",
     "text": [
      "ratio = 2.5, xiD = [-0.89323002  0.78636003], lambda = -0.6129894006446533\n",
      "shear_ratio = 3.5\n",
      "=========================\n"
     ]
    },
    {
     "name": "stderr",
     "output_type": "stream",
     "text": [
      "d:\\programs\\Anaconda\\lib\\site-packages\\composipy\\optimize\\_maximize_buckling.py:109: UserWarning: Loads will be normalized, prefer to use loads between -1 and 1 (Nxx = -1, Nyy = 0, Nxy = -3.5)\n",
      "  warnings.warn(f'Loads will be normalized, prefer to use loads between -1 and 1 (Nxx = {Nxx}, Nyy = {Nyy}, Nxy = {Nxy})')\n"
     ]
    },
    {
     "name": "stdout",
     "output_type": "stream",
     "text": [
      "ratio = 0, xiD = [-0.05501202 -0.89007596], lambda = -1.3168355161525973\n"
     ]
    },
    {
     "name": "stderr",
     "output_type": "stream",
     "text": [
      "d:\\programs\\Anaconda\\lib\\site-packages\\composipy\\optimize\\_maximize_buckling.py:109: UserWarning: Loads will be normalized, prefer to use loads between -1 and 1 (Nxx = -1, Nyy = -0.5, Nxy = -3.5)\n",
      "  warnings.warn(f'Loads will be normalized, prefer to use loads between -1 and 1 (Nxx = {Nxx}, Nyy = {Nyy}, Nxy = {Nxy})')\n"
     ]
    },
    {
     "name": "stdout",
     "output_type": "stream",
     "text": [
      "ratio = 0.5, xiD = [-0.32146333 -0.35717335], lambda = -1.1146481823786685\n"
     ]
    },
    {
     "name": "stderr",
     "output_type": "stream",
     "text": [
      "d:\\programs\\Anaconda\\lib\\site-packages\\composipy\\optimize\\_maximize_buckling.py:109: UserWarning: Loads will be normalized, prefer to use loads between -1 and 1 (Nxx = -1, Nyy = -1.0, Nxy = -3.5)\n",
      "  warnings.warn(f'Loads will be normalized, prefer to use loads between -1 and 1 (Nxx = {Nxx}, Nyy = {Nyy}, Nxy = {Nxy})')\n"
     ]
    },
    {
     "name": "stdout",
     "output_type": "stream",
     "text": [
      "ratio = 1.0, xiD = [-0.52230627  0.04451254], lambda = -0.939372808445852\n"
     ]
    },
    {
     "name": "stderr",
     "output_type": "stream",
     "text": [
      "d:\\programs\\Anaconda\\lib\\site-packages\\composipy\\optimize\\_maximize_buckling.py:109: UserWarning: Loads will be normalized, prefer to use loads between -1 and 1 (Nxx = -1, Nyy = -1.5, Nxy = -3.5)\n",
      "  warnings.warn(f'Loads will be normalized, prefer to use loads between -1 and 1 (Nxx = {Nxx}, Nyy = {Nyy}, Nxy = {Nxy})')\n"
     ]
    },
    {
     "name": "stdout",
     "output_type": "stream",
     "text": [
      "ratio = 1.5, xiD = [-0.67268785  0.34527571], lambda = -0.7969344598808065\n"
     ]
    },
    {
     "name": "stderr",
     "output_type": "stream",
     "text": [
      "d:\\programs\\Anaconda\\lib\\site-packages\\composipy\\optimize\\_maximize_buckling.py:109: UserWarning: Loads will be normalized, prefer to use loads between -1 and 1 (Nxx = -1, Nyy = -2.0, Nxy = -3.5)\n",
      "  warnings.warn(f'Loads will be normalized, prefer to use loads between -1 and 1 (Nxx = {Nxx}, Nyy = {Nyy}, Nxy = {Nxy})')\n"
     ]
    },
    {
     "name": "stdout",
     "output_type": "stream",
     "text": [
      "ratio = 2.0, xiD = [-0.78338628  0.56667255], lambda = -0.6841843842792728\n"
     ]
    },
    {
     "name": "stderr",
     "output_type": "stream",
     "text": [
      "d:\\programs\\Anaconda\\lib\\site-packages\\composipy\\optimize\\_maximize_buckling.py:109: UserWarning: Loads will be normalized, prefer to use loads between -1 and 1 (Nxx = -1, Nyy = -2.5, Nxy = -3.5)\n",
      "  warnings.warn(f'Loads will be normalized, prefer to use loads between -1 and 1 (Nxx = {Nxx}, Nyy = {Nyy}, Nxy = {Nxy})')\n"
     ]
    },
    {
     "name": "stdout",
     "output_type": "stream",
     "text": [
      "ratio = 2.5, xiD = [-0.86489646  0.72969292], lambda = -0.595302726745674\n",
      "shear_ratio = 4.0\n",
      "=========================\n"
     ]
    },
    {
     "name": "stderr",
     "output_type": "stream",
     "text": [
      "d:\\programs\\Anaconda\\lib\\site-packages\\composipy\\optimize\\_maximize_buckling.py:109: UserWarning: Loads will be normalized, prefer to use loads between -1 and 1 (Nxx = -1, Nyy = 0, Nxy = -4.0)\n",
      "  warnings.warn(f'Loads will be normalized, prefer to use loads between -1 and 1 (Nxx = {Nxx}, Nyy = {Nyy}, Nxy = {Nxy})')\n"
     ]
    },
    {
     "name": "stdout",
     "output_type": "stream",
     "text": [
      "ratio = 0, xiD = [-0.07791688 -0.84426625], lambda = -1.182608802180392\n"
     ]
    },
    {
     "name": "stderr",
     "output_type": "stream",
     "text": [
      "d:\\programs\\Anaconda\\lib\\site-packages\\composipy\\optimize\\_maximize_buckling.py:109: UserWarning: Loads will be normalized, prefer to use loads between -1 and 1 (Nxx = -1, Nyy = -0.5, Nxy = -4.0)\n",
      "  warnings.warn(f'Loads will be normalized, prefer to use loads between -1 and 1 (Nxx = {Nxx}, Nyy = {Nyy}, Nxy = {Nxy})')\n"
     ]
    },
    {
     "name": "stdout",
     "output_type": "stream",
     "text": [
      "ratio = 0.5, xiD = [-0.31350212 -0.37309576], lambda = -1.0204857545844088\n"
     ]
    },
    {
     "name": "stderr",
     "output_type": "stream",
     "text": [
      "d:\\programs\\Anaconda\\lib\\site-packages\\composipy\\optimize\\_maximize_buckling.py:109: UserWarning: Loads will be normalized, prefer to use loads between -1 and 1 (Nxx = -1, Nyy = -1.0, Nxy = -4.0)\n",
      "  warnings.warn(f'Loads will be normalized, prefer to use loads between -1 and 1 (Nxx = {Nxx}, Nyy = {Nyy}, Nxy = {Nxy})')\n"
     ]
    },
    {
     "name": "stdout",
     "output_type": "stream",
     "text": [
      "ratio = 1.0, xiD = [-0.49821367 -0.00367265], lambda = -0.8767058304054359\n"
     ]
    },
    {
     "name": "stderr",
     "output_type": "stream",
     "text": [
      "d:\\programs\\Anaconda\\lib\\site-packages\\composipy\\optimize\\_maximize_buckling.py:109: UserWarning: Loads will be normalized, prefer to use loads between -1 and 1 (Nxx = -1, Nyy = -1.5, Nxy = -4.0)\n",
      "  warnings.warn(f'Loads will be normalized, prefer to use loads between -1 and 1 (Nxx = {Nxx}, Nyy = {Nyy}, Nxy = {Nxy})')\n"
     ]
    },
    {
     "name": "stdout",
     "output_type": "stream",
     "text": [
      "ratio = 1.5, xiD = [-0.64233914  0.28457829], lambda = -0.7558656543138071\n"
     ]
    },
    {
     "name": "stderr",
     "output_type": "stream",
     "text": [
      "d:\\programs\\Anaconda\\lib\\site-packages\\composipy\\optimize\\_maximize_buckling.py:109: UserWarning: Loads will be normalized, prefer to use loads between -1 and 1 (Nxx = -1, Nyy = -2.0, Nxy = -4.0)\n",
      "  warnings.warn(f'Loads will be normalized, prefer to use loads between -1 and 1 (Nxx = {Nxx}, Nyy = {Nyy}, Nxy = {Nxy})')\n"
     ]
    },
    {
     "name": "stdout",
     "output_type": "stream",
     "text": [
      "ratio = 2.0, xiD = [-0.75267281  0.50524562], lambda = -0.6569964886777405\n"
     ]
    },
    {
     "name": "stderr",
     "output_type": "stream",
     "text": [
      "d:\\programs\\Anaconda\\lib\\site-packages\\composipy\\optimize\\_maximize_buckling.py:109: UserWarning: Loads will be normalized, prefer to use loads between -1 and 1 (Nxx = -1, Nyy = -2.5, Nxy = -4.0)\n",
      "  warnings.warn(f'Loads will be normalized, prefer to use loads between -1 and 1 (Nxx = {Nxx}, Nyy = {Nyy}, Nxy = {Nxy})')\n"
     ]
    },
    {
     "name": "stdout",
     "output_type": "stream",
     "text": [
      "ratio = 2.5, xiD = [-0.83651466  0.67292931], lambda = -0.5768727341886183\n"
     ]
    }
   ],
   "source": [
    "# Nxx, Nyy, Nxy\n",
    "T = 1.016\n",
    "ratio = [0, 0.5, 1.0, 1.5, 2.0, 2.5]\n",
    "shear_ratio = [0, 0.5, 1.0, 2.0, 2.5, 3.0, 3.5, 4.0]\n",
    "\n",
    "for sr in shear_ratio:\n",
    "    print(f'shear_ratio = {sr}')\n",
    "    print('=========================')\n",
    "    for r in ratio:\n",
    "        res = optimize_panel_shear(r, T, sr)\n",
    "        fun = res.fun\n",
    "\n",
    "        if max(r, sr) > 1:\n",
    "            fun = fun / max(r, sr) #it compensates function natural normalization\n",
    "\n",
    "        print(f'ratio = {r}, xiD = {res.x}, lambda = {fun}')"
   ]
  },
  {
   "cell_type": "markdown",
   "metadata": {},
   "source": [
    "## 3 - Shear study of 3.048 plate"
   ]
  },
  {
   "cell_type": "code",
   "execution_count": 16,
   "metadata": {},
   "outputs": [
    {
     "name": "stdout",
     "output_type": "stream",
     "text": [
      "shear_ratio = 0\n",
      "=========================\n",
      "ratio = 0, xiD = [ 5.e-05 -1.e+00], lambda = -102.73893486788616\n",
      "ratio = 0.5, xiD = [-0.47913166 -0.04183668], lambda = -55.94501287278696\n",
      "ratio = 1.0, xiD = [-0.74205528  0.48401057], lambda = -36.79407952511801\n"
     ]
    },
    {
     "name": "stderr",
     "output_type": "stream",
     "text": [
      "d:\\programs\\Anaconda\\lib\\site-packages\\composipy\\optimize\\_maximize_buckling.py:109: UserWarning: Loads will be normalized, prefer to use loads between -1 and 1 (Nxx = -1, Nyy = -1.5, Nxy = 0)\n",
      "  warnings.warn(f'Loads will be normalized, prefer to use loads between -1 and 1 (Nxx = {Nxx}, Nyy = {Nyy}, Nxy = {Nxy})')\n"
     ]
    },
    {
     "name": "stdout",
     "output_type": "stream",
     "text": [
      "ratio = 1.5, xiD = [-0.87087768  0.74165535], lambda = -27.410870722909944\n"
     ]
    },
    {
     "name": "stderr",
     "output_type": "stream",
     "text": [
      "d:\\programs\\Anaconda\\lib\\site-packages\\composipy\\optimize\\_maximize_buckling.py:109: UserWarning: Loads will be normalized, prefer to use loads between -1 and 1 (Nxx = -1, Nyy = -2.0, Nxy = 0)\n",
      "  warnings.warn(f'Loads will be normalized, prefer to use loads between -1 and 1 (Nxx = {Nxx}, Nyy = {Nyy}, Nxy = {Nxy})')\n"
     ]
    },
    {
     "name": "stdout",
     "output_type": "stream",
     "text": [
      "ratio = 2.0, xiD = [-0.94734674  0.89459348], lambda = -21.840991328848904\n"
     ]
    },
    {
     "name": "stderr",
     "output_type": "stream",
     "text": [
      "d:\\programs\\Anaconda\\lib\\site-packages\\composipy\\optimize\\_maximize_buckling.py:109: UserWarning: Loads will be normalized, prefer to use loads between -1 and 1 (Nxx = -1, Nyy = -2.5, Nxy = 0)\n",
      "  warnings.warn(f'Loads will be normalized, prefer to use loads between -1 and 1 (Nxx = {Nxx}, Nyy = {Nyy}, Nxy = {Nxy})')\n"
     ]
    },
    {
     "name": "stdout",
     "output_type": "stream",
     "text": [
      "ratio = 2.5, xiD = [-0.99798702  0.99587404], lambda = -18.152424029155444\n",
      "shear_ratio = 0.5\n",
      "=========================\n",
      "ratio = 0, xiD = [-4.99999999e-05 -1.00000000e+00], lambda = -93.42016527438535\n",
      "ratio = 0.5, xiD = [-0.46196343 -0.07617314], lambda = -54.41595085466876\n",
      "ratio = 1.0, xiD = [-0.73092959  0.46175919], lambda = -36.36897974197326\n"
     ]
    },
    {
     "name": "stderr",
     "output_type": "stream",
     "text": [
      "d:\\programs\\Anaconda\\lib\\site-packages\\composipy\\optimize\\_maximize_buckling.py:109: UserWarning: Loads will be normalized, prefer to use loads between -1 and 1 (Nxx = -1, Nyy = -1.5, Nxy = 0.5)\n",
      "  warnings.warn(f'Loads will be normalized, prefer to use loads between -1 and 1 (Nxx = {Nxx}, Nyy = {Nyy}, Nxy = {Nxy})')\n"
     ]
    },
    {
     "name": "stdout",
     "output_type": "stream",
     "text": [
      "ratio = 1.5, xiD = [-0.86369287  0.72728574], lambda = -27.236263409090466\n"
     ]
    },
    {
     "name": "stderr",
     "output_type": "stream",
     "text": [
      "d:\\programs\\Anaconda\\lib\\site-packages\\composipy\\optimize\\_maximize_buckling.py:109: UserWarning: Loads will be normalized, prefer to use loads between -1 and 1 (Nxx = -1, Nyy = -2.0, Nxy = 0.5)\n",
      "  warnings.warn(f'Loads will be normalized, prefer to use loads between -1 and 1 (Nxx = {Nxx}, Nyy = {Nyy}, Nxy = {Nxy})')\n"
     ]
    },
    {
     "name": "stdout",
     "output_type": "stream",
     "text": [
      "ratio = 2.0, xiD = [-0.94239946  0.88469892], lambda = -21.75282612253031\n"
     ]
    },
    {
     "name": "stderr",
     "output_type": "stream",
     "text": [
      "d:\\programs\\Anaconda\\lib\\site-packages\\composipy\\optimize\\_maximize_buckling.py:109: UserWarning: Loads will be normalized, prefer to use loads between -1 and 1 (Nxx = -1, Nyy = -2.5, Nxy = 0.5)\n",
      "  warnings.warn(f'Loads will be normalized, prefer to use loads between -1 and 1 (Nxx = {Nxx}, Nyy = {Nyy}, Nxy = {Nxy})')\n"
     ]
    },
    {
     "name": "stdout",
     "output_type": "stream",
     "text": [
      "ratio = 2.5, xiD = [-0.99439054  0.98868108], lambda = -18.1018176177497\n",
      "shear_ratio = 1.0\n",
      "=========================\n",
      "ratio = 0, xiD = [-4.99999998e-05 -1.00000000e+00], lambda = -77.12129597003523\n",
      "ratio = 0.5, xiD = [-0.42556887 -0.14896226], lambda = -50.46886020304189\n",
      "ratio = 1.0, xiD = [-0.70143369  0.40276738], lambda = -35.16683115086013\n"
     ]
    },
    {
     "name": "stderr",
     "output_type": "stream",
     "text": [
      "d:\\programs\\Anaconda\\lib\\site-packages\\composipy\\optimize\\_maximize_buckling.py:109: UserWarning: Loads will be normalized, prefer to use loads between -1 and 1 (Nxx = -1, Nyy = -1.5, Nxy = 1.0)\n",
      "  warnings.warn(f'Loads will be normalized, prefer to use loads between -1 and 1 (Nxx = {Nxx}, Nyy = {Nyy}, Nxy = {Nxy})')\n"
     ]
    },
    {
     "name": "stdout",
     "output_type": "stream",
     "text": [
      "ratio = 1.5, xiD = [-0.84346966  0.68683933], lambda = -26.728742751436275\n"
     ]
    },
    {
     "name": "stderr",
     "output_type": "stream",
     "text": [
      "d:\\programs\\Anaconda\\lib\\site-packages\\composipy\\optimize\\_maximize_buckling.py:109: UserWarning: Loads will be normalized, prefer to use loads between -1 and 1 (Nxx = -1, Nyy = -2.0, Nxy = 1.0)\n",
      "  warnings.warn(f'Loads will be normalized, prefer to use loads between -1 and 1 (Nxx = {Nxx}, Nyy = {Nyy}, Nxy = {Nxy})')\n"
     ]
    },
    {
     "name": "stdout",
     "output_type": "stream",
     "text": [
      "ratio = 2.0, xiD = [-0.92812509  0.85615018], lambda = -21.493536769170518\n"
     ]
    },
    {
     "name": "stderr",
     "output_type": "stream",
     "text": [
      "d:\\programs\\Anaconda\\lib\\site-packages\\composipy\\optimize\\_maximize_buckling.py:109: UserWarning: Loads will be normalized, prefer to use loads between -1 and 1 (Nxx = -1, Nyy = -2.5, Nxy = 1.0)\n",
      "  warnings.warn(f'Loads will be normalized, prefer to use loads between -1 and 1 (Nxx = {Nxx}, Nyy = {Nyy}, Nxy = {Nxy})')\n"
     ]
    },
    {
     "name": "stdout",
     "output_type": "stream",
     "text": [
      "ratio = 2.5, xiD = [-0.98388155  0.9676631 ], lambda = -17.952072540588492\n",
      "shear_ratio = 2.0\n",
      "=========================\n"
     ]
    },
    {
     "name": "stderr",
     "output_type": "stream",
     "text": [
      "d:\\programs\\Anaconda\\lib\\site-packages\\composipy\\optimize\\_maximize_buckling.py:109: UserWarning: Loads will be normalized, prefer to use loads between -1 and 1 (Nxx = -1, Nyy = 0, Nxy = 2.0)\n",
      "  warnings.warn(f'Loads will be normalized, prefer to use loads between -1 and 1 (Nxx = {Nxx}, Nyy = {Nyy}, Nxy = {Nxy})')\n"
     ]
    },
    {
     "name": "stdout",
     "output_type": "stream",
     "text": [
      "ratio = 0, xiD = [-5.00000006e-05 -1.00000000e+00], lambda = -53.40972202711172\n"
     ]
    },
    {
     "name": "stderr",
     "output_type": "stream",
     "text": [
      "d:\\programs\\Anaconda\\lib\\site-packages\\composipy\\optimize\\_maximize_buckling.py:109: UserWarning: Loads will be normalized, prefer to use loads between -1 and 1 (Nxx = -1, Nyy = -0.5, Nxy = 2.0)\n",
      "  warnings.warn(f'Loads will be normalized, prefer to use loads between -1 and 1 (Nxx = {Nxx}, Nyy = {Nyy}, Nxy = {Nxy})')\n"
     ]
    },
    {
     "name": "stdout",
     "output_type": "stream",
     "text": [
      "ratio = 0.5, xiD = [-0.36463649 -0.27082701], lambda = -40.81825677618184\n"
     ]
    },
    {
     "name": "stderr",
     "output_type": "stream",
     "text": [
      "d:\\programs\\Anaconda\\lib\\site-packages\\composipy\\optimize\\_maximize_buckling.py:109: UserWarning: Loads will be normalized, prefer to use loads between -1 and 1 (Nxx = -1, Nyy = -1.0, Nxy = 2.0)\n",
      "  warnings.warn(f'Loads will be normalized, prefer to use loads between -1 and 1 (Nxx = {Nxx}, Nyy = {Nyy}, Nxy = {Nxy})')\n"
     ]
    },
    {
     "name": "stdout",
     "output_type": "stream",
     "text": [
      "ratio = 1.0, xiD = [-0.62150463  0.24290928], lambda = -31.34994133662994\n"
     ]
    },
    {
     "name": "stderr",
     "output_type": "stream",
     "text": [
      "d:\\programs\\Anaconda\\lib\\site-packages\\composipy\\optimize\\_maximize_buckling.py:109: UserWarning: Loads will be normalized, prefer to use loads between -1 and 1 (Nxx = -1, Nyy = -1.5, Nxy = 2.0)\n",
      "  warnings.warn(f'Loads will be normalized, prefer to use loads between -1 and 1 (Nxx = {Nxx}, Nyy = {Nyy}, Nxy = {Nxy})')\n"
     ]
    },
    {
     "name": "stdout",
     "output_type": "stream",
     "text": [
      "ratio = 1.5, xiD = [-0.77851572  0.55693144], lambda = -24.94299919471616\n"
     ]
    },
    {
     "name": "stderr",
     "output_type": "stream",
     "text": [
      "d:\\programs\\Anaconda\\lib\\site-packages\\composipy\\optimize\\_maximize_buckling.py:109: UserWarning: Loads will be normalized, prefer to use loads between -1 and 1 (Nxx = -1, Nyy = -2.0, Nxy = 2.0)\n",
      "  warnings.warn(f'Loads will be normalized, prefer to use loads between -1 and 1 (Nxx = {Nxx}, Nyy = {Nyy}, Nxy = {Nxy})')\n"
     ]
    },
    {
     "name": "stdout",
     "output_type": "stream",
     "text": [
      "ratio = 2.0, xiD = [-0.87845576  0.75681152], lambda = -20.53665384359972\n"
     ]
    },
    {
     "name": "stderr",
     "output_type": "stream",
     "text": [
      "d:\\programs\\Anaconda\\lib\\site-packages\\composipy\\optimize\\_maximize_buckling.py:109: UserWarning: Loads will be normalized, prefer to use loads between -1 and 1 (Nxx = -1, Nyy = -2.5, Nxy = 2.0)\n",
      "  warnings.warn(f'Loads will be normalized, prefer to use loads between -1 and 1 (Nxx = {Nxx}, Nyy = {Nyy}, Nxy = {Nxy})')\n"
     ]
    },
    {
     "name": "stdout",
     "output_type": "stream",
     "text": [
      "ratio = 2.5, xiD = [-0.94569314  0.89128627], lambda = -17.385268200684397\n",
      "shear_ratio = 2.5\n",
      "=========================\n"
     ]
    },
    {
     "name": "stderr",
     "output_type": "stream",
     "text": [
      "d:\\programs\\Anaconda\\lib\\site-packages\\composipy\\optimize\\_maximize_buckling.py:109: UserWarning: Loads will be normalized, prefer to use loads between -1 and 1 (Nxx = -1, Nyy = 0, Nxy = 2.5)\n",
      "  warnings.warn(f'Loads will be normalized, prefer to use loads between -1 and 1 (Nxx = {Nxx}, Nyy = {Nyy}, Nxy = {Nxy})')\n"
     ]
    },
    {
     "name": "stdout",
     "output_type": "stream",
     "text": [
      "ratio = 0, xiD = [-5.00000004e-05 -1.00000000e+00], lambda = -45.87519483489688\n"
     ]
    },
    {
     "name": "stderr",
     "output_type": "stream",
     "text": [
      "d:\\programs\\Anaconda\\lib\\site-packages\\composipy\\optimize\\_maximize_buckling.py:109: UserWarning: Loads will be normalized, prefer to use loads between -1 and 1 (Nxx = -1, Nyy = -0.5, Nxy = 2.5)\n",
      "  warnings.warn(f'Loads will be normalized, prefer to use loads between -1 and 1 (Nxx = {Nxx}, Nyy = {Nyy}, Nxy = {Nxy})')\n"
     ]
    },
    {
     "name": "stdout",
     "output_type": "stream",
     "text": [
      "ratio = 0.5, xiD = [-0.34565457 -0.30879064], lambda = -36.645399998342455\n"
     ]
    },
    {
     "name": "stderr",
     "output_type": "stream",
     "text": [
      "d:\\programs\\Anaconda\\lib\\site-packages\\composipy\\optimize\\_maximize_buckling.py:109: UserWarning: Loads will be normalized, prefer to use loads between -1 and 1 (Nxx = -1, Nyy = -1.0, Nxy = 2.5)\n",
      "  warnings.warn(f'Loads will be normalized, prefer to use loads between -1 and 1 (Nxx = {Nxx}, Nyy = {Nyy}, Nxy = {Nxy})')\n"
     ]
    },
    {
     "name": "stdout",
     "output_type": "stream",
     "text": [
      "ratio = 1.0, xiD = [-0.58373758  0.16737516], lambda = -29.2453555369931\n"
     ]
    },
    {
     "name": "stderr",
     "output_type": "stream",
     "text": [
      "d:\\programs\\Anaconda\\lib\\site-packages\\composipy\\optimize\\_maximize_buckling.py:109: UserWarning: Loads will be normalized, prefer to use loads between -1 and 1 (Nxx = -1, Nyy = -1.5, Nxy = 2.5)\n",
      "  warnings.warn(f'Loads will be normalized, prefer to use loads between -1 and 1 (Nxx = {Nxx}, Nyy = {Nyy}, Nxy = {Nxy})')\n"
     ]
    },
    {
     "name": "stdout",
     "output_type": "stream",
     "text": [
      "ratio = 1.5, xiD = [-0.74178089  0.48346178], lambda = -23.828266754290734\n"
     ]
    },
    {
     "name": "stderr",
     "output_type": "stream",
     "text": [
      "d:\\programs\\Anaconda\\lib\\site-packages\\composipy\\optimize\\_maximize_buckling.py:109: UserWarning: Loads will be normalized, prefer to use loads between -1 and 1 (Nxx = -1, Nyy = -2.0, Nxy = 2.5)\n",
      "  warnings.warn(f'Loads will be normalized, prefer to use loads between -1 and 1 (Nxx = {Nxx}, Nyy = {Nyy}, Nxy = {Nxy})')\n"
     ]
    },
    {
     "name": "stdout",
     "output_type": "stream",
     "text": [
      "ratio = 2.0, xiD = [-0.84753576  0.69497152], lambda = -19.899127672244404\n"
     ]
    },
    {
     "name": "stderr",
     "output_type": "stream",
     "text": [
      "d:\\programs\\Anaconda\\lib\\site-packages\\composipy\\optimize\\_maximize_buckling.py:109: UserWarning: Loads will be normalized, prefer to use loads between -1 and 1 (Nxx = -1, Nyy = -2.5, Nxy = 2.5)\n",
      "  warnings.warn(f'Loads will be normalized, prefer to use loads between -1 and 1 (Nxx = {Nxx}, Nyy = {Nyy}, Nxy = {Nxy})')\n"
     ]
    },
    {
     "name": "stdout",
     "output_type": "stream",
     "text": [
      "ratio = 2.5, xiD = [-0.92056333  0.84102666], lambda = -16.99351407453444\n",
      "shear_ratio = 3.0\n",
      "=========================\n"
     ]
    },
    {
     "name": "stderr",
     "output_type": "stream",
     "text": [
      "d:\\programs\\Anaconda\\lib\\site-packages\\composipy\\optimize\\_maximize_buckling.py:109: UserWarning: Loads will be normalized, prefer to use loads between -1 and 1 (Nxx = -1, Nyy = 0, Nxy = 3.0)\n",
      "  warnings.warn(f'Loads will be normalized, prefer to use loads between -1 and 1 (Nxx = {Nxx}, Nyy = {Nyy}, Nxy = {Nxy})')\n"
     ]
    },
    {
     "name": "stdout",
     "output_type": "stream",
     "text": [
      "ratio = 0, xiD = [-0.02572596 -0.94864808], lambda = -40.08610694193087\n"
     ]
    },
    {
     "name": "stderr",
     "output_type": "stream",
     "text": [
      "d:\\programs\\Anaconda\\lib\\site-packages\\composipy\\optimize\\_maximize_buckling.py:109: UserWarning: Loads will be normalized, prefer to use loads between -1 and 1 (Nxx = -1, Nyy = -0.5, Nxy = 3.0)\n",
      "  warnings.warn(f'Loads will be normalized, prefer to use loads between -1 and 1 (Nxx = {Nxx}, Nyy = {Nyy}, Nxy = {Nxy})')\n"
     ]
    },
    {
     "name": "stdout",
     "output_type": "stream",
     "text": [
      "ratio = 0.5, xiD = [-0.33181586 -0.33646829], lambda = -33.09510280265455\n"
     ]
    },
    {
     "name": "stderr",
     "output_type": "stream",
     "text": [
      "d:\\programs\\Anaconda\\lib\\site-packages\\composipy\\optimize\\_maximize_buckling.py:109: UserWarning: Loads will be normalized, prefer to use loads between -1 and 1 (Nxx = -1, Nyy = -1.0, Nxy = 3.0)\n",
      "  warnings.warn(f'Loads will be normalized, prefer to use loads between -1 and 1 (Nxx = {Nxx}, Nyy = {Nyy}, Nxy = {Nxy})')\n"
     ]
    },
    {
     "name": "stdout",
     "output_type": "stream",
     "text": [
      "ratio = 1.0, xiD = [-0.55064187  0.10118376], lambda = -27.227891558740293\n"
     ]
    },
    {
     "name": "stderr",
     "output_type": "stream",
     "text": [
      "d:\\programs\\Anaconda\\lib\\site-packages\\composipy\\optimize\\_maximize_buckling.py:109: UserWarning: Loads will be normalized, prefer to use loads between -1 and 1 (Nxx = -1, Nyy = -1.5, Nxy = 3.0)\n",
      "  warnings.warn(f'Loads will be normalized, prefer to use loads between -1 and 1 (Nxx = {Nxx}, Nyy = {Nyy}, Nxy = {Nxy})')\n"
     ]
    },
    {
     "name": "stdout",
     "output_type": "stream",
     "text": [
      "ratio = 1.5, xiD = [-0.70603079  0.41196158], lambda = -22.6684448004703\n"
     ]
    },
    {
     "name": "stderr",
     "output_type": "stream",
     "text": [
      "d:\\programs\\Anaconda\\lib\\site-packages\\composipy\\optimize\\_maximize_buckling.py:109: UserWarning: Loads will be normalized, prefer to use loads between -1 and 1 (Nxx = -1, Nyy = -2.0, Nxy = 3.0)\n",
      "  warnings.warn(f'Loads will be normalized, prefer to use loads between -1 and 1 (Nxx = {Nxx}, Nyy = {Nyy}, Nxy = {Nxy})')\n"
     ]
    },
    {
     "name": "stdout",
     "output_type": "stream",
     "text": [
      "ratio = 2.0, xiD = [-0.81534056  0.63058111], lambda = -19.20108161883388\n"
     ]
    },
    {
     "name": "stderr",
     "output_type": "stream",
     "text": [
      "d:\\programs\\Anaconda\\lib\\site-packages\\composipy\\optimize\\_maximize_buckling.py:109: UserWarning: Loads will be normalized, prefer to use loads between -1 and 1 (Nxx = -1, Nyy = -2.5, Nxy = 3.0)\n",
      "  warnings.warn(f'Loads will be normalized, prefer to use loads between -1 and 1 (Nxx = {Nxx}, Nyy = {Nyy}, Nxy = {Nxy})')\n"
     ]
    },
    {
     "name": "stdout",
     "output_type": "stream",
     "text": [
      "ratio = 2.5, xiD = [-0.89323063  0.78636126], lambda = -16.550716519079806\n",
      "shear_ratio = 3.5\n",
      "=========================\n"
     ]
    },
    {
     "name": "stderr",
     "output_type": "stream",
     "text": [
      "d:\\programs\\Anaconda\\lib\\site-packages\\composipy\\optimize\\_maximize_buckling.py:109: UserWarning: Loads will be normalized, prefer to use loads between -1 and 1 (Nxx = -1, Nyy = 0, Nxy = 3.5)\n",
      "  warnings.warn(f'Loads will be normalized, prefer to use loads between -1 and 1 (Nxx = {Nxx}, Nyy = {Nyy}, Nxy = {Nxy})')\n"
     ]
    },
    {
     "name": "stdout",
     "output_type": "stream",
     "text": [
      "ratio = 0, xiD = [-0.05501136 -0.89007729], lambda = -35.5545601190607\n"
     ]
    },
    {
     "name": "stderr",
     "output_type": "stream",
     "text": [
      "d:\\programs\\Anaconda\\lib\\site-packages\\composipy\\optimize\\_maximize_buckling.py:109: UserWarning: Loads will be normalized, prefer to use loads between -1 and 1 (Nxx = -1, Nyy = -0.5, Nxy = 3.5)\n",
      "  warnings.warn(f'Loads will be normalized, prefer to use loads between -1 and 1 (Nxx = {Nxx}, Nyy = {Nyy}, Nxy = {Nxy})')\n"
     ]
    },
    {
     "name": "stdout",
     "output_type": "stream",
     "text": [
      "ratio = 0.5, xiD = [-0.32146358 -0.35717285], lambda = -30.095502082773013\n"
     ]
    },
    {
     "name": "stderr",
     "output_type": "stream",
     "text": [
      "d:\\programs\\Anaconda\\lib\\site-packages\\composipy\\optimize\\_maximize_buckling.py:109: UserWarning: Loads will be normalized, prefer to use loads between -1 and 1 (Nxx = -1, Nyy = -1.0, Nxy = 3.5)\n",
      "  warnings.warn(f'Loads will be normalized, prefer to use loads between -1 and 1 (Nxx = {Nxx}, Nyy = {Nyy}, Nxy = {Nxy})')\n"
     ]
    },
    {
     "name": "stdout",
     "output_type": "stream",
     "text": [
      "ratio = 1.0, xiD = [-0.52230745  0.04451489], lambda = -25.36307105467693\n"
     ]
    },
    {
     "name": "stderr",
     "output_type": "stream",
     "text": [
      "d:\\programs\\Anaconda\\lib\\site-packages\\composipy\\optimize\\_maximize_buckling.py:109: UserWarning: Loads will be normalized, prefer to use loads between -1 and 1 (Nxx = -1, Nyy = -1.5, Nxy = 3.5)\n",
      "  warnings.warn(f'Loads will be normalized, prefer to use loads between -1 and 1 (Nxx = {Nxx}, Nyy = {Nyy}, Nxy = {Nxy})')\n"
     ]
    },
    {
     "name": "stdout",
     "output_type": "stream",
     "text": [
      "ratio = 1.5, xiD = [-0.67268743  0.34527485], lambda = -21.517232267281482\n"
     ]
    },
    {
     "name": "stderr",
     "output_type": "stream",
     "text": [
      "d:\\programs\\Anaconda\\lib\\site-packages\\composipy\\optimize\\_maximize_buckling.py:109: UserWarning: Loads will be normalized, prefer to use loads between -1 and 1 (Nxx = -1, Nyy = -2.0, Nxy = 3.5)\n",
      "  warnings.warn(f'Loads will be normalized, prefer to use loads between -1 and 1 (Nxx = {Nxx}, Nyy = {Nyy}, Nxy = {Nxy})')\n"
     ]
    },
    {
     "name": "stdout",
     "output_type": "stream",
     "text": [
      "ratio = 2.0, xiD = [-0.7833868   0.56667363], lambda = -18.472980584497098\n"
     ]
    },
    {
     "name": "stderr",
     "output_type": "stream",
     "text": [
      "d:\\programs\\Anaconda\\lib\\site-packages\\composipy\\optimize\\_maximize_buckling.py:109: UserWarning: Loads will be normalized, prefer to use loads between -1 and 1 (Nxx = -1, Nyy = -2.5, Nxy = 3.5)\n",
      "  warnings.warn(f'Loads will be normalized, prefer to use loads between -1 and 1 (Nxx = {Nxx}, Nyy = {Nyy}, Nxy = {Nxy})')\n"
     ]
    },
    {
     "name": "stdout",
     "output_type": "stream",
     "text": [
      "ratio = 2.5, xiD = [-0.86489639  0.72969277], lambda = -16.073173329844433\n",
      "shear_ratio = 4.0\n",
      "=========================\n"
     ]
    },
    {
     "name": "stderr",
     "output_type": "stream",
     "text": [
      "d:\\programs\\Anaconda\\lib\\site-packages\\composipy\\optimize\\_maximize_buckling.py:109: UserWarning: Loads will be normalized, prefer to use loads between -1 and 1 (Nxx = -1, Nyy = 0, Nxy = 4.0)\n",
      "  warnings.warn(f'Loads will be normalized, prefer to use loads between -1 and 1 (Nxx = {Nxx}, Nyy = {Nyy}, Nxy = {Nxy})')\n"
     ]
    },
    {
     "name": "stdout",
     "output_type": "stream",
     "text": [
      "ratio = 0, xiD = [-0.0779157 -0.8442686], lambda = -31.93043970656103\n"
     ]
    },
    {
     "name": "stderr",
     "output_type": "stream",
     "text": [
      "d:\\programs\\Anaconda\\lib\\site-packages\\composipy\\optimize\\_maximize_buckling.py:109: UserWarning: Loads will be normalized, prefer to use loads between -1 and 1 (Nxx = -1, Nyy = -0.5, Nxy = 4.0)\n",
      "  warnings.warn(f'Loads will be normalized, prefer to use loads between -1 and 1 (Nxx = {Nxx}, Nyy = {Nyy}, Nxy = {Nxy})')\n"
     ]
    },
    {
     "name": "stdout",
     "output_type": "stream",
     "text": [
      "ratio = 0.5, xiD = [-0.31350239 -0.37309522], lambda = -27.553116225075783\n"
     ]
    },
    {
     "name": "stderr",
     "output_type": "stream",
     "text": [
      "d:\\programs\\Anaconda\\lib\\site-packages\\composipy\\optimize\\_maximize_buckling.py:109: UserWarning: Loads will be normalized, prefer to use loads between -1 and 1 (Nxx = -1, Nyy = -1.0, Nxy = 4.0)\n",
      "  warnings.warn(f'Loads will be normalized, prefer to use loads between -1 and 1 (Nxx = {Nxx}, Nyy = {Nyy}, Nxy = {Nxy})')\n"
     ]
    },
    {
     "name": "stdout",
     "output_type": "stream",
     "text": [
      "ratio = 1.0, xiD = [-0.49821348 -0.00367304], lambda = -23.67105746288599\n"
     ]
    },
    {
     "name": "stderr",
     "output_type": "stream",
     "text": [
      "d:\\programs\\Anaconda\\lib\\site-packages\\composipy\\optimize\\_maximize_buckling.py:109: UserWarning: Loads will be normalized, prefer to use loads between -1 and 1 (Nxx = -1, Nyy = -1.5, Nxy = 4.0)\n",
      "  warnings.warn(f'Loads will be normalized, prefer to use loads between -1 and 1 (Nxx = {Nxx}, Nyy = {Nyy}, Nxy = {Nxy})')\n"
     ]
    },
    {
     "name": "stdout",
     "output_type": "stream",
     "text": [
      "ratio = 1.5, xiD = [-0.6423394   0.28457908], lambda = -20.40837325477989\n"
     ]
    },
    {
     "name": "stderr",
     "output_type": "stream",
     "text": [
      "d:\\programs\\Anaconda\\lib\\site-packages\\composipy\\optimize\\_maximize_buckling.py:109: UserWarning: Loads will be normalized, prefer to use loads between -1 and 1 (Nxx = -1, Nyy = -2.0, Nxy = 4.0)\n",
      "  warnings.warn(f'Loads will be normalized, prefer to use loads between -1 and 1 (Nxx = {Nxx}, Nyy = {Nyy}, Nxy = {Nxy})')\n"
     ]
    },
    {
     "name": "stdout",
     "output_type": "stream",
     "text": [
      "ratio = 2.0, xiD = [-0.75267334  0.50524667], lambda = -17.7389061182237\n"
     ]
    },
    {
     "name": "stderr",
     "output_type": "stream",
     "text": [
      "d:\\programs\\Anaconda\\lib\\site-packages\\composipy\\optimize\\_maximize_buckling.py:109: UserWarning: Loads will be normalized, prefer to use loads between -1 and 1 (Nxx = -1, Nyy = -2.5, Nxy = 4.0)\n",
      "  warnings.warn(f'Loads will be normalized, prefer to use loads between -1 and 1 (Nxx = {Nxx}, Nyy = {Nyy}, Nxy = {Nxy})')\n"
     ]
    },
    {
     "name": "stdout",
     "output_type": "stream",
     "text": [
      "ratio = 2.5, xiD = [-0.83651554  0.67293107], lambda = -15.575567021824352\n"
     ]
    }
   ],
   "source": [
    "# Nxx, Nyy, Nxy\n",
    "T = 3.048\n",
    "ratio = [0, 0.5, 1.0, 1.5, 2.0, 2.5]\n",
    "shear_ratio = [0, 0.5, 1.0, 2.0, 2.5, 3.0, 3.5, 4.0]\n",
    "\n",
    "for sr in shear_ratio:\n",
    "    print(f'shear_ratio = {sr}')\n",
    "    print('=========================')\n",
    "    for r in ratio:\n",
    "        res = optimize_panel_shear(r, T, sr)\n",
    "        fun = res.fun\n",
    "\n",
    "        if max(r, sr) > 1:\n",
    "            fun = fun / max(r, sr) #it compensates function natural normalization\n",
    "\n",
    "        print(f'ratio = {r}, xiD = {res.x}, lambda = {fun}')"
   ]
  },
  {
   "cell_type": "markdown",
   "metadata": {},
   "source": [
    "## Sanity check"
   ]
  },
  {
   "cell_type": "code",
   "execution_count": 12,
   "metadata": {},
   "outputs": [],
   "source": [
    "from composipy import OrthotropicMaterial, LaminateProperty, PlateStructure\n",
    "from time import time"
   ]
  },
  {
   "cell_type": "code",
   "execution_count": 10,
   "metadata": {},
   "outputs": [],
   "source": [
    "E1 = 128e3\n",
    "E2 = 13e3\n",
    "G12 = 6.4e3\n",
    "v12 = 0.3\n",
    "a = 508\n",
    "b = 254\n",
    "m = 5\n",
    "n = 5\n",
    "panel_constraint = 'PINNED'\n",
    "\n",
    "Nxx = -1\n",
    "Nyy = -2.5\n",
    "Nxy = -4.0\n",
    "\n",
    "xiD1, xiD3 = -0.83651554,  0.67293107\n",
    "T = 3.048\n"
   ]
  },
  {
   "cell_type": "code",
   "execution_count": 13,
   "metadata": {},
   "outputs": [
    {
     "name": "stdout",
     "output_type": "stream",
     "text": [
      "(array([15.57878921, 15.71109839, 18.71464429, 34.4704654 , 63.24694091]), array([[ 5.41417723e-02, -1.99850207e-01,  1.12450430e-01,\n",
      "        -6.88979923e-01, -1.98808668e+00],\n",
      "       [-6.00176449e-01,  1.44692527e+00, -2.21073394e+00,\n",
      "         1.85392550e+00, -9.42199643e-01],\n",
      "       [-1.12742739e-02, -2.69707361e-01,  4.95756889e-01,\n",
      "        -2.10556734e+00, -2.94373319e+00],\n",
      "       [ 4.21572059e-01, -8.31313882e-01,  1.52804785e+00,\n",
      "        -7.25123956e-01,  3.35218078e+00],\n",
      "       [ 1.79228244e-01, -1.50395353e-01,  6.65857633e-02,\n",
      "         1.60147884e+00,  2.88693316e+00],\n",
      "       [-6.00176449e-01, -1.44692527e+00, -2.21073394e+00,\n",
      "        -1.85392550e+00, -9.42199643e-01],\n",
      "       [ 5.41417723e-02,  1.99850207e-01,  1.12450430e-01,\n",
      "         6.88979923e-01, -1.98808668e+00],\n",
      "       [ 1.12742739e-02, -2.69707361e-01, -4.95756889e-01,\n",
      "        -2.10556734e+00,  2.94373319e+00],\n",
      "       [ 4.21572059e-01,  8.31313882e-01,  1.52804785e+00,\n",
      "         7.25123956e-01,  3.35218078e+00],\n",
      "       [-1.79228244e-01, -1.50395353e-01, -6.65857633e-02,\n",
      "         1.60147884e+00, -2.88693316e+00],\n",
      "       [ 8.49562384e-01, -1.67074691e+00, -1.99286254e+00,\n",
      "        -1.86551916e+00,  6.37692724e-01],\n",
      "       [-8.49562384e-01, -1.67074691e+00,  1.99286254e+00,\n",
      "        -1.86551916e+00, -6.37692724e-01],\n",
      "       [ 9.41418372e-01, -1.10853797e-13, -7.17036204e-01,\n",
      "        -1.20285304e-12,  7.36090239e+00],\n",
      "       [-9.50196161e-13,  2.27010432e+00,  2.06989148e-13,\n",
      "         2.52988690e+00,  1.84770009e-12],\n",
      "       [-5.32043668e-01,  4.41888262e-13, -2.38429373e-01,\n",
      "        -2.01139380e-12, -7.63446416e+00],\n",
      "       [ 3.79181265e-01,  1.93143075e+00, -3.81909039e+00,\n",
      "        -2.73625872e+00, -2.92261205e+00],\n",
      "       [ 3.79181265e-01, -1.93143075e+00, -3.81909039e+00,\n",
      "         2.73625872e+00, -2.92261205e+00],\n",
      "       [-5.83311177e-13,  1.87689095e+00, -2.81719092e-13,\n",
      "        -5.85715952e+00,  3.75571103e-13],\n",
      "       [-6.49037243e-01, -4.14335233e-13,  5.69825640e+00,\n",
      "        -6.91963847e-13,  7.14616906e+00],\n",
      "       [ 2.19047003e-13, -9.77236033e-01, -2.67119660e-13,\n",
      "         4.91030085e+00,  3.53889140e-12],\n",
      "       [-9.94041990e-01,  3.46897369e-01,  3.34944098e+00,\n",
      "        -5.29265685e+00, -1.63072143e-01],\n",
      "       [ 9.94041990e-01,  3.46897369e-01, -3.34944098e+00,\n",
      "        -5.29265685e+00,  1.63072143e-01],\n",
      "       [-3.33919823e-01, -5.75095527e-13,  3.40129281e+00,\n",
      "        -1.61993075e-12,  1.03410703e+01],\n",
      "       [ 4.64073224e-14, -1.04162088e+00,  3.73368003e-13,\n",
      "         8.44767737e+00,  2.43893794e-12],\n",
      "       [-1.35392677e-01,  7.14206472e-13, -1.79416515e+00,\n",
      "        -2.41707782e-12, -1.14331109e+01]]))\n",
      "0.08201861381530762 seconds\n"
     ]
    }
   ],
   "source": [
    "stack = {'xiD': [xiD1, 0., xiD3, 0.], 'T': T}\n",
    "mat = OrthotropicMaterial(E1, E2, v12, G12, 0.1)\n",
    "lam = LaminateProperty(stacking=stack, plies=mat)\n",
    "plate = PlateStructure(lam, a, b, panel_constraint, Nxx, Nyy, Nxy, m, n)\n",
    "\n",
    "\n",
    "ti = time()\n",
    "\n",
    "print(plate.buckling_analysis())\n",
    "print(f'{time()-ti} seconds')\n"
   ]
  },
  {
   "cell_type": "code",
   "execution_count": null,
   "metadata": {},
   "outputs": [],
   "source": []
  },
  {
   "cell_type": "code",
   "execution_count": null,
   "metadata": {},
   "outputs": [],
   "source": []
  }
 ],
 "metadata": {
  "kernelspec": {
   "display_name": "base",
   "language": "python",
   "name": "python3"
  },
  "language_info": {
   "codemirror_mode": {
    "name": "ipython",
    "version": 3
   },
   "file_extension": ".py",
   "mimetype": "text/x-python",
   "name": "python",
   "nbconvert_exporter": "python",
   "pygments_lexer": "ipython3",
   "version": "3.9.13"
  },
  "orig_nbformat": 4
 },
 "nbformat": 4,
 "nbformat_minor": 2
}
