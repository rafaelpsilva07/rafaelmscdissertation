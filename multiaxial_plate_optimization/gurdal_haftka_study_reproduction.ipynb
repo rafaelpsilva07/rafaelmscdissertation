{
 "cells": [
  {
   "cell_type": "markdown",
   "metadata": {},
   "source": [
    "Reproduction of Haftka and Gurdal study using composipy.\n",
    "\n",
    "\n",
    "References\n",
    "----------\n",
    "1 - Gurdal, Z. and Haftka, R. T. “Optimization of Composite Laminates,”\n",
    " presented at the NATO Advanced Study Institute on Optimization of Large Structural Systems, Berchtesgaden, Germany, Sept. 23 – Oct. 4, 1991.\n"
   ]
  },
  {
   "cell_type": "code",
   "execution_count": 3,
   "metadata": {},
   "outputs": [],
   "source": [
    "from composipy.optimize import  maximize_buckling_load"
   ]
  },
  {
   "cell_type": "code",
   "execution_count": 4,
   "metadata": {},
   "outputs": [],
   "source": [
    "panel = {'E1': 128e3,\n",
    "            'E2': 13e3,\n",
    "            'G12': 6.4e3,\n",
    "            'v12': 0.3,\n",
    "            'a': 508,\n",
    "            'b': 254,\n",
    "            'm': 7,\n",
    "            'n': 7,\n",
    "            'panel_constraint' : 'PINNED',\n",
    "            'plot': False\n",
    "}"
   ]
  },
  {
   "cell_type": "code",
   "execution_count": 5,
   "metadata": {},
   "outputs": [],
   "source": [
    "def optimize_panel(ratio, Ts):\n",
    "    global panel\n",
    "\n",
    "    return maximize_buckling_load(\n",
    "        T=Ts, Nxx=-1, Nyy=-1*ratio, Nxy=0,\n",
    "        **panel\n",
    "    )"
   ]
  },
  {
   "cell_type": "markdown",
   "metadata": {},
   "source": [
    "## Verification of Gurdal and Hafka results"
   ]
  },
  {
   "cell_type": "code",
   "execution_count": 11,
   "metadata": {},
   "outputs": [
    {
     "name": "stdout",
     "output_type": "stream",
     "text": [
      "t = 1.016\n",
      "=========================\n",
      "ratio = 0, xiD = [ 5.e-05 -1.e+00], lambda = -3.805145735847548\n",
      "ratio = 0.5, xiD = [-0.47913233 -0.04183533], lambda = -2.0720368595696588\n",
      "ratio = 1.0, xiD = [-0.74205514  0.48401028], lambda = -1.3627436214488047\n",
      "ratio = 1.5, xiD = [-0.87087838  0.74165676], lambda = -1.0152170426940161\n",
      "ratio = 2.0, xiD = [-0.94734667  0.89459334], lambda = -0.8089255896748633\n",
      "ratio = 2.5, xiD = [-0.99798696  0.99587392], lambda = -0.6723119882588267\n",
      "t = 1.524\n",
      "=========================\n",
      "ratio = 0, xiD = [ 5.e-05 -1.e+00], lambda = -12.842366858485413\n",
      "ratio = 0.5, xiD = [-0.47913166 -0.04183668], lambda = -6.993126610014105\n",
      "ratio = 1.0, xiD = [-0.74205532  0.48401064], lambda = -4.599259998531929\n",
      "ratio = 1.5, xiD = [-0.87087798  0.74165596], lambda = -3.426358300199631\n",
      "ratio = 2.0, xiD = [-0.94734641  0.89459281], lambda = -2.730123640408948\n",
      "ratio = 2.5, xiD = [-0.99798689  0.99587378], lambda = -2.2690529119505243\n",
      "t = 2.032\n",
      "=========================\n",
      "ratio = 0, xiD = [ 5.e-05 -1.e+00], lambda = -30.441165886780126\n",
      "ratio = 0.5, xiD = [-0.47913146 -0.04183707], lambda = -16.576299660832426\n",
      "ratio = 1.0, xiD = [-0.74205528  0.48401057], lambda = -10.901949496937114\n",
      "ratio = 1.5, xiD = [-0.87087769  0.74165539], lambda = -8.121739519793666\n",
      "ratio = 2.0, xiD = [-0.94734671  0.89459341], lambda = -6.471404793569762\n",
      "ratio = 2.5, xiD = [-0.99798709  0.99587418], lambda = -5.378496126103778\n",
      "t = 3.048\n",
      "=========================\n",
      "ratio = 0, xiD = [ 5.e-05 -1.e+00], lambda = -102.73893486788256\n",
      "ratio = 0.5, xiD = [-0.47913166 -0.04183667], lambda = -55.945012728074275\n",
      "ratio = 1.0, xiD = [-0.74205529  0.48401058], lambda = -36.79407960481966\n",
      "ratio = 1.5, xiD = [-0.87087768  0.74165535], lambda = -27.41087072494219\n",
      "ratio = 2.0, xiD = [-0.94734673  0.89459346], lambda = -21.84099133426895\n",
      "ratio = 2.5, xiD = [-0.99798702  0.99587404], lambda = -18.1524240267699\n"
     ]
    }
   ],
   "source": [
    "# Nxx, Nyy, Nxy\n",
    "ratio = [0, 0.5, 1.0, 1.5, 2.0, 2.5]\n",
    "Ts = [1.016, 1.524, 2.032, 3.048]\n",
    "\n",
    "for t in Ts:\n",
    "    print(f't = {t}')\n",
    "    print('=========================')\n",
    "    for r in ratio:\n",
    "        res = optimize_panel(r, t)\n",
    "        fun = res.fun\n",
    "\n",
    "        if r > 1:\n",
    "            fun = fun / r #it compensates function natural normalization\n",
    "\n",
    "        print(f'ratio = {r}, xiD = {res.x}, lambda = {fun}')\n",
    "        "
   ]
  },
  {
   "cell_type": "code",
   "execution_count": null,
   "metadata": {},
   "outputs": [],
   "source": []
  }
 ],
 "metadata": {
  "kernelspec": {
   "display_name": "base",
   "language": "python",
   "name": "python3"
  },
  "language_info": {
   "codemirror_mode": {
    "name": "ipython",
    "version": 3
   },
   "file_extension": ".py",
   "mimetype": "text/x-python",
   "name": "python",
   "nbconvert_exporter": "python",
   "pygments_lexer": "ipython3",
   "version": "3.9.13"
  },
  "orig_nbformat": 4
 },
 "nbformat": 4,
 "nbformat_minor": 2
}
