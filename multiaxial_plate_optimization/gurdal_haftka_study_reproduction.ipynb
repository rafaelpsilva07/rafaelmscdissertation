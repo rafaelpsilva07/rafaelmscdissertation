{
 "cells": [
  {
   "cell_type": "markdown",
   "metadata": {},
   "source": [
    "Reproduction of Haftka and Gurdal study using composipy.\n",
    "\n",
    "\n",
    "References\n",
    "----------\n",
    "1 - Gurdal, Z. and Haftka, R. T. “Optimization of Composite Laminates,”\n",
    " presented at the NATO Advanced Study Institute on Optimization of Large Structural Systems, Berchtesgaden, Germany, Sept. 23 – Oct. 4, 1991.\n"
   ]
  },
  {
   "cell_type": "code",
   "execution_count": 3,
   "metadata": {},
   "outputs": [],
   "source": [
    "from composipy.optimize import  maximize_buckling_load"
   ]
  },
  {
   "cell_type": "code",
   "execution_count": 4,
   "metadata": {},
   "outputs": [],
   "source": [
    "panel = {'E1': 128e3,\n",
    "            'E2': 13e3,\n",
    "            'G12': 6.4e3,\n",
    "            'v12': 0.3,\n",
    "            'a': 508,\n",
    "            'b': 254,\n",
    "            'm': 7,\n",
    "            'n': 7,\n",
    "            'panel_constraint' : 'PINNED',\n",
    "            'plot': False\n",
    "}"
   ]
  },
  {
   "cell_type": "code",
   "execution_count": 5,
   "metadata": {},
   "outputs": [],
   "source": [
    "def optimize_panel(ratio, Ts):\n",
    "    global panel\n",
    "\n",
    "    return maximize_buckling_load(\n",
    "        T=Ts, Nxx=-1, Nyy=-1*ratio, Nxy=0,\n",
    "        **panel\n",
    "    )"
   ]
  },
  {
   "cell_type": "markdown",
   "metadata": {},
   "source": [
    "## 1-Verification of Gurdal and Hafka results"
   ]
  },
  {
   "cell_type": "code",
   "execution_count": 11,
   "metadata": {},
   "outputs": [
    {
     "name": "stdout",
     "output_type": "stream",
     "text": [
      "t = 1.016\n",
      "=========================\n",
      "ratio = 0, xiD = [ 5.e-05 -1.e+00], lambda = -3.805145735847548\n",
      "ratio = 0.5, xiD = [-0.47913233 -0.04183533], lambda = -2.0720368595696588\n",
      "ratio = 1.0, xiD = [-0.74205514  0.48401028], lambda = -1.3627436214488047\n",
      "ratio = 1.5, xiD = [-0.87087838  0.74165676], lambda = -1.0152170426940161\n",
      "ratio = 2.0, xiD = [-0.94734667  0.89459334], lambda = -0.8089255896748633\n",
      "ratio = 2.5, xiD = [-0.99798696  0.99587392], lambda = -0.6723119882588267\n",
      "t = 1.524\n",
      "=========================\n",
      "ratio = 0, xiD = [ 5.e-05 -1.e+00], lambda = -12.842366858485413\n",
      "ratio = 0.5, xiD = [-0.47913166 -0.04183668], lambda = -6.993126610014105\n",
      "ratio = 1.0, xiD = [-0.74205532  0.48401064], lambda = -4.599259998531929\n",
      "ratio = 1.5, xiD = [-0.87087798  0.74165596], lambda = -3.426358300199631\n",
      "ratio = 2.0, xiD = [-0.94734641  0.89459281], lambda = -2.730123640408948\n",
      "ratio = 2.5, xiD = [-0.99798689  0.99587378], lambda = -2.2690529119505243\n",
      "t = 2.032\n",
      "=========================\n",
      "ratio = 0, xiD = [ 5.e-05 -1.e+00], lambda = -30.441165886780126\n",
      "ratio = 0.5, xiD = [-0.47913146 -0.04183707], lambda = -16.576299660832426\n",
      "ratio = 1.0, xiD = [-0.74205528  0.48401057], lambda = -10.901949496937114\n",
      "ratio = 1.5, xiD = [-0.87087769  0.74165539], lambda = -8.121739519793666\n",
      "ratio = 2.0, xiD = [-0.94734671  0.89459341], lambda = -6.471404793569762\n",
      "ratio = 2.5, xiD = [-0.99798709  0.99587418], lambda = -5.378496126103778\n",
      "t = 3.048\n",
      "=========================\n",
      "ratio = 0, xiD = [ 5.e-05 -1.e+00], lambda = -102.73893486788256\n",
      "ratio = 0.5, xiD = [-0.47913166 -0.04183667], lambda = -55.945012728074275\n",
      "ratio = 1.0, xiD = [-0.74205529  0.48401058], lambda = -36.79407960481966\n",
      "ratio = 1.5, xiD = [-0.87087768  0.74165535], lambda = -27.41087072494219\n",
      "ratio = 2.0, xiD = [-0.94734673  0.89459346], lambda = -21.84099133426895\n",
      "ratio = 2.5, xiD = [-0.99798702  0.99587404], lambda = -18.1524240267699\n"
     ]
    }
   ],
   "source": [
    "# Nxx, Nyy, Nxy\n",
    "ratio = [0, 0.5, 1.0, 1.5, 2.0, 2.5]\n",
    "Ts = [1.016, 1.524, 2.032, 3.048]\n",
    "\n",
    "for t in Ts:\n",
    "    print(f't = {t}')\n",
    "    print('=========================')\n",
    "    for r in ratio:\n",
    "        res = optimize_panel(r, t)\n",
    "        fun = res.fun\n",
    "\n",
    "        if r > 1:\n",
    "            fun = fun / r #it compensates function natural normalization\n",
    "\n",
    "        print(f'ratio = {r}, xiD = {res.x}, lambda = {fun}')\n",
    "        "
   ]
  },
  {
   "cell_type": "markdown",
   "metadata": {},
   "source": [
    "## 2 - Shear study of 1.016 plate"
   ]
  },
  {
   "cell_type": "code",
   "execution_count": 17,
   "metadata": {},
   "outputs": [],
   "source": [
    "def optimize_panel_shear(ratio, Ts, shear_ratio):\n",
    "    global panel\n",
    "\n",
    "    return maximize_buckling_load(\n",
    "        T=Ts, Nxx=-1, Nyy=-1*ratio, Nxy=-1*shear_ratio,\n",
    "        **panel\n",
    "    )"
   ]
  },
  {
   "cell_type": "code",
   "execution_count": 18,
   "metadata": {},
   "outputs": [
    {
     "name": "stdout",
     "output_type": "stream",
     "text": [
      "shear_ratio = 0\n",
      "=========================\n",
      "ratio = 0, xiD = [ 5.e-05 -1.e+00], lambda = -3.8051457358475447\n",
      "ratio = 0.5, xiD = [-0.47913234 -0.04183533], lambda = -2.0720368564619656\n",
      "ratio = 1.0, xiD = [-0.74205514  0.48401028], lambda = -1.362743621457472\n"
     ]
    },
    {
     "name": "stderr",
     "output_type": "stream",
     "text": [
      "d:\\programs\\Anaconda\\lib\\site-packages\\composipy\\optimize\\_maximize_buckling.py:109: UserWarning: Loads will be normalized, prefer to use loads between -1 and 1 (Nxx = -1, Nyy = -1.5, Nxy = 0)\n",
      "  warnings.warn(f'Loads will be normalized, prefer to use loads between -1 and 1 (Nxx = {Nxx}, Nyy = {Nyy}, Nxy = {Nxy})')\n"
     ]
    },
    {
     "name": "stdout",
     "output_type": "stream",
     "text": [
      "ratio = 1.5, xiD = [-0.87087838  0.74165676], lambda = -1.0152170427617433\n"
     ]
    },
    {
     "name": "stderr",
     "output_type": "stream",
     "text": [
      "d:\\programs\\Anaconda\\lib\\site-packages\\composipy\\optimize\\_maximize_buckling.py:109: UserWarning: Loads will be normalized, prefer to use loads between -1 and 1 (Nxx = -1, Nyy = -2.0, Nxy = 0)\n",
      "  warnings.warn(f'Loads will be normalized, prefer to use loads between -1 and 1 (Nxx = {Nxx}, Nyy = {Nyy}, Nxy = {Nxy})')\n"
     ]
    },
    {
     "name": "stdout",
     "output_type": "stream",
     "text": [
      "ratio = 2.0, xiD = [-0.94734667  0.89459334], lambda = -0.8089255896805511\n"
     ]
    },
    {
     "name": "stderr",
     "output_type": "stream",
     "text": [
      "d:\\programs\\Anaconda\\lib\\site-packages\\composipy\\optimize\\_maximize_buckling.py:109: UserWarning: Loads will be normalized, prefer to use loads between -1 and 1 (Nxx = -1, Nyy = -2.5, Nxy = 0)\n",
      "  warnings.warn(f'Loads will be normalized, prefer to use loads between -1 and 1 (Nxx = {Nxx}, Nyy = {Nyy}, Nxy = {Nxy})')\n"
     ]
    },
    {
     "name": "stdout",
     "output_type": "stream",
     "text": [
      "ratio = 2.5, xiD = [-0.99798696  0.99587392], lambda = -0.6723119882605753\n",
      "shear_ratio = 0.5\n",
      "=========================\n",
      "ratio = 0, xiD = [-5.e-05 -1.e+00], lambda = -3.4600061212738873\n",
      "ratio = 0.5, xiD = [-0.46196361 -0.07617278], lambda = -2.0154054766705585\n",
      "ratio = 1.0, xiD = [-0.73092953  0.46175905], lambda = -1.34699921892897\n"
     ]
    },
    {
     "name": "stderr",
     "output_type": "stream",
     "text": [
      "d:\\programs\\Anaconda\\lib\\site-packages\\composipy\\optimize\\_maximize_buckling.py:109: UserWarning: Loads will be normalized, prefer to use loads between -1 and 1 (Nxx = -1, Nyy = -1.5, Nxy = -0.5)\n",
      "  warnings.warn(f'Loads will be normalized, prefer to use loads between -1 and 1 (Nxx = {Nxx}, Nyy = {Nyy}, Nxy = {Nxy})')\n"
     ]
    },
    {
     "name": "stdout",
     "output_type": "stream",
     "text": [
      "ratio = 1.5, xiD = [-0.86369226  0.72728452], lambda = -1.0087502990804387\n"
     ]
    },
    {
     "name": "stderr",
     "output_type": "stream",
     "text": [
      "d:\\programs\\Anaconda\\lib\\site-packages\\composipy\\optimize\\_maximize_buckling.py:109: UserWarning: Loads will be normalized, prefer to use loads between -1 and 1 (Nxx = -1, Nyy = -2.0, Nxy = -0.5)\n",
      "  warnings.warn(f'Loads will be normalized, prefer to use loads between -1 and 1 (Nxx = {Nxx}, Nyy = {Nyy}, Nxy = {Nxy})')\n"
     ]
    },
    {
     "name": "stdout",
     "output_type": "stream",
     "text": [
      "ratio = 2.0, xiD = [-0.94239901  0.88469801], lambda = -0.8056601131080673\n"
     ]
    },
    {
     "name": "stderr",
     "output_type": "stream",
     "text": [
      "d:\\programs\\Anaconda\\lib\\site-packages\\composipy\\optimize\\_maximize_buckling.py:109: UserWarning: Loads will be normalized, prefer to use loads between -1 and 1 (Nxx = -1, Nyy = -2.5, Nxy = -0.5)\n",
      "  warnings.warn(f'Loads will be normalized, prefer to use loads between -1 and 1 (Nxx = {Nxx}, Nyy = {Nyy}, Nxy = {Nxy})')\n"
     ]
    },
    {
     "name": "stdout",
     "output_type": "stream",
     "text": [
      "ratio = 2.5, xiD = [-0.99439053  0.98868106], lambda = -0.670437687352681\n",
      "shear_ratio = 1.0\n",
      "=========================\n",
      "ratio = 0, xiD = [-5.e-05 -1.e+00], lambda = -2.856344295186581\n",
      "ratio = 0.5, xiD = [-0.42556888 -0.14896225], lambda = -1.8692170408679505\n",
      "ratio = 1.0, xiD = [-0.70143343  0.40276686], lambda = -1.3024751182900949\n"
     ]
    },
    {
     "name": "stderr",
     "output_type": "stream",
     "text": [
      "d:\\programs\\Anaconda\\lib\\site-packages\\composipy\\optimize\\_maximize_buckling.py:109: UserWarning: Loads will be normalized, prefer to use loads between -1 and 1 (Nxx = -1, Nyy = -1.5, Nxy = -1.0)\n",
      "  warnings.warn(f'Loads will be normalized, prefer to use loads between -1 and 1 (Nxx = {Nxx}, Nyy = {Nyy}, Nxy = {Nxy})')\n"
     ]
    },
    {
     "name": "stdout",
     "output_type": "stream",
     "text": [
      "ratio = 1.5, xiD = [-0.84346962  0.68683923], lambda = -0.9899534230601336\n"
     ]
    },
    {
     "name": "stderr",
     "output_type": "stream",
     "text": [
      "d:\\programs\\Anaconda\\lib\\site-packages\\composipy\\optimize\\_maximize_buckling.py:109: UserWarning: Loads will be normalized, prefer to use loads between -1 and 1 (Nxx = -1, Nyy = -2.0, Nxy = -1.0)\n",
      "  warnings.warn(f'Loads will be normalized, prefer to use loads between -1 and 1 (Nxx = {Nxx}, Nyy = {Nyy}, Nxy = {Nxy})')\n"
     ]
    },
    {
     "name": "stdout",
     "output_type": "stream",
     "text": [
      "ratio = 2.0, xiD = [-0.92812485  0.8561497 ], lambda = -0.7960568578030152\n"
     ]
    },
    {
     "name": "stderr",
     "output_type": "stream",
     "text": [
      "d:\\programs\\Anaconda\\lib\\site-packages\\composipy\\optimize\\_maximize_buckling.py:109: UserWarning: Loads will be normalized, prefer to use loads between -1 and 1 (Nxx = -1, Nyy = -2.5, Nxy = -1.0)\n",
      "  warnings.warn(f'Loads will be normalized, prefer to use loads between -1 and 1 (Nxx = {Nxx}, Nyy = {Nyy}, Nxy = {Nxy})')\n"
     ]
    },
    {
     "name": "stdout",
     "output_type": "stream",
     "text": [
      "ratio = 2.5, xiD = [-0.98388071  0.96766141], lambda = -0.6648914034176492\n",
      "shear_ratio = 2.0\n",
      "=========================\n"
     ]
    },
    {
     "name": "stderr",
     "output_type": "stream",
     "text": [
      "d:\\programs\\Anaconda\\lib\\site-packages\\composipy\\optimize\\_maximize_buckling.py:109: UserWarning: Loads will be normalized, prefer to use loads between -1 and 1 (Nxx = -1, Nyy = 0, Nxy = -2.0)\n",
      "  warnings.warn(f'Loads will be normalized, prefer to use loads between -1 and 1 (Nxx = {Nxx}, Nyy = {Nyy}, Nxy = {Nxy})')\n"
     ]
    },
    {
     "name": "stdout",
     "output_type": "stream",
     "text": [
      "ratio = 0, xiD = [-5.e-05 -1.e+00], lambda = -1.9781378528558449\n"
     ]
    },
    {
     "name": "stderr",
     "output_type": "stream",
     "text": [
      "d:\\programs\\Anaconda\\lib\\site-packages\\composipy\\optimize\\_maximize_buckling.py:109: UserWarning: Loads will be normalized, prefer to use loads between -1 and 1 (Nxx = -1, Nyy = -0.5, Nxy = -2.0)\n",
      "  warnings.warn(f'Loads will be normalized, prefer to use loads between -1 and 1 (Nxx = {Nxx}, Nyy = {Nyy}, Nxy = {Nxy})')\n"
     ]
    },
    {
     "name": "stdout",
     "output_type": "stream",
     "text": [
      "ratio = 0.5, xiD = [-0.36463645 -0.2708271 ], lambda = -1.511787273751489\n"
     ]
    },
    {
     "name": "stderr",
     "output_type": "stream",
     "text": [
      "d:\\programs\\Anaconda\\lib\\site-packages\\composipy\\optimize\\_maximize_buckling.py:109: UserWarning: Loads will be normalized, prefer to use loads between -1 and 1 (Nxx = -1, Nyy = -1.0, Nxy = -2.0)\n",
      "  warnings.warn(f'Loads will be normalized, prefer to use loads between -1 and 1 (Nxx = {Nxx}, Nyy = {Nyy}, Nxy = {Nxy})')\n"
     ]
    },
    {
     "name": "stdout",
     "output_type": "stream",
     "text": [
      "ratio = 1.0, xiD = [-0.62150456  0.24290913], lambda = -1.1611089217705501\n"
     ]
    },
    {
     "name": "stderr",
     "output_type": "stream",
     "text": [
      "d:\\programs\\Anaconda\\lib\\site-packages\\composipy\\optimize\\_maximize_buckling.py:109: UserWarning: Loads will be normalized, prefer to use loads between -1 and 1 (Nxx = -1, Nyy = -1.5, Nxy = -2.0)\n",
      "  warnings.warn(f'Loads will be normalized, prefer to use loads between -1 and 1 (Nxx = {Nxx}, Nyy = {Nyy}, Nxy = {Nxy})')\n"
     ]
    },
    {
     "name": "stdout",
     "output_type": "stream",
     "text": [
      "ratio = 1.5, xiD = [-0.77851607  0.55693215], lambda = -0.9238146351681762\n"
     ]
    },
    {
     "name": "stderr",
     "output_type": "stream",
     "text": [
      "d:\\programs\\Anaconda\\lib\\site-packages\\composipy\\optimize\\_maximize_buckling.py:109: UserWarning: Loads will be normalized, prefer to use loads between -1 and 1 (Nxx = -1, Nyy = -2.0, Nxy = -2.0)\n",
      "  warnings.warn(f'Loads will be normalized, prefer to use loads between -1 and 1 (Nxx = {Nxx}, Nyy = {Nyy}, Nxy = {Nxy})')\n"
     ]
    },
    {
     "name": "stdout",
     "output_type": "stream",
     "text": [
      "ratio = 2.0, xiD = [-0.87845528  0.75681055], lambda = -0.7606167022487421\n"
     ]
    },
    {
     "name": "stderr",
     "output_type": "stream",
     "text": [
      "d:\\programs\\Anaconda\\lib\\site-packages\\composipy\\optimize\\_maximize_buckling.py:109: UserWarning: Loads will be normalized, prefer to use loads between -1 and 1 (Nxx = -1, Nyy = -2.5, Nxy = -2.0)\n",
      "  warnings.warn(f'Loads will be normalized, prefer to use loads between -1 and 1 (Nxx = {Nxx}, Nyy = {Nyy}, Nxy = {Nxy})')\n"
     ]
    },
    {
     "name": "stdout",
     "output_type": "stream",
     "text": [
      "ratio = 2.5, xiD = [-0.94569265  0.8912853 ], lambda = -0.6438987307003772\n",
      "shear_ratio = 2.5\n",
      "=========================\n"
     ]
    },
    {
     "name": "stderr",
     "output_type": "stream",
     "text": [
      "d:\\programs\\Anaconda\\lib\\site-packages\\composipy\\optimize\\_maximize_buckling.py:109: UserWarning: Loads will be normalized, prefer to use loads between -1 and 1 (Nxx = -1, Nyy = 0, Nxy = -2.5)\n",
      "  warnings.warn(f'Loads will be normalized, prefer to use loads between -1 and 1 (Nxx = {Nxx}, Nyy = {Nyy}, Nxy = {Nxy})')\n"
     ]
    },
    {
     "name": "stdout",
     "output_type": "stream",
     "text": [
      "ratio = 0, xiD = [-5.e-05 -1.e+00], lambda = -1.6990812901811618\n"
     ]
    },
    {
     "name": "stderr",
     "output_type": "stream",
     "text": [
      "d:\\programs\\Anaconda\\lib\\site-packages\\composipy\\optimize\\_maximize_buckling.py:109: UserWarning: Loads will be normalized, prefer to use loads between -1 and 1 (Nxx = -1, Nyy = -0.5, Nxy = -2.5)\n",
      "  warnings.warn(f'Loads will be normalized, prefer to use loads between -1 and 1 (Nxx = {Nxx}, Nyy = {Nyy}, Nxy = {Nxy})')\n"
     ]
    },
    {
     "name": "stdout",
     "output_type": "stream",
     "text": [
      "ratio = 0.5, xiD = [-0.34565467 -0.30879066], lambda = -1.3572370571184436\n"
     ]
    },
    {
     "name": "stderr",
     "output_type": "stream",
     "text": [
      "d:\\programs\\Anaconda\\lib\\site-packages\\composipy\\optimize\\_maximize_buckling.py:109: UserWarning: Loads will be normalized, prefer to use loads between -1 and 1 (Nxx = -1, Nyy = -1.0, Nxy = -2.5)\n",
      "  warnings.warn(f'Loads will be normalized, prefer to use loads between -1 and 1 (Nxx = {Nxx}, Nyy = {Nyy}, Nxy = {Nxy})')\n"
     ]
    },
    {
     "name": "stdout",
     "output_type": "stream",
     "text": [
      "ratio = 1.0, xiD = [-0.58373689  0.16737378], lambda = -1.08316114949604\n"
     ]
    },
    {
     "name": "stderr",
     "output_type": "stream",
     "text": [
      "d:\\programs\\Anaconda\\lib\\site-packages\\composipy\\optimize\\_maximize_buckling.py:109: UserWarning: Loads will be normalized, prefer to use loads between -1 and 1 (Nxx = -1, Nyy = -1.5, Nxy = -2.5)\n",
      "  warnings.warn(f'Loads will be normalized, prefer to use loads between -1 and 1 (Nxx = {Nxx}, Nyy = {Nyy}, Nxy = {Nxy})')\n"
     ]
    },
    {
     "name": "stdout",
     "output_type": "stream",
     "text": [
      "ratio = 1.5, xiD = [-0.74178074  0.48346148], lambda = -0.8825283647220962\n"
     ]
    },
    {
     "name": "stderr",
     "output_type": "stream",
     "text": [
      "d:\\programs\\Anaconda\\lib\\site-packages\\composipy\\optimize\\_maximize_buckling.py:109: UserWarning: Loads will be normalized, prefer to use loads between -1 and 1 (Nxx = -1, Nyy = -2.0, Nxy = -2.5)\n",
      "  warnings.warn(f'Loads will be normalized, prefer to use loads between -1 and 1 (Nxx = {Nxx}, Nyy = {Nyy}, Nxy = {Nxy})')\n"
     ]
    },
    {
     "name": "stdout",
     "output_type": "stream",
     "text": [
      "ratio = 2.0, xiD = [-0.84753551  0.69497102], lambda = -0.7370046793589482\n"
     ]
    },
    {
     "name": "stderr",
     "output_type": "stream",
     "text": [
      "d:\\programs\\Anaconda\\lib\\site-packages\\composipy\\optimize\\_maximize_buckling.py:109: UserWarning: Loads will be normalized, prefer to use loads between -1 and 1 (Nxx = -1, Nyy = -2.5, Nxy = -2.5)\n",
      "  warnings.warn(f'Loads will be normalized, prefer to use loads between -1 and 1 (Nxx = {Nxx}, Nyy = {Nyy}, Nxy = {Nxy})')\n"
     ]
    },
    {
     "name": "stdout",
     "output_type": "stream",
     "text": [
      "ratio = 2.5, xiD = [-0.92056317  0.84102635], lambda = -0.6293893993356356\n",
      "shear_ratio = 3.0\n",
      "=========================\n"
     ]
    },
    {
     "name": "stderr",
     "output_type": "stream",
     "text": [
      "d:\\programs\\Anaconda\\lib\\site-packages\\composipy\\optimize\\_maximize_buckling.py:109: UserWarning: Loads will be normalized, prefer to use loads between -1 and 1 (Nxx = -1, Nyy = 0, Nxy = -3.0)\n",
      "  warnings.warn(f'Loads will be normalized, prefer to use loads between -1 and 1 (Nxx = {Nxx}, Nyy = {Nyy}, Nxy = {Nxy})')\n"
     ]
    },
    {
     "name": "stdout",
     "output_type": "stream",
     "text": [
      "ratio = 0, xiD = [-0.02573137 -0.94863726], lambda = -1.4846702699715404\n"
     ]
    },
    {
     "name": "stderr",
     "output_type": "stream",
     "text": [
      "d:\\programs\\Anaconda\\lib\\site-packages\\composipy\\optimize\\_maximize_buckling.py:109: UserWarning: Loads will be normalized, prefer to use loads between -1 and 1 (Nxx = -1, Nyy = -0.5, Nxy = -3.0)\n",
      "  warnings.warn(f'Loads will be normalized, prefer to use loads between -1 and 1 (Nxx = {Nxx}, Nyy = {Nyy}, Nxy = {Nxy})')\n"
     ]
    },
    {
     "name": "stdout",
     "output_type": "stream",
     "text": [
      "ratio = 0.5, xiD = [-0.33181559 -0.33646881], lambda = -1.225744494660964\n"
     ]
    },
    {
     "name": "stderr",
     "output_type": "stream",
     "text": [
      "d:\\programs\\Anaconda\\lib\\site-packages\\composipy\\optimize\\_maximize_buckling.py:109: UserWarning: Loads will be normalized, prefer to use loads between -1 and 1 (Nxx = -1, Nyy = -1.0, Nxy = -3.0)\n",
      "  warnings.warn(f'Loads will be normalized, prefer to use loads between -1 and 1 (Nxx = {Nxx}, Nyy = {Nyy}, Nxy = {Nxy})')\n"
     ]
    },
    {
     "name": "stdout",
     "output_type": "stream",
     "text": [
      "ratio = 1.0, xiD = [-0.55064172  0.10118343], lambda = -1.0084403975905312\n"
     ]
    },
    {
     "name": "stderr",
     "output_type": "stream",
     "text": [
      "d:\\programs\\Anaconda\\lib\\site-packages\\composipy\\optimize\\_maximize_buckling.py:109: UserWarning: Loads will be normalized, prefer to use loads between -1 and 1 (Nxx = -1, Nyy = -1.5, Nxy = -3.0)\n",
      "  warnings.warn(f'Loads will be normalized, prefer to use loads between -1 and 1 (Nxx = {Nxx}, Nyy = {Nyy}, Nxy = {Nxy})')\n"
     ]
    },
    {
     "name": "stdout",
     "output_type": "stream",
     "text": [
      "ratio = 1.5, xiD = [-0.70602922  0.41195844], lambda = -0.8395717292250344\n"
     ]
    },
    {
     "name": "stderr",
     "output_type": "stream",
     "text": [
      "d:\\programs\\Anaconda\\lib\\site-packages\\composipy\\optimize\\_maximize_buckling.py:109: UserWarning: Loads will be normalized, prefer to use loads between -1 and 1 (Nxx = -1, Nyy = -2.0, Nxy = -3.0)\n",
      "  warnings.warn(f'Loads will be normalized, prefer to use loads between -1 and 1 (Nxx = {Nxx}, Nyy = {Nyy}, Nxy = {Nxy})')\n"
     ]
    },
    {
     "name": "stdout",
     "output_type": "stream",
     "text": [
      "ratio = 2.0, xiD = [-0.81534047  0.63058094], lambda = -0.7111511559587101\n"
     ]
    },
    {
     "name": "stderr",
     "output_type": "stream",
     "text": [
      "d:\\programs\\Anaconda\\lib\\site-packages\\composipy\\optimize\\_maximize_buckling.py:109: UserWarning: Loads will be normalized, prefer to use loads between -1 and 1 (Nxx = -1, Nyy = -2.5, Nxy = -3.0)\n",
      "  warnings.warn(f'Loads will be normalized, prefer to use loads between -1 and 1 (Nxx = {Nxx}, Nyy = {Nyy}, Nxy = {Nxy})')\n"
     ]
    },
    {
     "name": "stdout",
     "output_type": "stream",
     "text": [
      "ratio = 2.5, xiD = [-0.89323002  0.78636003], lambda = -0.6129894006446533\n",
      "shear_ratio = 3.5\n",
      "=========================\n"
     ]
    },
    {
     "name": "stderr",
     "output_type": "stream",
     "text": [
      "d:\\programs\\Anaconda\\lib\\site-packages\\composipy\\optimize\\_maximize_buckling.py:109: UserWarning: Loads will be normalized, prefer to use loads between -1 and 1 (Nxx = -1, Nyy = 0, Nxy = -3.5)\n",
      "  warnings.warn(f'Loads will be normalized, prefer to use loads between -1 and 1 (Nxx = {Nxx}, Nyy = {Nyy}, Nxy = {Nxy})')\n"
     ]
    },
    {
     "name": "stdout",
     "output_type": "stream",
     "text": [
      "ratio = 0, xiD = [-0.05501202 -0.89007596], lambda = -1.3168355161525973\n"
     ]
    },
    {
     "name": "stderr",
     "output_type": "stream",
     "text": [
      "d:\\programs\\Anaconda\\lib\\site-packages\\composipy\\optimize\\_maximize_buckling.py:109: UserWarning: Loads will be normalized, prefer to use loads between -1 and 1 (Nxx = -1, Nyy = -0.5, Nxy = -3.5)\n",
      "  warnings.warn(f'Loads will be normalized, prefer to use loads between -1 and 1 (Nxx = {Nxx}, Nyy = {Nyy}, Nxy = {Nxy})')\n"
     ]
    },
    {
     "name": "stdout",
     "output_type": "stream",
     "text": [
      "ratio = 0.5, xiD = [-0.32146333 -0.35717335], lambda = -1.1146481823786685\n"
     ]
    },
    {
     "name": "stderr",
     "output_type": "stream",
     "text": [
      "d:\\programs\\Anaconda\\lib\\site-packages\\composipy\\optimize\\_maximize_buckling.py:109: UserWarning: Loads will be normalized, prefer to use loads between -1 and 1 (Nxx = -1, Nyy = -1.0, Nxy = -3.5)\n",
      "  warnings.warn(f'Loads will be normalized, prefer to use loads between -1 and 1 (Nxx = {Nxx}, Nyy = {Nyy}, Nxy = {Nxy})')\n"
     ]
    },
    {
     "name": "stdout",
     "output_type": "stream",
     "text": [
      "ratio = 1.0, xiD = [-0.52230627  0.04451254], lambda = -0.939372808445852\n"
     ]
    },
    {
     "name": "stderr",
     "output_type": "stream",
     "text": [
      "d:\\programs\\Anaconda\\lib\\site-packages\\composipy\\optimize\\_maximize_buckling.py:109: UserWarning: Loads will be normalized, prefer to use loads between -1 and 1 (Nxx = -1, Nyy = -1.5, Nxy = -3.5)\n",
      "  warnings.warn(f'Loads will be normalized, prefer to use loads between -1 and 1 (Nxx = {Nxx}, Nyy = {Nyy}, Nxy = {Nxy})')\n"
     ]
    },
    {
     "name": "stdout",
     "output_type": "stream",
     "text": [
      "ratio = 1.5, xiD = [-0.67268785  0.34527571], lambda = -0.7969344598808065\n"
     ]
    },
    {
     "name": "stderr",
     "output_type": "stream",
     "text": [
      "d:\\programs\\Anaconda\\lib\\site-packages\\composipy\\optimize\\_maximize_buckling.py:109: UserWarning: Loads will be normalized, prefer to use loads between -1 and 1 (Nxx = -1, Nyy = -2.0, Nxy = -3.5)\n",
      "  warnings.warn(f'Loads will be normalized, prefer to use loads between -1 and 1 (Nxx = {Nxx}, Nyy = {Nyy}, Nxy = {Nxy})')\n"
     ]
    },
    {
     "name": "stdout",
     "output_type": "stream",
     "text": [
      "ratio = 2.0, xiD = [-0.78338628  0.56667255], lambda = -0.6841843842792728\n"
     ]
    },
    {
     "name": "stderr",
     "output_type": "stream",
     "text": [
      "d:\\programs\\Anaconda\\lib\\site-packages\\composipy\\optimize\\_maximize_buckling.py:109: UserWarning: Loads will be normalized, prefer to use loads between -1 and 1 (Nxx = -1, Nyy = -2.5, Nxy = -3.5)\n",
      "  warnings.warn(f'Loads will be normalized, prefer to use loads between -1 and 1 (Nxx = {Nxx}, Nyy = {Nyy}, Nxy = {Nxy})')\n"
     ]
    },
    {
     "name": "stdout",
     "output_type": "stream",
     "text": [
      "ratio = 2.5, xiD = [-0.86489646  0.72969292], lambda = -0.595302726745674\n",
      "shear_ratio = 4.0\n",
      "=========================\n"
     ]
    },
    {
     "name": "stderr",
     "output_type": "stream",
     "text": [
      "d:\\programs\\Anaconda\\lib\\site-packages\\composipy\\optimize\\_maximize_buckling.py:109: UserWarning: Loads will be normalized, prefer to use loads between -1 and 1 (Nxx = -1, Nyy = 0, Nxy = -4.0)\n",
      "  warnings.warn(f'Loads will be normalized, prefer to use loads between -1 and 1 (Nxx = {Nxx}, Nyy = {Nyy}, Nxy = {Nxy})')\n"
     ]
    },
    {
     "name": "stdout",
     "output_type": "stream",
     "text": [
      "ratio = 0, xiD = [-0.07791688 -0.84426625], lambda = -1.182608802180392\n"
     ]
    },
    {
     "name": "stderr",
     "output_type": "stream",
     "text": [
      "d:\\programs\\Anaconda\\lib\\site-packages\\composipy\\optimize\\_maximize_buckling.py:109: UserWarning: Loads will be normalized, prefer to use loads between -1 and 1 (Nxx = -1, Nyy = -0.5, Nxy = -4.0)\n",
      "  warnings.warn(f'Loads will be normalized, prefer to use loads between -1 and 1 (Nxx = {Nxx}, Nyy = {Nyy}, Nxy = {Nxy})')\n"
     ]
    },
    {
     "name": "stdout",
     "output_type": "stream",
     "text": [
      "ratio = 0.5, xiD = [-0.31350212 -0.37309576], lambda = -1.0204857545844088\n"
     ]
    },
    {
     "name": "stderr",
     "output_type": "stream",
     "text": [
      "d:\\programs\\Anaconda\\lib\\site-packages\\composipy\\optimize\\_maximize_buckling.py:109: UserWarning: Loads will be normalized, prefer to use loads between -1 and 1 (Nxx = -1, Nyy = -1.0, Nxy = -4.0)\n",
      "  warnings.warn(f'Loads will be normalized, prefer to use loads between -1 and 1 (Nxx = {Nxx}, Nyy = {Nyy}, Nxy = {Nxy})')\n"
     ]
    },
    {
     "name": "stdout",
     "output_type": "stream",
     "text": [
      "ratio = 1.0, xiD = [-0.49821367 -0.00367265], lambda = -0.8767058304054359\n"
     ]
    },
    {
     "name": "stderr",
     "output_type": "stream",
     "text": [
      "d:\\programs\\Anaconda\\lib\\site-packages\\composipy\\optimize\\_maximize_buckling.py:109: UserWarning: Loads will be normalized, prefer to use loads between -1 and 1 (Nxx = -1, Nyy = -1.5, Nxy = -4.0)\n",
      "  warnings.warn(f'Loads will be normalized, prefer to use loads between -1 and 1 (Nxx = {Nxx}, Nyy = {Nyy}, Nxy = {Nxy})')\n"
     ]
    },
    {
     "name": "stdout",
     "output_type": "stream",
     "text": [
      "ratio = 1.5, xiD = [-0.64233914  0.28457829], lambda = -0.7558656543138071\n"
     ]
    },
    {
     "name": "stderr",
     "output_type": "stream",
     "text": [
      "d:\\programs\\Anaconda\\lib\\site-packages\\composipy\\optimize\\_maximize_buckling.py:109: UserWarning: Loads will be normalized, prefer to use loads between -1 and 1 (Nxx = -1, Nyy = -2.0, Nxy = -4.0)\n",
      "  warnings.warn(f'Loads will be normalized, prefer to use loads between -1 and 1 (Nxx = {Nxx}, Nyy = {Nyy}, Nxy = {Nxy})')\n"
     ]
    },
    {
     "name": "stdout",
     "output_type": "stream",
     "text": [
      "ratio = 2.0, xiD = [-0.75267281  0.50524562], lambda = -0.6569964886777405\n"
     ]
    },
    {
     "name": "stderr",
     "output_type": "stream",
     "text": [
      "d:\\programs\\Anaconda\\lib\\site-packages\\composipy\\optimize\\_maximize_buckling.py:109: UserWarning: Loads will be normalized, prefer to use loads between -1 and 1 (Nxx = -1, Nyy = -2.5, Nxy = -4.0)\n",
      "  warnings.warn(f'Loads will be normalized, prefer to use loads between -1 and 1 (Nxx = {Nxx}, Nyy = {Nyy}, Nxy = {Nxy})')\n"
     ]
    },
    {
     "name": "stdout",
     "output_type": "stream",
     "text": [
      "ratio = 2.5, xiD = [-0.83651466  0.67292931], lambda = -0.5768727341886183\n"
     ]
    }
   ],
   "source": [
    "# Nxx, Nyy, Nxy\n",
    "T = 1.016\n",
    "ratio = [0, 0.5, 1.0, 1.5, 2.0, 2.5]\n",
    "shear_ratio = [0, 0.5, 1.0, 2.0, 2.5, 3.0, 3.5, 4.0]\n",
    "\n",
    "for sr in shear_ratio:\n",
    "    print(f'shear_ratio = {sr}')\n",
    "    print('=========================')\n",
    "    for r in ratio:\n",
    "        res = optimize_panel_shear(r, T, sr)\n",
    "        fun = res.fun\n",
    "\n",
    "        if max(r, sr) > 1:\n",
    "            fun = fun / max(r, sr) #it compensates function natural normalization\n",
    "\n",
    "        print(f'ratio = {r}, xiD = {res.x}, lambda = {fun}')"
   ]
  },
  {
   "cell_type": "markdown",
   "metadata": {},
   "source": [
    "## 3 - Shear study of 3.048 plate"
   ]
  },
  {
   "cell_type": "code",
   "execution_count": 16,
   "metadata": {},
   "outputs": [
    {
     "name": "stdout",
     "output_type": "stream",
     "text": [
      "shear_ratio = 0\n",
      "=========================\n",
      "ratio = 0, xiD = [ 5.e-05 -1.e+00], lambda = -102.73893486788616\n",
      "ratio = 0.5, xiD = [-0.47913166 -0.04183668], lambda = -55.94501287278696\n",
      "ratio = 1.0, xiD = [-0.74205528  0.48401057], lambda = -36.79407952511801\n"
     ]
    },
    {
     "name": "stderr",
     "output_type": "stream",
     "text": [
      "d:\\programs\\Anaconda\\lib\\site-packages\\composipy\\optimize\\_maximize_buckling.py:109: UserWarning: Loads will be normalized, prefer to use loads between -1 and 1 (Nxx = -1, Nyy = -1.5, Nxy = 0)\n",
      "  warnings.warn(f'Loads will be normalized, prefer to use loads between -1 and 1 (Nxx = {Nxx}, Nyy = {Nyy}, Nxy = {Nxy})')\n"
     ]
    },
    {
     "name": "stdout",
     "output_type": "stream",
     "text": [
      "ratio = 1.5, xiD = [-0.87087768  0.74165535], lambda = -27.410870722909944\n"
     ]
    },
    {
     "name": "stderr",
     "output_type": "stream",
     "text": [
      "d:\\programs\\Anaconda\\lib\\site-packages\\composipy\\optimize\\_maximize_buckling.py:109: UserWarning: Loads will be normalized, prefer to use loads between -1 and 1 (Nxx = -1, Nyy = -2.0, Nxy = 0)\n",
      "  warnings.warn(f'Loads will be normalized, prefer to use loads between -1 and 1 (Nxx = {Nxx}, Nyy = {Nyy}, Nxy = {Nxy})')\n"
     ]
    },
    {
     "name": "stdout",
     "output_type": "stream",
     "text": [
      "ratio = 2.0, xiD = [-0.94734674  0.89459348], lambda = -21.840991328848904\n"
     ]
    },
    {
     "name": "stderr",
     "output_type": "stream",
     "text": [
      "d:\\programs\\Anaconda\\lib\\site-packages\\composipy\\optimize\\_maximize_buckling.py:109: UserWarning: Loads will be normalized, prefer to use loads between -1 and 1 (Nxx = -1, Nyy = -2.5, Nxy = 0)\n",
      "  warnings.warn(f'Loads will be normalized, prefer to use loads between -1 and 1 (Nxx = {Nxx}, Nyy = {Nyy}, Nxy = {Nxy})')\n"
     ]
    },
    {
     "name": "stdout",
     "output_type": "stream",
     "text": [
      "ratio = 2.5, xiD = [-0.99798702  0.99587404], lambda = -18.152424029155444\n",
      "shear_ratio = 0.5\n",
      "=========================\n",
      "ratio = 0, xiD = [-4.99999999e-05 -1.00000000e+00], lambda = -93.42016527438535\n",
      "ratio = 0.5, xiD = [-0.46196343 -0.07617314], lambda = -54.41595085466876\n",
      "ratio = 1.0, xiD = [-0.73092959  0.46175919], lambda = -36.36897974197326\n"
     ]
    },
    {
     "name": "stderr",
     "output_type": "stream",
     "text": [
      "d:\\programs\\Anaconda\\lib\\site-packages\\composipy\\optimize\\_maximize_buckling.py:109: UserWarning: Loads will be normalized, prefer to use loads between -1 and 1 (Nxx = -1, Nyy = -1.5, Nxy = 0.5)\n",
      "  warnings.warn(f'Loads will be normalized, prefer to use loads between -1 and 1 (Nxx = {Nxx}, Nyy = {Nyy}, Nxy = {Nxy})')\n"
     ]
    },
    {
     "name": "stdout",
     "output_type": "stream",
     "text": [
      "ratio = 1.5, xiD = [-0.86369287  0.72728574], lambda = -27.236263409090466\n"
     ]
    },
    {
     "name": "stderr",
     "output_type": "stream",
     "text": [
      "d:\\programs\\Anaconda\\lib\\site-packages\\composipy\\optimize\\_maximize_buckling.py:109: UserWarning: Loads will be normalized, prefer to use loads between -1 and 1 (Nxx = -1, Nyy = -2.0, Nxy = 0.5)\n",
      "  warnings.warn(f'Loads will be normalized, prefer to use loads between -1 and 1 (Nxx = {Nxx}, Nyy = {Nyy}, Nxy = {Nxy})')\n"
     ]
    },
    {
     "name": "stdout",
     "output_type": "stream",
     "text": [
      "ratio = 2.0, xiD = [-0.94239946  0.88469892], lambda = -21.75282612253031\n"
     ]
    },
    {
     "name": "stderr",
     "output_type": "stream",
     "text": [
      "d:\\programs\\Anaconda\\lib\\site-packages\\composipy\\optimize\\_maximize_buckling.py:109: UserWarning: Loads will be normalized, prefer to use loads between -1 and 1 (Nxx = -1, Nyy = -2.5, Nxy = 0.5)\n",
      "  warnings.warn(f'Loads will be normalized, prefer to use loads between -1 and 1 (Nxx = {Nxx}, Nyy = {Nyy}, Nxy = {Nxy})')\n"
     ]
    },
    {
     "name": "stdout",
     "output_type": "stream",
     "text": [
      "ratio = 2.5, xiD = [-0.99439054  0.98868108], lambda = -18.1018176177497\n",
      "shear_ratio = 1.0\n",
      "=========================\n",
      "ratio = 0, xiD = [-4.99999998e-05 -1.00000000e+00], lambda = -77.12129597003523\n",
      "ratio = 0.5, xiD = [-0.42556887 -0.14896226], lambda = -50.46886020304189\n",
      "ratio = 1.0, xiD = [-0.70143369  0.40276738], lambda = -35.16683115086013\n"
     ]
    },
    {
     "name": "stderr",
     "output_type": "stream",
     "text": [
      "d:\\programs\\Anaconda\\lib\\site-packages\\composipy\\optimize\\_maximize_buckling.py:109: UserWarning: Loads will be normalized, prefer to use loads between -1 and 1 (Nxx = -1, Nyy = -1.5, Nxy = 1.0)\n",
      "  warnings.warn(f'Loads will be normalized, prefer to use loads between -1 and 1 (Nxx = {Nxx}, Nyy = {Nyy}, Nxy = {Nxy})')\n"
     ]
    },
    {
     "name": "stdout",
     "output_type": "stream",
     "text": [
      "ratio = 1.5, xiD = [-0.84346966  0.68683933], lambda = -26.728742751436275\n"
     ]
    },
    {
     "name": "stderr",
     "output_type": "stream",
     "text": [
      "d:\\programs\\Anaconda\\lib\\site-packages\\composipy\\optimize\\_maximize_buckling.py:109: UserWarning: Loads will be normalized, prefer to use loads between -1 and 1 (Nxx = -1, Nyy = -2.0, Nxy = 1.0)\n",
      "  warnings.warn(f'Loads will be normalized, prefer to use loads between -1 and 1 (Nxx = {Nxx}, Nyy = {Nyy}, Nxy = {Nxy})')\n"
     ]
    },
    {
     "name": "stdout",
     "output_type": "stream",
     "text": [
      "ratio = 2.0, xiD = [-0.92812509  0.85615018], lambda = -21.493536769170518\n"
     ]
    },
    {
     "name": "stderr",
     "output_type": "stream",
     "text": [
      "d:\\programs\\Anaconda\\lib\\site-packages\\composipy\\optimize\\_maximize_buckling.py:109: UserWarning: Loads will be normalized, prefer to use loads between -1 and 1 (Nxx = -1, Nyy = -2.5, Nxy = 1.0)\n",
      "  warnings.warn(f'Loads will be normalized, prefer to use loads between -1 and 1 (Nxx = {Nxx}, Nyy = {Nyy}, Nxy = {Nxy})')\n"
     ]
    },
    {
     "name": "stdout",
     "output_type": "stream",
     "text": [
      "ratio = 2.5, xiD = [-0.98388155  0.9676631 ], lambda = -17.952072540588492\n",
      "shear_ratio = 2.0\n",
      "=========================\n"
     ]
    },
    {
     "name": "stderr",
     "output_type": "stream",
     "text": [
      "d:\\programs\\Anaconda\\lib\\site-packages\\composipy\\optimize\\_maximize_buckling.py:109: UserWarning: Loads will be normalized, prefer to use loads between -1 and 1 (Nxx = -1, Nyy = 0, Nxy = 2.0)\n",
      "  warnings.warn(f'Loads will be normalized, prefer to use loads between -1 and 1 (Nxx = {Nxx}, Nyy = {Nyy}, Nxy = {Nxy})')\n"
     ]
    },
    {
     "name": "stdout",
     "output_type": "stream",
     "text": [
      "ratio = 0, xiD = [-5.00000006e-05 -1.00000000e+00], lambda = -53.40972202711172\n"
     ]
    },
    {
     "name": "stderr",
     "output_type": "stream",
     "text": [
      "d:\\programs\\Anaconda\\lib\\site-packages\\composipy\\optimize\\_maximize_buckling.py:109: UserWarning: Loads will be normalized, prefer to use loads between -1 and 1 (Nxx = -1, Nyy = -0.5, Nxy = 2.0)\n",
      "  warnings.warn(f'Loads will be normalized, prefer to use loads between -1 and 1 (Nxx = {Nxx}, Nyy = {Nyy}, Nxy = {Nxy})')\n"
     ]
    },
    {
     "name": "stdout",
     "output_type": "stream",
     "text": [
      "ratio = 0.5, xiD = [-0.36463649 -0.27082701], lambda = -40.81825677618184\n"
     ]
    },
    {
     "name": "stderr",
     "output_type": "stream",
     "text": [
      "d:\\programs\\Anaconda\\lib\\site-packages\\composipy\\optimize\\_maximize_buckling.py:109: UserWarning: Loads will be normalized, prefer to use loads between -1 and 1 (Nxx = -1, Nyy = -1.0, Nxy = 2.0)\n",
      "  warnings.warn(f'Loads will be normalized, prefer to use loads between -1 and 1 (Nxx = {Nxx}, Nyy = {Nyy}, Nxy = {Nxy})')\n"
     ]
    },
    {
     "name": "stdout",
     "output_type": "stream",
     "text": [
      "ratio = 1.0, xiD = [-0.62150463  0.24290928], lambda = -31.34994133662994\n"
     ]
    },
    {
     "name": "stderr",
     "output_type": "stream",
     "text": [
      "d:\\programs\\Anaconda\\lib\\site-packages\\composipy\\optimize\\_maximize_buckling.py:109: UserWarning: Loads will be normalized, prefer to use loads between -1 and 1 (Nxx = -1, Nyy = -1.5, Nxy = 2.0)\n",
      "  warnings.warn(f'Loads will be normalized, prefer to use loads between -1 and 1 (Nxx = {Nxx}, Nyy = {Nyy}, Nxy = {Nxy})')\n"
     ]
    },
    {
     "name": "stdout",
     "output_type": "stream",
     "text": [
      "ratio = 1.5, xiD = [-0.77851572  0.55693144], lambda = -24.94299919471616\n"
     ]
    },
    {
     "name": "stderr",
     "output_type": "stream",
     "text": [
      "d:\\programs\\Anaconda\\lib\\site-packages\\composipy\\optimize\\_maximize_buckling.py:109: UserWarning: Loads will be normalized, prefer to use loads between -1 and 1 (Nxx = -1, Nyy = -2.0, Nxy = 2.0)\n",
      "  warnings.warn(f'Loads will be normalized, prefer to use loads between -1 and 1 (Nxx = {Nxx}, Nyy = {Nyy}, Nxy = {Nxy})')\n"
     ]
    },
    {
     "name": "stdout",
     "output_type": "stream",
     "text": [
      "ratio = 2.0, xiD = [-0.87845576  0.75681152], lambda = -20.53665384359972\n"
     ]
    },
    {
     "name": "stderr",
     "output_type": "stream",
     "text": [
      "d:\\programs\\Anaconda\\lib\\site-packages\\composipy\\optimize\\_maximize_buckling.py:109: UserWarning: Loads will be normalized, prefer to use loads between -1 and 1 (Nxx = -1, Nyy = -2.5, Nxy = 2.0)\n",
      "  warnings.warn(f'Loads will be normalized, prefer to use loads between -1 and 1 (Nxx = {Nxx}, Nyy = {Nyy}, Nxy = {Nxy})')\n"
     ]
    },
    {
     "name": "stdout",
     "output_type": "stream",
     "text": [
      "ratio = 2.5, xiD = [-0.94569314  0.89128627], lambda = -17.385268200684397\n",
      "shear_ratio = 2.5\n",
      "=========================\n"
     ]
    },
    {
     "name": "stderr",
     "output_type": "stream",
     "text": [
      "d:\\programs\\Anaconda\\lib\\site-packages\\composipy\\optimize\\_maximize_buckling.py:109: UserWarning: Loads will be normalized, prefer to use loads between -1 and 1 (Nxx = -1, Nyy = 0, Nxy = 2.5)\n",
      "  warnings.warn(f'Loads will be normalized, prefer to use loads between -1 and 1 (Nxx = {Nxx}, Nyy = {Nyy}, Nxy = {Nxy})')\n"
     ]
    },
    {
     "name": "stdout",
     "output_type": "stream",
     "text": [
      "ratio = 0, xiD = [-5.00000004e-05 -1.00000000e+00], lambda = -45.87519483489688\n"
     ]
    },
    {
     "name": "stderr",
     "output_type": "stream",
     "text": [
      "d:\\programs\\Anaconda\\lib\\site-packages\\composipy\\optimize\\_maximize_buckling.py:109: UserWarning: Loads will be normalized, prefer to use loads between -1 and 1 (Nxx = -1, Nyy = -0.5, Nxy = 2.5)\n",
      "  warnings.warn(f'Loads will be normalized, prefer to use loads between -1 and 1 (Nxx = {Nxx}, Nyy = {Nyy}, Nxy = {Nxy})')\n"
     ]
    },
    {
     "name": "stdout",
     "output_type": "stream",
     "text": [
      "ratio = 0.5, xiD = [-0.34565457 -0.30879064], lambda = -36.645399998342455\n"
     ]
    },
    {
     "name": "stderr",
     "output_type": "stream",
     "text": [
      "d:\\programs\\Anaconda\\lib\\site-packages\\composipy\\optimize\\_maximize_buckling.py:109: UserWarning: Loads will be normalized, prefer to use loads between -1 and 1 (Nxx = -1, Nyy = -1.0, Nxy = 2.5)\n",
      "  warnings.warn(f'Loads will be normalized, prefer to use loads between -1 and 1 (Nxx = {Nxx}, Nyy = {Nyy}, Nxy = {Nxy})')\n"
     ]
    },
    {
     "name": "stdout",
     "output_type": "stream",
     "text": [
      "ratio = 1.0, xiD = [-0.58373758  0.16737516], lambda = -29.2453555369931\n"
     ]
    },
    {
     "name": "stderr",
     "output_type": "stream",
     "text": [
      "d:\\programs\\Anaconda\\lib\\site-packages\\composipy\\optimize\\_maximize_buckling.py:109: UserWarning: Loads will be normalized, prefer to use loads between -1 and 1 (Nxx = -1, Nyy = -1.5, Nxy = 2.5)\n",
      "  warnings.warn(f'Loads will be normalized, prefer to use loads between -1 and 1 (Nxx = {Nxx}, Nyy = {Nyy}, Nxy = {Nxy})')\n"
     ]
    },
    {
     "name": "stdout",
     "output_type": "stream",
     "text": [
      "ratio = 1.5, xiD = [-0.74178089  0.48346178], lambda = -23.828266754290734\n"
     ]
    },
    {
     "name": "stderr",
     "output_type": "stream",
     "text": [
      "d:\\programs\\Anaconda\\lib\\site-packages\\composipy\\optimize\\_maximize_buckling.py:109: UserWarning: Loads will be normalized, prefer to use loads between -1 and 1 (Nxx = -1, Nyy = -2.0, Nxy = 2.5)\n",
      "  warnings.warn(f'Loads will be normalized, prefer to use loads between -1 and 1 (Nxx = {Nxx}, Nyy = {Nyy}, Nxy = {Nxy})')\n"
     ]
    },
    {
     "name": "stdout",
     "output_type": "stream",
     "text": [
      "ratio = 2.0, xiD = [-0.84753576  0.69497152], lambda = -19.899127672244404\n"
     ]
    },
    {
     "name": "stderr",
     "output_type": "stream",
     "text": [
      "d:\\programs\\Anaconda\\lib\\site-packages\\composipy\\optimize\\_maximize_buckling.py:109: UserWarning: Loads will be normalized, prefer to use loads between -1 and 1 (Nxx = -1, Nyy = -2.5, Nxy = 2.5)\n",
      "  warnings.warn(f'Loads will be normalized, prefer to use loads between -1 and 1 (Nxx = {Nxx}, Nyy = {Nyy}, Nxy = {Nxy})')\n"
     ]
    },
    {
     "name": "stdout",
     "output_type": "stream",
     "text": [
      "ratio = 2.5, xiD = [-0.92056333  0.84102666], lambda = -16.99351407453444\n",
      "shear_ratio = 3.0\n",
      "=========================\n"
     ]
    },
    {
     "name": "stderr",
     "output_type": "stream",
     "text": [
      "d:\\programs\\Anaconda\\lib\\site-packages\\composipy\\optimize\\_maximize_buckling.py:109: UserWarning: Loads will be normalized, prefer to use loads between -1 and 1 (Nxx = -1, Nyy = 0, Nxy = 3.0)\n",
      "  warnings.warn(f'Loads will be normalized, prefer to use loads between -1 and 1 (Nxx = {Nxx}, Nyy = {Nyy}, Nxy = {Nxy})')\n"
     ]
    },
    {
     "name": "stdout",
     "output_type": "stream",
     "text": [
      "ratio = 0, xiD = [-0.02572596 -0.94864808], lambda = -40.08610694193087\n"
     ]
    },
    {
     "name": "stderr",
     "output_type": "stream",
     "text": [
      "d:\\programs\\Anaconda\\lib\\site-packages\\composipy\\optimize\\_maximize_buckling.py:109: UserWarning: Loads will be normalized, prefer to use loads between -1 and 1 (Nxx = -1, Nyy = -0.5, Nxy = 3.0)\n",
      "  warnings.warn(f'Loads will be normalized, prefer to use loads between -1 and 1 (Nxx = {Nxx}, Nyy = {Nyy}, Nxy = {Nxy})')\n"
     ]
    },
    {
     "name": "stdout",
     "output_type": "stream",
     "text": [
      "ratio = 0.5, xiD = [-0.33181586 -0.33646829], lambda = -33.09510280265455\n"
     ]
    },
    {
     "name": "stderr",
     "output_type": "stream",
     "text": [
      "d:\\programs\\Anaconda\\lib\\site-packages\\composipy\\optimize\\_maximize_buckling.py:109: UserWarning: Loads will be normalized, prefer to use loads between -1 and 1 (Nxx = -1, Nyy = -1.0, Nxy = 3.0)\n",
      "  warnings.warn(f'Loads will be normalized, prefer to use loads between -1 and 1 (Nxx = {Nxx}, Nyy = {Nyy}, Nxy = {Nxy})')\n"
     ]
    },
    {
     "name": "stdout",
     "output_type": "stream",
     "text": [
      "ratio = 1.0, xiD = [-0.55064187  0.10118376], lambda = -27.227891558740293\n"
     ]
    },
    {
     "name": "stderr",
     "output_type": "stream",
     "text": [
      "d:\\programs\\Anaconda\\lib\\site-packages\\composipy\\optimize\\_maximize_buckling.py:109: UserWarning: Loads will be normalized, prefer to use loads between -1 and 1 (Nxx = -1, Nyy = -1.5, Nxy = 3.0)\n",
      "  warnings.warn(f'Loads will be normalized, prefer to use loads between -1 and 1 (Nxx = {Nxx}, Nyy = {Nyy}, Nxy = {Nxy})')\n"
     ]
    },
    {
     "name": "stdout",
     "output_type": "stream",
     "text": [
      "ratio = 1.5, xiD = [-0.70603079  0.41196158], lambda = -22.6684448004703\n"
     ]
    },
    {
     "name": "stderr",
     "output_type": "stream",
     "text": [
      "d:\\programs\\Anaconda\\lib\\site-packages\\composipy\\optimize\\_maximize_buckling.py:109: UserWarning: Loads will be normalized, prefer to use loads between -1 and 1 (Nxx = -1, Nyy = -2.0, Nxy = 3.0)\n",
      "  warnings.warn(f'Loads will be normalized, prefer to use loads between -1 and 1 (Nxx = {Nxx}, Nyy = {Nyy}, Nxy = {Nxy})')\n"
     ]
    },
    {
     "name": "stdout",
     "output_type": "stream",
     "text": [
      "ratio = 2.0, xiD = [-0.81534056  0.63058111], lambda = -19.20108161883388\n"
     ]
    },
    {
     "name": "stderr",
     "output_type": "stream",
     "text": [
      "d:\\programs\\Anaconda\\lib\\site-packages\\composipy\\optimize\\_maximize_buckling.py:109: UserWarning: Loads will be normalized, prefer to use loads between -1 and 1 (Nxx = -1, Nyy = -2.5, Nxy = 3.0)\n",
      "  warnings.warn(f'Loads will be normalized, prefer to use loads between -1 and 1 (Nxx = {Nxx}, Nyy = {Nyy}, Nxy = {Nxy})')\n"
     ]
    },
    {
     "name": "stdout",
     "output_type": "stream",
     "text": [
      "ratio = 2.5, xiD = [-0.89323063  0.78636126], lambda = -16.550716519079806\n",
      "shear_ratio = 3.5\n",
      "=========================\n"
     ]
    },
    {
     "name": "stderr",
     "output_type": "stream",
     "text": [
      "d:\\programs\\Anaconda\\lib\\site-packages\\composipy\\optimize\\_maximize_buckling.py:109: UserWarning: Loads will be normalized, prefer to use loads between -1 and 1 (Nxx = -1, Nyy = 0, Nxy = 3.5)\n",
      "  warnings.warn(f'Loads will be normalized, prefer to use loads between -1 and 1 (Nxx = {Nxx}, Nyy = {Nyy}, Nxy = {Nxy})')\n"
     ]
    },
    {
     "name": "stdout",
     "output_type": "stream",
     "text": [
      "ratio = 0, xiD = [-0.05501136 -0.89007729], lambda = -35.5545601190607\n"
     ]
    },
    {
     "name": "stderr",
     "output_type": "stream",
     "text": [
      "d:\\programs\\Anaconda\\lib\\site-packages\\composipy\\optimize\\_maximize_buckling.py:109: UserWarning: Loads will be normalized, prefer to use loads between -1 and 1 (Nxx = -1, Nyy = -0.5, Nxy = 3.5)\n",
      "  warnings.warn(f'Loads will be normalized, prefer to use loads between -1 and 1 (Nxx = {Nxx}, Nyy = {Nyy}, Nxy = {Nxy})')\n"
     ]
    },
    {
     "name": "stdout",
     "output_type": "stream",
     "text": [
      "ratio = 0.5, xiD = [-0.32146358 -0.35717285], lambda = -30.095502082773013\n"
     ]
    },
    {
     "name": "stderr",
     "output_type": "stream",
     "text": [
      "d:\\programs\\Anaconda\\lib\\site-packages\\composipy\\optimize\\_maximize_buckling.py:109: UserWarning: Loads will be normalized, prefer to use loads between -1 and 1 (Nxx = -1, Nyy = -1.0, Nxy = 3.5)\n",
      "  warnings.warn(f'Loads will be normalized, prefer to use loads between -1 and 1 (Nxx = {Nxx}, Nyy = {Nyy}, Nxy = {Nxy})')\n"
     ]
    },
    {
     "name": "stdout",
     "output_type": "stream",
     "text": [
      "ratio = 1.0, xiD = [-0.52230745  0.04451489], lambda = -25.36307105467693\n"
     ]
    },
    {
     "name": "stderr",
     "output_type": "stream",
     "text": [
      "d:\\programs\\Anaconda\\lib\\site-packages\\composipy\\optimize\\_maximize_buckling.py:109: UserWarning: Loads will be normalized, prefer to use loads between -1 and 1 (Nxx = -1, Nyy = -1.5, Nxy = 3.5)\n",
      "  warnings.warn(f'Loads will be normalized, prefer to use loads between -1 and 1 (Nxx = {Nxx}, Nyy = {Nyy}, Nxy = {Nxy})')\n"
     ]
    },
    {
     "name": "stdout",
     "output_type": "stream",
     "text": [
      "ratio = 1.5, xiD = [-0.67268743  0.34527485], lambda = -21.517232267281482\n"
     ]
    },
    {
     "name": "stderr",
     "output_type": "stream",
     "text": [
      "d:\\programs\\Anaconda\\lib\\site-packages\\composipy\\optimize\\_maximize_buckling.py:109: UserWarning: Loads will be normalized, prefer to use loads between -1 and 1 (Nxx = -1, Nyy = -2.0, Nxy = 3.5)\n",
      "  warnings.warn(f'Loads will be normalized, prefer to use loads between -1 and 1 (Nxx = {Nxx}, Nyy = {Nyy}, Nxy = {Nxy})')\n"
     ]
    },
    {
     "name": "stdout",
     "output_type": "stream",
     "text": [
      "ratio = 2.0, xiD = [-0.7833868   0.56667363], lambda = -18.472980584497098\n"
     ]
    },
    {
     "name": "stderr",
     "output_type": "stream",
     "text": [
      "d:\\programs\\Anaconda\\lib\\site-packages\\composipy\\optimize\\_maximize_buckling.py:109: UserWarning: Loads will be normalized, prefer to use loads between -1 and 1 (Nxx = -1, Nyy = -2.5, Nxy = 3.5)\n",
      "  warnings.warn(f'Loads will be normalized, prefer to use loads between -1 and 1 (Nxx = {Nxx}, Nyy = {Nyy}, Nxy = {Nxy})')\n"
     ]
    },
    {
     "name": "stdout",
     "output_type": "stream",
     "text": [
      "ratio = 2.5, xiD = [-0.86489639  0.72969277], lambda = -16.073173329844433\n",
      "shear_ratio = 4.0\n",
      "=========================\n"
     ]
    },
    {
     "name": "stderr",
     "output_type": "stream",
     "text": [
      "d:\\programs\\Anaconda\\lib\\site-packages\\composipy\\optimize\\_maximize_buckling.py:109: UserWarning: Loads will be normalized, prefer to use loads between -1 and 1 (Nxx = -1, Nyy = 0, Nxy = 4.0)\n",
      "  warnings.warn(f'Loads will be normalized, prefer to use loads between -1 and 1 (Nxx = {Nxx}, Nyy = {Nyy}, Nxy = {Nxy})')\n"
     ]
    },
    {
     "name": "stdout",
     "output_type": "stream",
     "text": [
      "ratio = 0, xiD = [-0.0779157 -0.8442686], lambda = -31.93043970656103\n"
     ]
    },
    {
     "name": "stderr",
     "output_type": "stream",
     "text": [
      "d:\\programs\\Anaconda\\lib\\site-packages\\composipy\\optimize\\_maximize_buckling.py:109: UserWarning: Loads will be normalized, prefer to use loads between -1 and 1 (Nxx = -1, Nyy = -0.5, Nxy = 4.0)\n",
      "  warnings.warn(f'Loads will be normalized, prefer to use loads between -1 and 1 (Nxx = {Nxx}, Nyy = {Nyy}, Nxy = {Nxy})')\n"
     ]
    },
    {
     "name": "stdout",
     "output_type": "stream",
     "text": [
      "ratio = 0.5, xiD = [-0.31350239 -0.37309522], lambda = -27.553116225075783\n"
     ]
    },
    {
     "name": "stderr",
     "output_type": "stream",
     "text": [
      "d:\\programs\\Anaconda\\lib\\site-packages\\composipy\\optimize\\_maximize_buckling.py:109: UserWarning: Loads will be normalized, prefer to use loads between -1 and 1 (Nxx = -1, Nyy = -1.0, Nxy = 4.0)\n",
      "  warnings.warn(f'Loads will be normalized, prefer to use loads between -1 and 1 (Nxx = {Nxx}, Nyy = {Nyy}, Nxy = {Nxy})')\n"
     ]
    },
    {
     "name": "stdout",
     "output_type": "stream",
     "text": [
      "ratio = 1.0, xiD = [-0.49821348 -0.00367304], lambda = -23.67105746288599\n"
     ]
    },
    {
     "name": "stderr",
     "output_type": "stream",
     "text": [
      "d:\\programs\\Anaconda\\lib\\site-packages\\composipy\\optimize\\_maximize_buckling.py:109: UserWarning: Loads will be normalized, prefer to use loads between -1 and 1 (Nxx = -1, Nyy = -1.5, Nxy = 4.0)\n",
      "  warnings.warn(f'Loads will be normalized, prefer to use loads between -1 and 1 (Nxx = {Nxx}, Nyy = {Nyy}, Nxy = {Nxy})')\n"
     ]
    },
    {
     "name": "stdout",
     "output_type": "stream",
     "text": [
      "ratio = 1.5, xiD = [-0.6423394   0.28457908], lambda = -20.40837325477989\n"
     ]
    },
    {
     "name": "stderr",
     "output_type": "stream",
     "text": [
      "d:\\programs\\Anaconda\\lib\\site-packages\\composipy\\optimize\\_maximize_buckling.py:109: UserWarning: Loads will be normalized, prefer to use loads between -1 and 1 (Nxx = -1, Nyy = -2.0, Nxy = 4.0)\n",
      "  warnings.warn(f'Loads will be normalized, prefer to use loads between -1 and 1 (Nxx = {Nxx}, Nyy = {Nyy}, Nxy = {Nxy})')\n"
     ]
    },
    {
     "name": "stdout",
     "output_type": "stream",
     "text": [
      "ratio = 2.0, xiD = [-0.75267334  0.50524667], lambda = -17.7389061182237\n"
     ]
    },
    {
     "name": "stderr",
     "output_type": "stream",
     "text": [
      "d:\\programs\\Anaconda\\lib\\site-packages\\composipy\\optimize\\_maximize_buckling.py:109: UserWarning: Loads will be normalized, prefer to use loads between -1 and 1 (Nxx = -1, Nyy = -2.5, Nxy = 4.0)\n",
      "  warnings.warn(f'Loads will be normalized, prefer to use loads between -1 and 1 (Nxx = {Nxx}, Nyy = {Nyy}, Nxy = {Nxy})')\n"
     ]
    },
    {
     "name": "stdout",
     "output_type": "stream",
     "text": [
      "ratio = 2.5, xiD = [-0.83651554  0.67293107], lambda = -15.575567021824352\n"
     ]
    }
   ],
   "source": [
    "# Nxx, Nyy, Nxy\n",
    "T = 3.048\n",
    "ratio = [0, 0.5, 1.0, 1.5, 2.0, 2.5]\n",
    "shear_ratio = [0, 0.5, 1.0, 2.0, 2.5, 3.0, 3.5, 4.0]\n",
    "\n",
    "for sr in shear_ratio:\n",
    "    print(f'shear_ratio = {sr}')\n",
    "    print('=========================')\n",
    "    for r in ratio:\n",
    "        res = optimize_panel_shear(r, T, sr)\n",
    "        fun = res.fun\n",
    "\n",
    "        if max(r, sr) > 1:\n",
    "            fun = fun / max(r, sr) #it compensates function natural normalization\n",
    "\n",
    "        print(f'ratio = {r}, xiD = {res.x}, lambda = {fun}')"
   ]
  },
  {
   "cell_type": "markdown",
   "metadata": {},
   "source": [
    "## Sanity check"
   ]
  },
  {
   "cell_type": "code",
   "execution_count": 1,
   "metadata": {},
   "outputs": [],
   "source": [
    "from composipy import OrthotropicMaterial, LaminateProperty, PlateStructure"
   ]
  },
  {
   "cell_type": "code",
   "execution_count": 2,
   "metadata": {},
   "outputs": [],
   "source": [
    "E1 = 128e3\n",
    "E2 = 13e3\n",
    "G12 = 6.4e3\n",
    "v12 = 0.3\n",
    "a = 508\n",
    "b = 254\n",
    "m = 10\n",
    "n = 10\n",
    "panel_constraint = 'PINNED'\n",
    "\n",
    "Nxx = -1\n",
    "Nyy = -2.5\n",
    "Nxy = -4.0\n",
    "\n",
    "xiD1, xiD3 = -0.83651554,  0.67293107\n",
    "T = 3.048\n"
   ]
  },
  {
   "cell_type": "code",
   "execution_count": 3,
   "metadata": {},
   "outputs": [
    {
     "data": {
      "text/plain": [
       "(array([15.57353763, 15.57495611, 17.93908376, 21.91352216, 27.71267923]),\n",
       " array([[-2.72467966e-01,  2.40966763e-02, -3.83413401e-01,\n",
       "         -4.17876283e-01,  4.23290186e-01],\n",
       "        [ 1.33979458e+00, -6.17662073e-01,  1.70894215e+00,\n",
       "          1.53586477e+00, -1.40177517e+00],\n",
       "        [-1.95311399e-01, -1.18957834e-02, -2.93163542e-01,\n",
       "         -4.15781617e-01,  5.78189323e-01],\n",
       "        [-6.60087462e-01,  4.03738276e-01, -7.71241672e-01,\n",
       "         -5.58322427e-01,  4.15272918e-01],\n",
       "        [-1.35094203e-01,  1.42393703e-01, -1.10836700e-01,\n",
       "          7.21510930e-02, -3.18197413e-01],\n",
       "        [-7.92117308e-02,  1.56930057e-02, -1.14791052e-01,\n",
       "         -1.62038309e-01,  1.64238904e-01],\n",
       "        [-4.57952968e-02,  1.98440034e-02, -9.09429028e-02,\n",
       "         -1.03288740e-01,  1.56841519e-01],\n",
       "        [-5.09183419e-02,  1.87230215e-02, -7.96137846e-02,\n",
       "         -9.91470329e-02,  1.15185852e-01],\n",
       "        [-2.12902450e-02,  9.25470108e-03, -2.60502654e-02,\n",
       "         -3.31054513e-02,  3.66479939e-02],\n",
       "        [-1.01834260e-02,  6.32812964e-03, -2.54627510e-02,\n",
       "         -1.88389361e-02,  3.50602671e-02],\n",
       "        [-1.33979458e+00, -6.17662073e-01,  1.70894215e+00,\n",
       "         -1.53586477e+00, -1.40177517e+00],\n",
       "        [ 2.72467966e-01,  2.40966762e-02, -3.83413401e-01,\n",
       "          4.17876283e-01,  4.23290186e-01],\n",
       "        [-1.95311399e-01,  1.18957834e-02,  2.93163542e-01,\n",
       "         -4.15781617e-01, -5.78189323e-01],\n",
       "        [ 6.60087462e-01,  4.03738276e-01, -7.71241672e-01,\n",
       "          5.58322427e-01,  4.15272918e-01],\n",
       "        [-1.35094203e-01, -1.42393703e-01,  1.10836700e-01,\n",
       "          7.21510930e-02,  3.18197413e-01],\n",
       "        [ 7.92117308e-02,  1.56930057e-02, -1.14791052e-01,\n",
       "          1.62038309e-01,  1.64238904e-01],\n",
       "        [-4.57952968e-02, -1.98440034e-02,  9.09429028e-02,\n",
       "         -1.03288740e-01, -1.56841519e-01],\n",
       "        [ 5.09183419e-02,  1.87230215e-02, -7.96137846e-02,\n",
       "          9.91470329e-02,  1.15185852e-01],\n",
       "        [-2.12902450e-02, -9.25470107e-03,  2.60502654e-02,\n",
       "         -3.31054513e-02, -3.66479939e-02],\n",
       "        [ 1.01834260e-02,  6.32812964e-03, -2.54627510e-02,\n",
       "          1.88389361e-02,  3.50602671e-02],\n",
       "        [-1.43048998e+00,  8.57706675e-01,  1.76043296e+00,\n",
       "         -1.56187284e+00, -1.88792743e+00],\n",
       "        [-1.43048998e+00, -8.57706675e-01, -1.76043296e+00,\n",
       "         -1.56187284e+00,  1.88792743e+00],\n",
       "        [ 4.41435631e-11,  9.38712875e-01,  2.45907755e-01,\n",
       "         -3.28952403e-13, -1.22185823e+00],\n",
       "        [ 1.81544072e+00, -8.13127659e-11,  1.29246389e-12,\n",
       "          1.67927822e+00,  1.44948776e-11],\n",
       "        [-1.95154647e-11, -4.39701651e-01,  3.42435878e-01,\n",
       "         -2.76602239e-12,  7.68173519e-01],\n",
       "        [ 1.77580614e-01, -4.81887607e-12, -1.30984564e-12,\n",
       "          3.68014321e-01,  1.53601451e-11],\n",
       "        [-1.50274275e-11, -4.48820118e-02,  2.21695722e-01,\n",
       "         -8.54214936e-13, -3.92343693e-01],\n",
       "        [ 1.27116073e-01, -3.30892835e-12, -3.70055680e-12,\n",
       "          2.48293673e-01,  7.50294385e-12],\n",
       "        [-6.52813336e-12, -2.31774050e-02,  6.49617914e-02,\n",
       "         -3.24378821e-13, -9.10057272e-02],\n",
       "        [ 2.53647226e-02, -1.05568509e-12,  4.75879464e-13,\n",
       "          4.68647638e-02, -3.28603707e-12],\n",
       "        [ 1.78183817e+00,  2.93888188e-01,  2.29175320e+00,\n",
       "         -1.44121935e+00, -2.32208389e+00],\n",
       "        [-1.78183817e+00,  2.93888188e-01,  2.29175320e+00,\n",
       "          1.44121935e+00, -2.32208389e+00],\n",
       "        [ 1.99893863e+00, -7.95631238e-11, -3.30072194e-12,\n",
       "         -1.04147336e-01,  5.32113405e-12],\n",
       "        [-3.17292775e-11, -7.04611323e-01, -2.74811425e+00,\n",
       "         -2.98014798e-12,  2.59265099e+00],\n",
       "        [-8.95844206e-01,  5.26151733e-11, -3.91898435e-12,\n",
       "         -1.54738630e-01,  5.60040214e-12],\n",
       "        [ 3.00659021e-12,  1.79711542e-01, -3.16889421e-01,\n",
       "         -9.58797120e-12,  3.45950337e-01],\n",
       "        [-1.18340504e-01,  1.81284916e-11, -5.11168124e-12,\n",
       "         -3.17820516e-01, -2.09360889e-12],\n",
       "        [-1.30973231e-12,  5.96669132e-02, -2.74167801e-01,\n",
       "         -1.31902553e-11,  4.10046963e-01],\n",
       "        [-7.45736442e-02,  6.40109256e-12,  1.63317527e-12,\n",
       "         -1.14867748e-01,  1.19830492e-12],\n",
       "        [-3.94953413e-12,  2.20154209e-02, -8.79679387e-02,\n",
       "         -4.07721377e-12,  1.20299002e-01],\n",
       "        [ 8.31761846e-01, -1.02576253e+00, -3.09253863e+00,\n",
       "         -2.81497676e+00, -3.81597957e-01],\n",
       "        [ 8.31761846e-01,  1.02576253e+00,  3.09253863e+00,\n",
       "         -2.81497676e+00,  3.81597957e-01],\n",
       "        [-1.14766572e-11, -3.72654034e-01, -3.59215999e+00,\n",
       "         -7.76319821e-13,  7.05774874e-01],\n",
       "        [-1.99413632e+00,  8.46613385e-11,  2.22502328e-12,\n",
       "          3.35144532e+00,  2.44619532e-11],\n",
       "        [ 1.59067517e-12,  4.47396509e-02,  1.66268011e+00,\n",
       "         -4.44915061e-12, -1.86047630e-01],\n",
       "        [ 5.01781094e-01, -1.71086155e-11, -2.22017065e-12,\n",
       "          3.64811262e-01,  2.62863511e-11],\n",
       "        [-2.82202665e-11, -1.42809206e-01,  2.60051360e-01,\n",
       "         -1.56036742e-12, -5.40092754e-01],\n",
       "        [ 2.00402627e-01, -4.92154432e-12, -6.22243428e-12,\n",
       "          4.26142997e-01,  1.28339182e-11],\n",
       "        [-1.11278708e-11, -3.85431342e-02,  1.14348202e-01,\n",
       "         -5.24069088e-13, -1.59038427e-01],\n",
       "        [ 4.39489165e-02, -1.86335816e-12,  7.14536808e-13,\n",
       "          7.95047427e-02, -5.40129127e-12],\n",
       "        [-1.15011103e+00, -1.76725704e-01, -2.54299827e+00,\n",
       "          4.09830981e+00, -2.84697944e+00],\n",
       "        [ 1.15011103e+00, -1.76725705e-01, -2.54299827e+00,\n",
       "         -4.09830981e+00, -2.84697944e+00],\n",
       "        [-5.35135276e-01,  3.51391588e-11, -4.74009836e-12,\n",
       "          5.26870921e+00,  7.59338545e-12],\n",
       "        [ 6.61600035e-13,  3.58778179e-02,  4.94968414e+00,\n",
       "         -3.65807801e-12,  3.55003050e+00],\n",
       "        [ 3.66258296e-01,  3.13951434e-12, -5.48316824e-12,\n",
       "         -2.86719098e+00,  7.62718092e-12],\n",
       "        [-2.63800661e-12,  9.87654279e-02, -6.52478038e-01,\n",
       "         -1.36289282e-11, -4.79840704e-02],\n",
       "        [-2.70059434e-01,  3.04922166e-11, -7.42003290e-12,\n",
       "         -1.34533107e-01, -2.64762650e-12],\n",
       "        [-1.71377394e-12,  9.50514373e-02, -3.37797137e-01,\n",
       "         -1.92199889e-11,  5.76025929e-01],\n",
       "        [-1.07910014e-01,  9.42794393e-12,  2.08242131e-12,\n",
       "         -1.75807549e-01,  1.76981881e-12],\n",
       "        [-5.83960430e-12,  3.19498374e-02, -1.29728068e-01,\n",
       "         -5.91561351e-12,  1.71908549e-01],\n",
       "        [ 1.63223743e-01,  8.11066339e-02,  1.83938426e+00,\n",
       "          4.74484018e+00,  3.97003297e+00],\n",
       "        [ 1.63223743e-01, -8.11066339e-02, -1.83938426e+00,\n",
       "          4.74484018e+00, -3.97003297e+00],\n",
       "        [ 7.57050477e-12,  5.71098108e-02,  1.75492498e+00,\n",
       "         -1.15491457e-12,  7.32282952e+00],\n",
       "        [-7.10681524e-01,  2.80472964e-11,  2.51497544e-12,\n",
       "         -8.45699161e+00,  2.82100460e-11],\n",
       "        [ 7.63978844e-12,  1.81037480e-01, -1.48362957e+00,\n",
       "         -4.64486341e-12, -5.02527267e+00],\n",
       "        [ 1.69839025e-01, -2.25371030e-12, -2.30943574e-12,\n",
       "          8.88611392e-01,  3.05320371e-11],\n",
       "        [-3.11228076e-11, -1.46077641e-01,  5.02373910e-01,\n",
       "         -2.01343013e-12, -8.95436323e-02],\n",
       "        [ 2.44109003e-01, -6.15192310e-12, -7.00777214e-12,\n",
       "          3.54695671e-01,  1.51301986e-11],\n",
       "        [-1.32193379e-11, -4.73272500e-02,  1.35537436e-01,\n",
       "         -4.85821480e-13, -2.11513627e-01],\n",
       "        [ 5.16203261e-02, -2.20468423e-12,  1.04610268e-12,\n",
       "          9.60699011e-02, -5.79604723e-12],\n",
       "        [ 1.69115101e-01,  1.12624495e-01,  1.13398120e-01,\n",
       "         -2.36729293e+00,  7.21596124e+00],\n",
       "        [-1.69115101e-01,  1.12624495e-01,  1.13398120e-01,\n",
       "          2.36729293e+00,  7.21596124e+00],\n",
       "        [-2.26499775e-01,  2.18155786e-11, -4.53739203e-12,\n",
       "         -3.89681134e+00,  7.58368155e-12],\n",
       "        [-1.22491960e-11, -2.73592927e-01,  1.09233809e-01,\n",
       "         -2.20010747e-12, -1.23516189e+01],\n",
       "        [ 6.35287183e-01, -7.56089573e-12, -5.77214106e-12,\n",
       "          3.37794279e+00,  6.85574916e-12],\n",
       "        [-8.93327300e-12, -3.21703852e-02,  2.41475856e-01,\n",
       "         -1.43244276e-11,  1.11035188e+00],\n",
       "        [-1.72991458e-01,  2.73648396e-11, -8.21100010e-12,\n",
       "         -4.32095975e-01, -1.82807678e-12],\n",
       "        [-2.45104723e-12,  9.84075625e-02, -3.65782843e-01,\n",
       "         -2.11049173e-11,  2.08231483e-01],\n",
       "        [-1.20822295e-01,  1.05498381e-11,  1.72693575e-12,\n",
       "         -1.86248400e-01,  2.06968877e-12],\n",
       "        [-6.19662367e-12,  3.48459880e-02, -1.39120476e-01,\n",
       "         -7.28027456e-12,  1.87981658e-01],\n",
       "        [ 2.12247293e-01,  2.74745088e-02, -4.84179138e-01,\n",
       "         -1.21553567e+00, -2.41534975e+00],\n",
       "        [ 2.12247293e-01, -2.74745088e-02,  4.84179138e-01,\n",
       "         -1.21553567e+00,  2.41534975e+00],\n",
       "        [-2.57120008e-12, -1.28009825e-01,  1.22437833e-01,\n",
       "         -7.03213129e-13, -7.05180036e+00],\n",
       "        [-4.15740095e-01,  1.61661434e-11,  1.66612447e-12,\n",
       "          1.85121590e+00,  1.99649031e-11],\n",
       "        [ 1.10038789e-11,  2.56119900e-01, -6.67069047e-01,\n",
       "         -3.17264189e-12,  6.66941162e+00],\n",
       "        [-1.04768965e-01,  7.82231873e-12, -1.29891376e-12,\n",
       "         -4.22884026e-01,  2.07851045e-11],\n",
       "        [-1.99696465e-11, -7.61173822e-02,  1.91144529e-01,\n",
       "         -1.52245592e-12, -6.85696968e-01],\n",
       "        [ 1.65239711e-01, -4.05456492e-12, -4.70494185e-12,\n",
       "          3.29279645e-01,  1.03507033e-11],\n",
       "        [-9.44762788e-12, -3.54121420e-02,  1.04304644e-01,\n",
       "         -2.76527964e-13, -1.28896239e-01],\n",
       "        [ 3.69776338e-02, -1.60206249e-12,  7.37394852e-13,\n",
       "          6.59656292e-02, -5.00576497e-12],\n",
       "        [ 1.08635611e-01,  5.11894053e-02, -2.67012791e-01,\n",
       "          8.80951732e-01, -2.27369727e+00],\n",
       "        [-1.08635611e-01,  5.11894053e-02, -2.67012791e-01,\n",
       "         -8.80951732e-01, -2.27369727e+00],\n",
       "        [-2.58184468e-01,  1.83384584e-11, -2.31074398e-12,\n",
       "          2.66937187e-01,  5.56990319e-12],\n",
       "        [-1.56522358e-12, -4.59082357e-02,  2.76837165e-01,\n",
       "          7.14741000e-13,  4.32819052e+00],\n",
       "        [ 4.23072033e-01, -5.15746524e-12, -3.38488114e-12,\n",
       "          2.38062028e-01,  1.24328946e-12],\n",
       "        [-1.08131045e-11, -1.12960571e-01,  4.20972431e-01,\n",
       "         -1.00978284e-11, -1.36112421e+00],\n",
       "        [-8.13112168e-03,  1.34962250e-11, -6.29366004e-12,\n",
       "          1.00005820e-01,  2.29755560e-13],\n",
       "        [-2.75400535e-12,  5.61689803e-02, -1.93683385e-01,\n",
       "         -1.50784324e-11,  3.08825910e-01],\n",
       "        [-8.23148648e-02,  7.24353910e-12,  5.32685008e-13,\n",
       "         -1.33962865e-01,  1.72692476e-12],\n",
       "        [-4.12511345e-12,  2.37523771e-02, -9.38118945e-02,\n",
       "         -5.13425891e-12,  1.21843083e-01]]))"
      ]
     },
     "execution_count": 3,
     "metadata": {},
     "output_type": "execute_result"
    }
   ],
   "source": [
    "stack = {'xiD': [xiD1, 0., xiD3, 0.], 'T': T}\n",
    "mat = OrthotropicMaterial(E1, E2, v12, G12, 0.1)\n",
    "lam = LaminateProperty(stacking=stack, plies=mat)\n",
    "plate = PlateStructure(lam, a, b, panel_constraint, Nxx, Nyy, Nxy, m, n)\n",
    "\n",
    "plate.buckling_analysis()"
   ]
  },
  {
   "cell_type": "code",
   "execution_count": null,
   "metadata": {},
   "outputs": [],
   "source": []
  },
  {
   "cell_type": "code",
   "execution_count": null,
   "metadata": {},
   "outputs": [],
   "source": []
  }
 ],
 "metadata": {
  "kernelspec": {
   "display_name": "base",
   "language": "python",
   "name": "python3"
  },
  "language_info": {
   "codemirror_mode": {
    "name": "ipython",
    "version": 3
   },
   "file_extension": ".py",
   "mimetype": "text/x-python",
   "name": "python",
   "nbconvert_exporter": "python",
   "pygments_lexer": "ipython3",
   "version": "3.9.13"
  },
  "orig_nbformat": 4
 },
 "nbformat": 4,
 "nbformat_minor": 2
}
