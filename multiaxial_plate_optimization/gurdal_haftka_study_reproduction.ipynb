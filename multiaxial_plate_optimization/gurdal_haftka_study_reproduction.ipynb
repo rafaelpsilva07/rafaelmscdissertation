{
 "cells": [
  {
   "cell_type": "markdown",
   "metadata": {},
   "source": [
    "Reproduction of Haftka and Gurdal study using composipy.\n",
    "\n",
    "\n",
    "References\n",
    "----------\n",
    "1 - Gurdal, Z. and Haftka, R. T. “Optimization of Composite Laminates,”\n",
    " presented at the NATO Advanced Study Institute on Optimization of Large Structural Systems, Berchtesgaden, Germany, Sept. 23 – Oct. 4, 1991.\n"
   ]
  },
  {
   "cell_type": "code",
   "execution_count": 3,
   "metadata": {},
   "outputs": [],
   "source": [
    "from composipy.optimize import  maximize_buckling_load"
   ]
  },
  {
   "cell_type": "code",
   "execution_count": 4,
   "metadata": {},
   "outputs": [],
   "source": [
    "panel = {'E1': 128e3,\n",
    "            'E2': 13e3,\n",
    "            'G12': 6.4e3,\n",
    "            'v12': 0.3,\n",
    "            'a': 508,\n",
    "            'b': 254,\n",
    "            'm': 7,\n",
    "            'n': 7,\n",
    "            'panel_constraint' : 'PINNED',\n",
    "            'plot': False\n",
    "}"
   ]
  },
  {
   "cell_type": "code",
   "execution_count": 5,
   "metadata": {},
   "outputs": [],
   "source": [
    "def optimize_panel(ratio, Ts):\n",
    "    global panel\n",
    "\n",
    "    return maximize_buckling_load(\n",
    "        T=Ts, Nxx=-1, Nyy=-1*ratio, Nxy=0,\n",
    "        **panel\n",
    "    )"
   ]
  },
  {
   "cell_type": "markdown",
   "metadata": {},
   "source": [
    "## 1-Verification of Gurdal and Hafka results"
   ]
  },
  {
   "cell_type": "code",
   "execution_count": 11,
   "metadata": {},
   "outputs": [
    {
     "name": "stdout",
     "output_type": "stream",
     "text": [
      "t = 1.016\n",
      "=========================\n",
      "ratio = 0, xiD = [ 5.e-05 -1.e+00], lambda = -3.805145735847548\n",
      "ratio = 0.5, xiD = [-0.47913233 -0.04183533], lambda = -2.0720368595696588\n",
      "ratio = 1.0, xiD = [-0.74205514  0.48401028], lambda = -1.3627436214488047\n",
      "ratio = 1.5, xiD = [-0.87087838  0.74165676], lambda = -1.0152170426940161\n",
      "ratio = 2.0, xiD = [-0.94734667  0.89459334], lambda = -0.8089255896748633\n",
      "ratio = 2.5, xiD = [-0.99798696  0.99587392], lambda = -0.6723119882588267\n",
      "t = 1.524\n",
      "=========================\n",
      "ratio = 0, xiD = [ 5.e-05 -1.e+00], lambda = -12.842366858485413\n",
      "ratio = 0.5, xiD = [-0.47913166 -0.04183668], lambda = -6.993126610014105\n",
      "ratio = 1.0, xiD = [-0.74205532  0.48401064], lambda = -4.599259998531929\n",
      "ratio = 1.5, xiD = [-0.87087798  0.74165596], lambda = -3.426358300199631\n",
      "ratio = 2.0, xiD = [-0.94734641  0.89459281], lambda = -2.730123640408948\n",
      "ratio = 2.5, xiD = [-0.99798689  0.99587378], lambda = -2.2690529119505243\n",
      "t = 2.032\n",
      "=========================\n",
      "ratio = 0, xiD = [ 5.e-05 -1.e+00], lambda = -30.441165886780126\n",
      "ratio = 0.5, xiD = [-0.47913146 -0.04183707], lambda = -16.576299660832426\n",
      "ratio = 1.0, xiD = [-0.74205528  0.48401057], lambda = -10.901949496937114\n",
      "ratio = 1.5, xiD = [-0.87087769  0.74165539], lambda = -8.121739519793666\n",
      "ratio = 2.0, xiD = [-0.94734671  0.89459341], lambda = -6.471404793569762\n",
      "ratio = 2.5, xiD = [-0.99798709  0.99587418], lambda = -5.378496126103778\n",
      "t = 3.048\n",
      "=========================\n",
      "ratio = 0, xiD = [ 5.e-05 -1.e+00], lambda = -102.73893486788256\n",
      "ratio = 0.5, xiD = [-0.47913166 -0.04183667], lambda = -55.945012728074275\n",
      "ratio = 1.0, xiD = [-0.74205529  0.48401058], lambda = -36.79407960481966\n",
      "ratio = 1.5, xiD = [-0.87087768  0.74165535], lambda = -27.41087072494219\n",
      "ratio = 2.0, xiD = [-0.94734673  0.89459346], lambda = -21.84099133426895\n",
      "ratio = 2.5, xiD = [-0.99798702  0.99587404], lambda = -18.1524240267699\n"
     ]
    }
   ],
   "source": [
    "# Nxx, Nyy, Nxy\n",
    "ratio = [0, 0.5, 1.0, 1.5, 2.0, 2.5]\n",
    "Ts = [1.016, 1.524, 2.032, 3.048]\n",
    "\n",
    "for t in Ts:\n",
    "    print(f't = {t}')\n",
    "    print('=========================')\n",
    "    for r in ratio:\n",
    "        res = optimize_panel(r, t)\n",
    "        fun = res.fun\n",
    "\n",
    "        if r > 1:\n",
    "            fun = fun / r #it compensates function natural normalization\n",
    "\n",
    "        print(f'ratio = {r}, xiD = {res.x}, lambda = {fun}')\n",
    "        "
   ]
  },
  {
   "cell_type": "markdown",
   "metadata": {},
   "source": [
    "## 2 - Shear study of 1.016 plate"
   ]
  },
  {
   "cell_type": "code",
   "execution_count": 17,
   "metadata": {},
   "outputs": [],
   "source": [
    "def optimize_panel_shear(ratio, Ts, shear_ratio):\n",
    "    global panel\n",
    "\n",
    "    return maximize_buckling_load(\n",
    "        T=Ts, Nxx=-1, Nyy=-1*ratio, Nxy=-1*shear_ratio,\n",
    "        **panel\n",
    "    )"
   ]
  },
  {
   "cell_type": "code",
   "execution_count": 18,
   "metadata": {},
   "outputs": [
    {
     "name": "stdout",
     "output_type": "stream",
     "text": [
      "shear_ratio = 0\n",
      "=========================\n",
      "ratio = 0, xiD = [ 5.e-05 -1.e+00], lambda = -3.8051457358475447\n",
      "ratio = 0.5, xiD = [-0.47913234 -0.04183533], lambda = -2.0720368564619656\n",
      "ratio = 1.0, xiD = [-0.74205514  0.48401028], lambda = -1.362743621457472\n"
     ]
    },
    {
     "name": "stderr",
     "output_type": "stream",
     "text": [
      "d:\\programs\\Anaconda\\lib\\site-packages\\composipy\\optimize\\_maximize_buckling.py:109: UserWarning: Loads will be normalized, prefer to use loads between -1 and 1 (Nxx = -1, Nyy = -1.5, Nxy = 0)\n",
      "  warnings.warn(f'Loads will be normalized, prefer to use loads between -1 and 1 (Nxx = {Nxx}, Nyy = {Nyy}, Nxy = {Nxy})')\n"
     ]
    },
    {
     "name": "stdout",
     "output_type": "stream",
     "text": [
      "ratio = 1.5, xiD = [-0.87087838  0.74165676], lambda = -1.0152170427617433\n"
     ]
    },
    {
     "name": "stderr",
     "output_type": "stream",
     "text": [
      "d:\\programs\\Anaconda\\lib\\site-packages\\composipy\\optimize\\_maximize_buckling.py:109: UserWarning: Loads will be normalized, prefer to use loads between -1 and 1 (Nxx = -1, Nyy = -2.0, Nxy = 0)\n",
      "  warnings.warn(f'Loads will be normalized, prefer to use loads between -1 and 1 (Nxx = {Nxx}, Nyy = {Nyy}, Nxy = {Nxy})')\n"
     ]
    },
    {
     "name": "stdout",
     "output_type": "stream",
     "text": [
      "ratio = 2.0, xiD = [-0.94734667  0.89459334], lambda = -0.8089255896805511\n"
     ]
    },
    {
     "name": "stderr",
     "output_type": "stream",
     "text": [
      "d:\\programs\\Anaconda\\lib\\site-packages\\composipy\\optimize\\_maximize_buckling.py:109: UserWarning: Loads will be normalized, prefer to use loads between -1 and 1 (Nxx = -1, Nyy = -2.5, Nxy = 0)\n",
      "  warnings.warn(f'Loads will be normalized, prefer to use loads between -1 and 1 (Nxx = {Nxx}, Nyy = {Nyy}, Nxy = {Nxy})')\n"
     ]
    },
    {
     "name": "stdout",
     "output_type": "stream",
     "text": [
      "ratio = 2.5, xiD = [-0.99798696  0.99587392], lambda = -0.6723119882605753\n",
      "shear_ratio = 0.5\n",
      "=========================\n",
      "ratio = 0, xiD = [-5.e-05 -1.e+00], lambda = -3.4600061212738873\n",
      "ratio = 0.5, xiD = [-0.46196361 -0.07617278], lambda = -2.0154054766705585\n",
      "ratio = 1.0, xiD = [-0.73092953  0.46175905], lambda = -1.34699921892897\n"
     ]
    },
    {
     "name": "stderr",
     "output_type": "stream",
     "text": [
      "d:\\programs\\Anaconda\\lib\\site-packages\\composipy\\optimize\\_maximize_buckling.py:109: UserWarning: Loads will be normalized, prefer to use loads between -1 and 1 (Nxx = -1, Nyy = -1.5, Nxy = -0.5)\n",
      "  warnings.warn(f'Loads will be normalized, prefer to use loads between -1 and 1 (Nxx = {Nxx}, Nyy = {Nyy}, Nxy = {Nxy})')\n"
     ]
    },
    {
     "name": "stdout",
     "output_type": "stream",
     "text": [
      "ratio = 1.5, xiD = [-0.86369226  0.72728452], lambda = -1.0087502990804387\n"
     ]
    },
    {
     "name": "stderr",
     "output_type": "stream",
     "text": [
      "d:\\programs\\Anaconda\\lib\\site-packages\\composipy\\optimize\\_maximize_buckling.py:109: UserWarning: Loads will be normalized, prefer to use loads between -1 and 1 (Nxx = -1, Nyy = -2.0, Nxy = -0.5)\n",
      "  warnings.warn(f'Loads will be normalized, prefer to use loads between -1 and 1 (Nxx = {Nxx}, Nyy = {Nyy}, Nxy = {Nxy})')\n"
     ]
    },
    {
     "name": "stdout",
     "output_type": "stream",
     "text": [
      "ratio = 2.0, xiD = [-0.94239901  0.88469801], lambda = -0.8056601131080673\n"
     ]
    },
    {
     "name": "stderr",
     "output_type": "stream",
     "text": [
      "d:\\programs\\Anaconda\\lib\\site-packages\\composipy\\optimize\\_maximize_buckling.py:109: UserWarning: Loads will be normalized, prefer to use loads between -1 and 1 (Nxx = -1, Nyy = -2.5, Nxy = -0.5)\n",
      "  warnings.warn(f'Loads will be normalized, prefer to use loads between -1 and 1 (Nxx = {Nxx}, Nyy = {Nyy}, Nxy = {Nxy})')\n"
     ]
    },
    {
     "name": "stdout",
     "output_type": "stream",
     "text": [
      "ratio = 2.5, xiD = [-0.99439053  0.98868106], lambda = -0.670437687352681\n",
      "shear_ratio = 1.0\n",
      "=========================\n",
      "ratio = 0, xiD = [-5.e-05 -1.e+00], lambda = -2.856344295186581\n",
      "ratio = 0.5, xiD = [-0.42556888 -0.14896225], lambda = -1.8692170408679505\n",
      "ratio = 1.0, xiD = [-0.70143343  0.40276686], lambda = -1.3024751182900949\n"
     ]
    },
    {
     "name": "stderr",
     "output_type": "stream",
     "text": [
      "d:\\programs\\Anaconda\\lib\\site-packages\\composipy\\optimize\\_maximize_buckling.py:109: UserWarning: Loads will be normalized, prefer to use loads between -1 and 1 (Nxx = -1, Nyy = -1.5, Nxy = -1.0)\n",
      "  warnings.warn(f'Loads will be normalized, prefer to use loads between -1 and 1 (Nxx = {Nxx}, Nyy = {Nyy}, Nxy = {Nxy})')\n"
     ]
    },
    {
     "name": "stdout",
     "output_type": "stream",
     "text": [
      "ratio = 1.5, xiD = [-0.84346962  0.68683923], lambda = -0.9899534230601336\n"
     ]
    },
    {
     "name": "stderr",
     "output_type": "stream",
     "text": [
      "d:\\programs\\Anaconda\\lib\\site-packages\\composipy\\optimize\\_maximize_buckling.py:109: UserWarning: Loads will be normalized, prefer to use loads between -1 and 1 (Nxx = -1, Nyy = -2.0, Nxy = -1.0)\n",
      "  warnings.warn(f'Loads will be normalized, prefer to use loads between -1 and 1 (Nxx = {Nxx}, Nyy = {Nyy}, Nxy = {Nxy})')\n"
     ]
    },
    {
     "name": "stdout",
     "output_type": "stream",
     "text": [
      "ratio = 2.0, xiD = [-0.92812485  0.8561497 ], lambda = -0.7960568578030152\n"
     ]
    },
    {
     "name": "stderr",
     "output_type": "stream",
     "text": [
      "d:\\programs\\Anaconda\\lib\\site-packages\\composipy\\optimize\\_maximize_buckling.py:109: UserWarning: Loads will be normalized, prefer to use loads between -1 and 1 (Nxx = -1, Nyy = -2.5, Nxy = -1.0)\n",
      "  warnings.warn(f'Loads will be normalized, prefer to use loads between -1 and 1 (Nxx = {Nxx}, Nyy = {Nyy}, Nxy = {Nxy})')\n"
     ]
    },
    {
     "name": "stdout",
     "output_type": "stream",
     "text": [
      "ratio = 2.5, xiD = [-0.98388071  0.96766141], lambda = -0.6648914034176492\n",
      "shear_ratio = 2.0\n",
      "=========================\n"
     ]
    },
    {
     "name": "stderr",
     "output_type": "stream",
     "text": [
      "d:\\programs\\Anaconda\\lib\\site-packages\\composipy\\optimize\\_maximize_buckling.py:109: UserWarning: Loads will be normalized, prefer to use loads between -1 and 1 (Nxx = -1, Nyy = 0, Nxy = -2.0)\n",
      "  warnings.warn(f'Loads will be normalized, prefer to use loads between -1 and 1 (Nxx = {Nxx}, Nyy = {Nyy}, Nxy = {Nxy})')\n"
     ]
    },
    {
     "name": "stdout",
     "output_type": "stream",
     "text": [
      "ratio = 0, xiD = [-5.e-05 -1.e+00], lambda = -1.9781378528558449\n"
     ]
    },
    {
     "name": "stderr",
     "output_type": "stream",
     "text": [
      "d:\\programs\\Anaconda\\lib\\site-packages\\composipy\\optimize\\_maximize_buckling.py:109: UserWarning: Loads will be normalized, prefer to use loads between -1 and 1 (Nxx = -1, Nyy = -0.5, Nxy = -2.0)\n",
      "  warnings.warn(f'Loads will be normalized, prefer to use loads between -1 and 1 (Nxx = {Nxx}, Nyy = {Nyy}, Nxy = {Nxy})')\n"
     ]
    },
    {
     "name": "stdout",
     "output_type": "stream",
     "text": [
      "ratio = 0.5, xiD = [-0.36463645 -0.2708271 ], lambda = -1.511787273751489\n"
     ]
    },
    {
     "name": "stderr",
     "output_type": "stream",
     "text": [
      "d:\\programs\\Anaconda\\lib\\site-packages\\composipy\\optimize\\_maximize_buckling.py:109: UserWarning: Loads will be normalized, prefer to use loads between -1 and 1 (Nxx = -1, Nyy = -1.0, Nxy = -2.0)\n",
      "  warnings.warn(f'Loads will be normalized, prefer to use loads between -1 and 1 (Nxx = {Nxx}, Nyy = {Nyy}, Nxy = {Nxy})')\n"
     ]
    },
    {
     "name": "stdout",
     "output_type": "stream",
     "text": [
      "ratio = 1.0, xiD = [-0.62150456  0.24290913], lambda = -1.1611089217705501\n"
     ]
    },
    {
     "name": "stderr",
     "output_type": "stream",
     "text": [
      "d:\\programs\\Anaconda\\lib\\site-packages\\composipy\\optimize\\_maximize_buckling.py:109: UserWarning: Loads will be normalized, prefer to use loads between -1 and 1 (Nxx = -1, Nyy = -1.5, Nxy = -2.0)\n",
      "  warnings.warn(f'Loads will be normalized, prefer to use loads between -1 and 1 (Nxx = {Nxx}, Nyy = {Nyy}, Nxy = {Nxy})')\n"
     ]
    },
    {
     "name": "stdout",
     "output_type": "stream",
     "text": [
      "ratio = 1.5, xiD = [-0.77851607  0.55693215], lambda = -0.9238146351681762\n"
     ]
    },
    {
     "name": "stderr",
     "output_type": "stream",
     "text": [
      "d:\\programs\\Anaconda\\lib\\site-packages\\composipy\\optimize\\_maximize_buckling.py:109: UserWarning: Loads will be normalized, prefer to use loads between -1 and 1 (Nxx = -1, Nyy = -2.0, Nxy = -2.0)\n",
      "  warnings.warn(f'Loads will be normalized, prefer to use loads between -1 and 1 (Nxx = {Nxx}, Nyy = {Nyy}, Nxy = {Nxy})')\n"
     ]
    },
    {
     "name": "stdout",
     "output_type": "stream",
     "text": [
      "ratio = 2.0, xiD = [-0.87845528  0.75681055], lambda = -0.7606167022487421\n"
     ]
    },
    {
     "name": "stderr",
     "output_type": "stream",
     "text": [
      "d:\\programs\\Anaconda\\lib\\site-packages\\composipy\\optimize\\_maximize_buckling.py:109: UserWarning: Loads will be normalized, prefer to use loads between -1 and 1 (Nxx = -1, Nyy = -2.5, Nxy = -2.0)\n",
      "  warnings.warn(f'Loads will be normalized, prefer to use loads between -1 and 1 (Nxx = {Nxx}, Nyy = {Nyy}, Nxy = {Nxy})')\n"
     ]
    },
    {
     "name": "stdout",
     "output_type": "stream",
     "text": [
      "ratio = 2.5, xiD = [-0.94569265  0.8912853 ], lambda = -0.6438987307003772\n",
      "shear_ratio = 2.5\n",
      "=========================\n"
     ]
    },
    {
     "name": "stderr",
     "output_type": "stream",
     "text": [
      "d:\\programs\\Anaconda\\lib\\site-packages\\composipy\\optimize\\_maximize_buckling.py:109: UserWarning: Loads will be normalized, prefer to use loads between -1 and 1 (Nxx = -1, Nyy = 0, Nxy = -2.5)\n",
      "  warnings.warn(f'Loads will be normalized, prefer to use loads between -1 and 1 (Nxx = {Nxx}, Nyy = {Nyy}, Nxy = {Nxy})')\n"
     ]
    },
    {
     "name": "stdout",
     "output_type": "stream",
     "text": [
      "ratio = 0, xiD = [-5.e-05 -1.e+00], lambda = -1.6990812901811618\n"
     ]
    },
    {
     "name": "stderr",
     "output_type": "stream",
     "text": [
      "d:\\programs\\Anaconda\\lib\\site-packages\\composipy\\optimize\\_maximize_buckling.py:109: UserWarning: Loads will be normalized, prefer to use loads between -1 and 1 (Nxx = -1, Nyy = -0.5, Nxy = -2.5)\n",
      "  warnings.warn(f'Loads will be normalized, prefer to use loads between -1 and 1 (Nxx = {Nxx}, Nyy = {Nyy}, Nxy = {Nxy})')\n"
     ]
    },
    {
     "name": "stdout",
     "output_type": "stream",
     "text": [
      "ratio = 0.5, xiD = [-0.34565467 -0.30879066], lambda = -1.3572370571184436\n"
     ]
    },
    {
     "name": "stderr",
     "output_type": "stream",
     "text": [
      "d:\\programs\\Anaconda\\lib\\site-packages\\composipy\\optimize\\_maximize_buckling.py:109: UserWarning: Loads will be normalized, prefer to use loads between -1 and 1 (Nxx = -1, Nyy = -1.0, Nxy = -2.5)\n",
      "  warnings.warn(f'Loads will be normalized, prefer to use loads between -1 and 1 (Nxx = {Nxx}, Nyy = {Nyy}, Nxy = {Nxy})')\n"
     ]
    },
    {
     "name": "stdout",
     "output_type": "stream",
     "text": [
      "ratio = 1.0, xiD = [-0.58373689  0.16737378], lambda = -1.08316114949604\n"
     ]
    },
    {
     "name": "stderr",
     "output_type": "stream",
     "text": [
      "d:\\programs\\Anaconda\\lib\\site-packages\\composipy\\optimize\\_maximize_buckling.py:109: UserWarning: Loads will be normalized, prefer to use loads between -1 and 1 (Nxx = -1, Nyy = -1.5, Nxy = -2.5)\n",
      "  warnings.warn(f'Loads will be normalized, prefer to use loads between -1 and 1 (Nxx = {Nxx}, Nyy = {Nyy}, Nxy = {Nxy})')\n"
     ]
    },
    {
     "name": "stdout",
     "output_type": "stream",
     "text": [
      "ratio = 1.5, xiD = [-0.74178074  0.48346148], lambda = -0.8825283647220962\n"
     ]
    },
    {
     "name": "stderr",
     "output_type": "stream",
     "text": [
      "d:\\programs\\Anaconda\\lib\\site-packages\\composipy\\optimize\\_maximize_buckling.py:109: UserWarning: Loads will be normalized, prefer to use loads between -1 and 1 (Nxx = -1, Nyy = -2.0, Nxy = -2.5)\n",
      "  warnings.warn(f'Loads will be normalized, prefer to use loads between -1 and 1 (Nxx = {Nxx}, Nyy = {Nyy}, Nxy = {Nxy})')\n"
     ]
    },
    {
     "name": "stdout",
     "output_type": "stream",
     "text": [
      "ratio = 2.0, xiD = [-0.84753551  0.69497102], lambda = -0.7370046793589482\n"
     ]
    },
    {
     "name": "stderr",
     "output_type": "stream",
     "text": [
      "d:\\programs\\Anaconda\\lib\\site-packages\\composipy\\optimize\\_maximize_buckling.py:109: UserWarning: Loads will be normalized, prefer to use loads between -1 and 1 (Nxx = -1, Nyy = -2.5, Nxy = -2.5)\n",
      "  warnings.warn(f'Loads will be normalized, prefer to use loads between -1 and 1 (Nxx = {Nxx}, Nyy = {Nyy}, Nxy = {Nxy})')\n"
     ]
    },
    {
     "name": "stdout",
     "output_type": "stream",
     "text": [
      "ratio = 2.5, xiD = [-0.92056317  0.84102635], lambda = -0.6293893993356356\n",
      "shear_ratio = 3.0\n",
      "=========================\n"
     ]
    },
    {
     "name": "stderr",
     "output_type": "stream",
     "text": [
      "d:\\programs\\Anaconda\\lib\\site-packages\\composipy\\optimize\\_maximize_buckling.py:109: UserWarning: Loads will be normalized, prefer to use loads between -1 and 1 (Nxx = -1, Nyy = 0, Nxy = -3.0)\n",
      "  warnings.warn(f'Loads will be normalized, prefer to use loads between -1 and 1 (Nxx = {Nxx}, Nyy = {Nyy}, Nxy = {Nxy})')\n"
     ]
    },
    {
     "name": "stdout",
     "output_type": "stream",
     "text": [
      "ratio = 0, xiD = [-0.02573137 -0.94863726], lambda = -1.4846702699715404\n"
     ]
    },
    {
     "name": "stderr",
     "output_type": "stream",
     "text": [
      "d:\\programs\\Anaconda\\lib\\site-packages\\composipy\\optimize\\_maximize_buckling.py:109: UserWarning: Loads will be normalized, prefer to use loads between -1 and 1 (Nxx = -1, Nyy = -0.5, Nxy = -3.0)\n",
      "  warnings.warn(f'Loads will be normalized, prefer to use loads between -1 and 1 (Nxx = {Nxx}, Nyy = {Nyy}, Nxy = {Nxy})')\n"
     ]
    },
    {
     "name": "stdout",
     "output_type": "stream",
     "text": [
      "ratio = 0.5, xiD = [-0.33181559 -0.33646881], lambda = -1.225744494660964\n"
     ]
    },
    {
     "name": "stderr",
     "output_type": "stream",
     "text": [
      "d:\\programs\\Anaconda\\lib\\site-packages\\composipy\\optimize\\_maximize_buckling.py:109: UserWarning: Loads will be normalized, prefer to use loads between -1 and 1 (Nxx = -1, Nyy = -1.0, Nxy = -3.0)\n",
      "  warnings.warn(f'Loads will be normalized, prefer to use loads between -1 and 1 (Nxx = {Nxx}, Nyy = {Nyy}, Nxy = {Nxy})')\n"
     ]
    },
    {
     "name": "stdout",
     "output_type": "stream",
     "text": [
      "ratio = 1.0, xiD = [-0.55064172  0.10118343], lambda = -1.0084403975905312\n"
     ]
    },
    {
     "name": "stderr",
     "output_type": "stream",
     "text": [
      "d:\\programs\\Anaconda\\lib\\site-packages\\composipy\\optimize\\_maximize_buckling.py:109: UserWarning: Loads will be normalized, prefer to use loads between -1 and 1 (Nxx = -1, Nyy = -1.5, Nxy = -3.0)\n",
      "  warnings.warn(f'Loads will be normalized, prefer to use loads between -1 and 1 (Nxx = {Nxx}, Nyy = {Nyy}, Nxy = {Nxy})')\n"
     ]
    },
    {
     "name": "stdout",
     "output_type": "stream",
     "text": [
      "ratio = 1.5, xiD = [-0.70602922  0.41195844], lambda = -0.8395717292250344\n"
     ]
    },
    {
     "name": "stderr",
     "output_type": "stream",
     "text": [
      "d:\\programs\\Anaconda\\lib\\site-packages\\composipy\\optimize\\_maximize_buckling.py:109: UserWarning: Loads will be normalized, prefer to use loads between -1 and 1 (Nxx = -1, Nyy = -2.0, Nxy = -3.0)\n",
      "  warnings.warn(f'Loads will be normalized, prefer to use loads between -1 and 1 (Nxx = {Nxx}, Nyy = {Nyy}, Nxy = {Nxy})')\n"
     ]
    },
    {
     "name": "stdout",
     "output_type": "stream",
     "text": [
      "ratio = 2.0, xiD = [-0.81534047  0.63058094], lambda = -0.7111511559587101\n"
     ]
    },
    {
     "name": "stderr",
     "output_type": "stream",
     "text": [
      "d:\\programs\\Anaconda\\lib\\site-packages\\composipy\\optimize\\_maximize_buckling.py:109: UserWarning: Loads will be normalized, prefer to use loads between -1 and 1 (Nxx = -1, Nyy = -2.5, Nxy = -3.0)\n",
      "  warnings.warn(f'Loads will be normalized, prefer to use loads between -1 and 1 (Nxx = {Nxx}, Nyy = {Nyy}, Nxy = {Nxy})')\n"
     ]
    },
    {
     "name": "stdout",
     "output_type": "stream",
     "text": [
      "ratio = 2.5, xiD = [-0.89323002  0.78636003], lambda = -0.6129894006446533\n",
      "shear_ratio = 3.5\n",
      "=========================\n"
     ]
    },
    {
     "name": "stderr",
     "output_type": "stream",
     "text": [
      "d:\\programs\\Anaconda\\lib\\site-packages\\composipy\\optimize\\_maximize_buckling.py:109: UserWarning: Loads will be normalized, prefer to use loads between -1 and 1 (Nxx = -1, Nyy = 0, Nxy = -3.5)\n",
      "  warnings.warn(f'Loads will be normalized, prefer to use loads between -1 and 1 (Nxx = {Nxx}, Nyy = {Nyy}, Nxy = {Nxy})')\n"
     ]
    },
    {
     "name": "stdout",
     "output_type": "stream",
     "text": [
      "ratio = 0, xiD = [-0.05501202 -0.89007596], lambda = -1.3168355161525973\n"
     ]
    },
    {
     "name": "stderr",
     "output_type": "stream",
     "text": [
      "d:\\programs\\Anaconda\\lib\\site-packages\\composipy\\optimize\\_maximize_buckling.py:109: UserWarning: Loads will be normalized, prefer to use loads between -1 and 1 (Nxx = -1, Nyy = -0.5, Nxy = -3.5)\n",
      "  warnings.warn(f'Loads will be normalized, prefer to use loads between -1 and 1 (Nxx = {Nxx}, Nyy = {Nyy}, Nxy = {Nxy})')\n"
     ]
    },
    {
     "name": "stdout",
     "output_type": "stream",
     "text": [
      "ratio = 0.5, xiD = [-0.32146333 -0.35717335], lambda = -1.1146481823786685\n"
     ]
    },
    {
     "name": "stderr",
     "output_type": "stream",
     "text": [
      "d:\\programs\\Anaconda\\lib\\site-packages\\composipy\\optimize\\_maximize_buckling.py:109: UserWarning: Loads will be normalized, prefer to use loads between -1 and 1 (Nxx = -1, Nyy = -1.0, Nxy = -3.5)\n",
      "  warnings.warn(f'Loads will be normalized, prefer to use loads between -1 and 1 (Nxx = {Nxx}, Nyy = {Nyy}, Nxy = {Nxy})')\n"
     ]
    },
    {
     "name": "stdout",
     "output_type": "stream",
     "text": [
      "ratio = 1.0, xiD = [-0.52230627  0.04451254], lambda = -0.939372808445852\n"
     ]
    },
    {
     "name": "stderr",
     "output_type": "stream",
     "text": [
      "d:\\programs\\Anaconda\\lib\\site-packages\\composipy\\optimize\\_maximize_buckling.py:109: UserWarning: Loads will be normalized, prefer to use loads between -1 and 1 (Nxx = -1, Nyy = -1.5, Nxy = -3.5)\n",
      "  warnings.warn(f'Loads will be normalized, prefer to use loads between -1 and 1 (Nxx = {Nxx}, Nyy = {Nyy}, Nxy = {Nxy})')\n"
     ]
    },
    {
     "name": "stdout",
     "output_type": "stream",
     "text": [
      "ratio = 1.5, xiD = [-0.67268785  0.34527571], lambda = -0.7969344598808065\n"
     ]
    },
    {
     "name": "stderr",
     "output_type": "stream",
     "text": [
      "d:\\programs\\Anaconda\\lib\\site-packages\\composipy\\optimize\\_maximize_buckling.py:109: UserWarning: Loads will be normalized, prefer to use loads between -1 and 1 (Nxx = -1, Nyy = -2.0, Nxy = -3.5)\n",
      "  warnings.warn(f'Loads will be normalized, prefer to use loads between -1 and 1 (Nxx = {Nxx}, Nyy = {Nyy}, Nxy = {Nxy})')\n"
     ]
    },
    {
     "name": "stdout",
     "output_type": "stream",
     "text": [
      "ratio = 2.0, xiD = [-0.78338628  0.56667255], lambda = -0.6841843842792728\n"
     ]
    },
    {
     "name": "stderr",
     "output_type": "stream",
     "text": [
      "d:\\programs\\Anaconda\\lib\\site-packages\\composipy\\optimize\\_maximize_buckling.py:109: UserWarning: Loads will be normalized, prefer to use loads between -1 and 1 (Nxx = -1, Nyy = -2.5, Nxy = -3.5)\n",
      "  warnings.warn(f'Loads will be normalized, prefer to use loads between -1 and 1 (Nxx = {Nxx}, Nyy = {Nyy}, Nxy = {Nxy})')\n"
     ]
    },
    {
     "name": "stdout",
     "output_type": "stream",
     "text": [
      "ratio = 2.5, xiD = [-0.86489646  0.72969292], lambda = -0.595302726745674\n",
      "shear_ratio = 4.0\n",
      "=========================\n"
     ]
    },
    {
     "name": "stderr",
     "output_type": "stream",
     "text": [
      "d:\\programs\\Anaconda\\lib\\site-packages\\composipy\\optimize\\_maximize_buckling.py:109: UserWarning: Loads will be normalized, prefer to use loads between -1 and 1 (Nxx = -1, Nyy = 0, Nxy = -4.0)\n",
      "  warnings.warn(f'Loads will be normalized, prefer to use loads between -1 and 1 (Nxx = {Nxx}, Nyy = {Nyy}, Nxy = {Nxy})')\n"
     ]
    },
    {
     "name": "stdout",
     "output_type": "stream",
     "text": [
      "ratio = 0, xiD = [-0.07791688 -0.84426625], lambda = -1.182608802180392\n"
     ]
    },
    {
     "name": "stderr",
     "output_type": "stream",
     "text": [
      "d:\\programs\\Anaconda\\lib\\site-packages\\composipy\\optimize\\_maximize_buckling.py:109: UserWarning: Loads will be normalized, prefer to use loads between -1 and 1 (Nxx = -1, Nyy = -0.5, Nxy = -4.0)\n",
      "  warnings.warn(f'Loads will be normalized, prefer to use loads between -1 and 1 (Nxx = {Nxx}, Nyy = {Nyy}, Nxy = {Nxy})')\n"
     ]
    },
    {
     "name": "stdout",
     "output_type": "stream",
     "text": [
      "ratio = 0.5, xiD = [-0.31350212 -0.37309576], lambda = -1.0204857545844088\n"
     ]
    },
    {
     "name": "stderr",
     "output_type": "stream",
     "text": [
      "d:\\programs\\Anaconda\\lib\\site-packages\\composipy\\optimize\\_maximize_buckling.py:109: UserWarning: Loads will be normalized, prefer to use loads between -1 and 1 (Nxx = -1, Nyy = -1.0, Nxy = -4.0)\n",
      "  warnings.warn(f'Loads will be normalized, prefer to use loads between -1 and 1 (Nxx = {Nxx}, Nyy = {Nyy}, Nxy = {Nxy})')\n"
     ]
    },
    {
     "name": "stdout",
     "output_type": "stream",
     "text": [
      "ratio = 1.0, xiD = [-0.49821367 -0.00367265], lambda = -0.8767058304054359\n"
     ]
    },
    {
     "name": "stderr",
     "output_type": "stream",
     "text": [
      "d:\\programs\\Anaconda\\lib\\site-packages\\composipy\\optimize\\_maximize_buckling.py:109: UserWarning: Loads will be normalized, prefer to use loads between -1 and 1 (Nxx = -1, Nyy = -1.5, Nxy = -4.0)\n",
      "  warnings.warn(f'Loads will be normalized, prefer to use loads between -1 and 1 (Nxx = {Nxx}, Nyy = {Nyy}, Nxy = {Nxy})')\n"
     ]
    },
    {
     "name": "stdout",
     "output_type": "stream",
     "text": [
      "ratio = 1.5, xiD = [-0.64233914  0.28457829], lambda = -0.7558656543138071\n"
     ]
    },
    {
     "name": "stderr",
     "output_type": "stream",
     "text": [
      "d:\\programs\\Anaconda\\lib\\site-packages\\composipy\\optimize\\_maximize_buckling.py:109: UserWarning: Loads will be normalized, prefer to use loads between -1 and 1 (Nxx = -1, Nyy = -2.0, Nxy = -4.0)\n",
      "  warnings.warn(f'Loads will be normalized, prefer to use loads between -1 and 1 (Nxx = {Nxx}, Nyy = {Nyy}, Nxy = {Nxy})')\n"
     ]
    },
    {
     "name": "stdout",
     "output_type": "stream",
     "text": [
      "ratio = 2.0, xiD = [-0.75267281  0.50524562], lambda = -0.6569964886777405\n"
     ]
    },
    {
     "name": "stderr",
     "output_type": "stream",
     "text": [
      "d:\\programs\\Anaconda\\lib\\site-packages\\composipy\\optimize\\_maximize_buckling.py:109: UserWarning: Loads will be normalized, prefer to use loads between -1 and 1 (Nxx = -1, Nyy = -2.5, Nxy = -4.0)\n",
      "  warnings.warn(f'Loads will be normalized, prefer to use loads between -1 and 1 (Nxx = {Nxx}, Nyy = {Nyy}, Nxy = {Nxy})')\n"
     ]
    },
    {
     "name": "stdout",
     "output_type": "stream",
     "text": [
      "ratio = 2.5, xiD = [-0.83651466  0.67292931], lambda = -0.5768727341886183\n"
     ]
    }
   ],
   "source": [
    "# Nxx, Nyy, Nxy\n",
    "T = 1.016\n",
    "ratio = [0, 0.5, 1.0, 1.5, 2.0, 2.5]\n",
    "shear_ratio = [0, 0.5, 1.0, 2.0, 2.5, 3.0, 3.5, 4.0]\n",
    "\n",
    "for sr in shear_ratio:\n",
    "    print(f'shear_ratio = {sr}')\n",
    "    print('=========================')\n",
    "    for r in ratio:\n",
    "        res = optimize_panel_shear(r, T, sr)\n",
    "        fun = res.fun\n",
    "\n",
    "        if max(r, sr) > 1:\n",
    "            fun = fun / max(r, sr) #it compensates function natural normalization\n",
    "\n",
    "        print(f'ratio = {r}, xiD = {res.x}, lambda = {fun}')"
   ]
  },
  {
   "cell_type": "markdown",
   "metadata": {},
   "source": [
    "## 3 - Shear study of 3.048 plate"
   ]
  },
  {
   "cell_type": "code",
   "execution_count": 16,
   "metadata": {},
   "outputs": [
    {
     "name": "stdout",
     "output_type": "stream",
     "text": [
      "shear_ratio = 0\n",
      "=========================\n",
      "ratio = 0, xiD = [ 5.e-05 -1.e+00], lambda = -102.73893486788616\n",
      "ratio = 0.5, xiD = [-0.47913166 -0.04183668], lambda = -55.94501287278696\n",
      "ratio = 1.0, xiD = [-0.74205528  0.48401057], lambda = -36.79407952511801\n"
     ]
    },
    {
     "name": "stderr",
     "output_type": "stream",
     "text": [
      "d:\\programs\\Anaconda\\lib\\site-packages\\composipy\\optimize\\_maximize_buckling.py:109: UserWarning: Loads will be normalized, prefer to use loads between -1 and 1 (Nxx = -1, Nyy = -1.5, Nxy = 0)\n",
      "  warnings.warn(f'Loads will be normalized, prefer to use loads between -1 and 1 (Nxx = {Nxx}, Nyy = {Nyy}, Nxy = {Nxy})')\n"
     ]
    },
    {
     "name": "stdout",
     "output_type": "stream",
     "text": [
      "ratio = 1.5, xiD = [-0.87087768  0.74165535], lambda = -27.410870722909944\n"
     ]
    },
    {
     "name": "stderr",
     "output_type": "stream",
     "text": [
      "d:\\programs\\Anaconda\\lib\\site-packages\\composipy\\optimize\\_maximize_buckling.py:109: UserWarning: Loads will be normalized, prefer to use loads between -1 and 1 (Nxx = -1, Nyy = -2.0, Nxy = 0)\n",
      "  warnings.warn(f'Loads will be normalized, prefer to use loads between -1 and 1 (Nxx = {Nxx}, Nyy = {Nyy}, Nxy = {Nxy})')\n"
     ]
    },
    {
     "name": "stdout",
     "output_type": "stream",
     "text": [
      "ratio = 2.0, xiD = [-0.94734674  0.89459348], lambda = -21.840991328848904\n"
     ]
    },
    {
     "name": "stderr",
     "output_type": "stream",
     "text": [
      "d:\\programs\\Anaconda\\lib\\site-packages\\composipy\\optimize\\_maximize_buckling.py:109: UserWarning: Loads will be normalized, prefer to use loads between -1 and 1 (Nxx = -1, Nyy = -2.5, Nxy = 0)\n",
      "  warnings.warn(f'Loads will be normalized, prefer to use loads between -1 and 1 (Nxx = {Nxx}, Nyy = {Nyy}, Nxy = {Nxy})')\n"
     ]
    },
    {
     "name": "stdout",
     "output_type": "stream",
     "text": [
      "ratio = 2.5, xiD = [-0.99798702  0.99587404], lambda = -18.152424029155444\n",
      "shear_ratio = 0.5\n",
      "=========================\n",
      "ratio = 0, xiD = [-4.99999999e-05 -1.00000000e+00], lambda = -93.42016527438535\n",
      "ratio = 0.5, xiD = [-0.46196343 -0.07617314], lambda = -54.41595085466876\n",
      "ratio = 1.0, xiD = [-0.73092959  0.46175919], lambda = -36.36897974197326\n"
     ]
    },
    {
     "name": "stderr",
     "output_type": "stream",
     "text": [
      "d:\\programs\\Anaconda\\lib\\site-packages\\composipy\\optimize\\_maximize_buckling.py:109: UserWarning: Loads will be normalized, prefer to use loads between -1 and 1 (Nxx = -1, Nyy = -1.5, Nxy = 0.5)\n",
      "  warnings.warn(f'Loads will be normalized, prefer to use loads between -1 and 1 (Nxx = {Nxx}, Nyy = {Nyy}, Nxy = {Nxy})')\n"
     ]
    },
    {
     "name": "stdout",
     "output_type": "stream",
     "text": [
      "ratio = 1.5, xiD = [-0.86369287  0.72728574], lambda = -27.236263409090466\n"
     ]
    },
    {
     "name": "stderr",
     "output_type": "stream",
     "text": [
      "d:\\programs\\Anaconda\\lib\\site-packages\\composipy\\optimize\\_maximize_buckling.py:109: UserWarning: Loads will be normalized, prefer to use loads between -1 and 1 (Nxx = -1, Nyy = -2.0, Nxy = 0.5)\n",
      "  warnings.warn(f'Loads will be normalized, prefer to use loads between -1 and 1 (Nxx = {Nxx}, Nyy = {Nyy}, Nxy = {Nxy})')\n"
     ]
    },
    {
     "name": "stdout",
     "output_type": "stream",
     "text": [
      "ratio = 2.0, xiD = [-0.94239946  0.88469892], lambda = -21.75282612253031\n"
     ]
    },
    {
     "name": "stderr",
     "output_type": "stream",
     "text": [
      "d:\\programs\\Anaconda\\lib\\site-packages\\composipy\\optimize\\_maximize_buckling.py:109: UserWarning: Loads will be normalized, prefer to use loads between -1 and 1 (Nxx = -1, Nyy = -2.5, Nxy = 0.5)\n",
      "  warnings.warn(f'Loads will be normalized, prefer to use loads between -1 and 1 (Nxx = {Nxx}, Nyy = {Nyy}, Nxy = {Nxy})')\n"
     ]
    },
    {
     "name": "stdout",
     "output_type": "stream",
     "text": [
      "ratio = 2.5, xiD = [-0.99439054  0.98868108], lambda = -18.1018176177497\n",
      "shear_ratio = 1.0\n",
      "=========================\n",
      "ratio = 0, xiD = [-4.99999998e-05 -1.00000000e+00], lambda = -77.12129597003523\n",
      "ratio = 0.5, xiD = [-0.42556887 -0.14896226], lambda = -50.46886020304189\n",
      "ratio = 1.0, xiD = [-0.70143369  0.40276738], lambda = -35.16683115086013\n"
     ]
    },
    {
     "name": "stderr",
     "output_type": "stream",
     "text": [
      "d:\\programs\\Anaconda\\lib\\site-packages\\composipy\\optimize\\_maximize_buckling.py:109: UserWarning: Loads will be normalized, prefer to use loads between -1 and 1 (Nxx = -1, Nyy = -1.5, Nxy = 1.0)\n",
      "  warnings.warn(f'Loads will be normalized, prefer to use loads between -1 and 1 (Nxx = {Nxx}, Nyy = {Nyy}, Nxy = {Nxy})')\n"
     ]
    },
    {
     "name": "stdout",
     "output_type": "stream",
     "text": [
      "ratio = 1.5, xiD = [-0.84346966  0.68683933], lambda = -26.728742751436275\n"
     ]
    },
    {
     "name": "stderr",
     "output_type": "stream",
     "text": [
      "d:\\programs\\Anaconda\\lib\\site-packages\\composipy\\optimize\\_maximize_buckling.py:109: UserWarning: Loads will be normalized, prefer to use loads between -1 and 1 (Nxx = -1, Nyy = -2.0, Nxy = 1.0)\n",
      "  warnings.warn(f'Loads will be normalized, prefer to use loads between -1 and 1 (Nxx = {Nxx}, Nyy = {Nyy}, Nxy = {Nxy})')\n"
     ]
    },
    {
     "name": "stdout",
     "output_type": "stream",
     "text": [
      "ratio = 2.0, xiD = [-0.92812509  0.85615018], lambda = -21.493536769170518\n"
     ]
    },
    {
     "name": "stderr",
     "output_type": "stream",
     "text": [
      "d:\\programs\\Anaconda\\lib\\site-packages\\composipy\\optimize\\_maximize_buckling.py:109: UserWarning: Loads will be normalized, prefer to use loads between -1 and 1 (Nxx = -1, Nyy = -2.5, Nxy = 1.0)\n",
      "  warnings.warn(f'Loads will be normalized, prefer to use loads between -1 and 1 (Nxx = {Nxx}, Nyy = {Nyy}, Nxy = {Nxy})')\n"
     ]
    },
    {
     "name": "stdout",
     "output_type": "stream",
     "text": [
      "ratio = 2.5, xiD = [-0.98388155  0.9676631 ], lambda = -17.952072540588492\n",
      "shear_ratio = 2.0\n",
      "=========================\n"
     ]
    },
    {
     "name": "stderr",
     "output_type": "stream",
     "text": [
      "d:\\programs\\Anaconda\\lib\\site-packages\\composipy\\optimize\\_maximize_buckling.py:109: UserWarning: Loads will be normalized, prefer to use loads between -1 and 1 (Nxx = -1, Nyy = 0, Nxy = 2.0)\n",
      "  warnings.warn(f'Loads will be normalized, prefer to use loads between -1 and 1 (Nxx = {Nxx}, Nyy = {Nyy}, Nxy = {Nxy})')\n"
     ]
    },
    {
     "name": "stdout",
     "output_type": "stream",
     "text": [
      "ratio = 0, xiD = [-5.00000006e-05 -1.00000000e+00], lambda = -53.40972202711172\n"
     ]
    },
    {
     "name": "stderr",
     "output_type": "stream",
     "text": [
      "d:\\programs\\Anaconda\\lib\\site-packages\\composipy\\optimize\\_maximize_buckling.py:109: UserWarning: Loads will be normalized, prefer to use loads between -1 and 1 (Nxx = -1, Nyy = -0.5, Nxy = 2.0)\n",
      "  warnings.warn(f'Loads will be normalized, prefer to use loads between -1 and 1 (Nxx = {Nxx}, Nyy = {Nyy}, Nxy = {Nxy})')\n"
     ]
    },
    {
     "name": "stdout",
     "output_type": "stream",
     "text": [
      "ratio = 0.5, xiD = [-0.36463649 -0.27082701], lambda = -40.81825677618184\n"
     ]
    },
    {
     "name": "stderr",
     "output_type": "stream",
     "text": [
      "d:\\programs\\Anaconda\\lib\\site-packages\\composipy\\optimize\\_maximize_buckling.py:109: UserWarning: Loads will be normalized, prefer to use loads between -1 and 1 (Nxx = -1, Nyy = -1.0, Nxy = 2.0)\n",
      "  warnings.warn(f'Loads will be normalized, prefer to use loads between -1 and 1 (Nxx = {Nxx}, Nyy = {Nyy}, Nxy = {Nxy})')\n"
     ]
    },
    {
     "name": "stdout",
     "output_type": "stream",
     "text": [
      "ratio = 1.0, xiD = [-0.62150463  0.24290928], lambda = -31.34994133662994\n"
     ]
    },
    {
     "name": "stderr",
     "output_type": "stream",
     "text": [
      "d:\\programs\\Anaconda\\lib\\site-packages\\composipy\\optimize\\_maximize_buckling.py:109: UserWarning: Loads will be normalized, prefer to use loads between -1 and 1 (Nxx = -1, Nyy = -1.5, Nxy = 2.0)\n",
      "  warnings.warn(f'Loads will be normalized, prefer to use loads between -1 and 1 (Nxx = {Nxx}, Nyy = {Nyy}, Nxy = {Nxy})')\n"
     ]
    },
    {
     "name": "stdout",
     "output_type": "stream",
     "text": [
      "ratio = 1.5, xiD = [-0.77851572  0.55693144], lambda = -24.94299919471616\n"
     ]
    },
    {
     "name": "stderr",
     "output_type": "stream",
     "text": [
      "d:\\programs\\Anaconda\\lib\\site-packages\\composipy\\optimize\\_maximize_buckling.py:109: UserWarning: Loads will be normalized, prefer to use loads between -1 and 1 (Nxx = -1, Nyy = -2.0, Nxy = 2.0)\n",
      "  warnings.warn(f'Loads will be normalized, prefer to use loads between -1 and 1 (Nxx = {Nxx}, Nyy = {Nyy}, Nxy = {Nxy})')\n"
     ]
    },
    {
     "name": "stdout",
     "output_type": "stream",
     "text": [
      "ratio = 2.0, xiD = [-0.87845576  0.75681152], lambda = -20.53665384359972\n"
     ]
    },
    {
     "name": "stderr",
     "output_type": "stream",
     "text": [
      "d:\\programs\\Anaconda\\lib\\site-packages\\composipy\\optimize\\_maximize_buckling.py:109: UserWarning: Loads will be normalized, prefer to use loads between -1 and 1 (Nxx = -1, Nyy = -2.5, Nxy = 2.0)\n",
      "  warnings.warn(f'Loads will be normalized, prefer to use loads between -1 and 1 (Nxx = {Nxx}, Nyy = {Nyy}, Nxy = {Nxy})')\n"
     ]
    },
    {
     "name": "stdout",
     "output_type": "stream",
     "text": [
      "ratio = 2.5, xiD = [-0.94569314  0.89128627], lambda = -17.385268200684397\n",
      "shear_ratio = 2.5\n",
      "=========================\n"
     ]
    },
    {
     "name": "stderr",
     "output_type": "stream",
     "text": [
      "d:\\programs\\Anaconda\\lib\\site-packages\\composipy\\optimize\\_maximize_buckling.py:109: UserWarning: Loads will be normalized, prefer to use loads between -1 and 1 (Nxx = -1, Nyy = 0, Nxy = 2.5)\n",
      "  warnings.warn(f'Loads will be normalized, prefer to use loads between -1 and 1 (Nxx = {Nxx}, Nyy = {Nyy}, Nxy = {Nxy})')\n"
     ]
    },
    {
     "name": "stdout",
     "output_type": "stream",
     "text": [
      "ratio = 0, xiD = [-5.00000004e-05 -1.00000000e+00], lambda = -45.87519483489688\n"
     ]
    },
    {
     "name": "stderr",
     "output_type": "stream",
     "text": [
      "d:\\programs\\Anaconda\\lib\\site-packages\\composipy\\optimize\\_maximize_buckling.py:109: UserWarning: Loads will be normalized, prefer to use loads between -1 and 1 (Nxx = -1, Nyy = -0.5, Nxy = 2.5)\n",
      "  warnings.warn(f'Loads will be normalized, prefer to use loads between -1 and 1 (Nxx = {Nxx}, Nyy = {Nyy}, Nxy = {Nxy})')\n"
     ]
    },
    {
     "name": "stdout",
     "output_type": "stream",
     "text": [
      "ratio = 0.5, xiD = [-0.34565457 -0.30879064], lambda = -36.645399998342455\n"
     ]
    },
    {
     "name": "stderr",
     "output_type": "stream",
     "text": [
      "d:\\programs\\Anaconda\\lib\\site-packages\\composipy\\optimize\\_maximize_buckling.py:109: UserWarning: Loads will be normalized, prefer to use loads between -1 and 1 (Nxx = -1, Nyy = -1.0, Nxy = 2.5)\n",
      "  warnings.warn(f'Loads will be normalized, prefer to use loads between -1 and 1 (Nxx = {Nxx}, Nyy = {Nyy}, Nxy = {Nxy})')\n"
     ]
    },
    {
     "name": "stdout",
     "output_type": "stream",
     "text": [
      "ratio = 1.0, xiD = [-0.58373758  0.16737516], lambda = -29.2453555369931\n"
     ]
    },
    {
     "name": "stderr",
     "output_type": "stream",
     "text": [
      "d:\\programs\\Anaconda\\lib\\site-packages\\composipy\\optimize\\_maximize_buckling.py:109: UserWarning: Loads will be normalized, prefer to use loads between -1 and 1 (Nxx = -1, Nyy = -1.5, Nxy = 2.5)\n",
      "  warnings.warn(f'Loads will be normalized, prefer to use loads between -1 and 1 (Nxx = {Nxx}, Nyy = {Nyy}, Nxy = {Nxy})')\n"
     ]
    },
    {
     "name": "stdout",
     "output_type": "stream",
     "text": [
      "ratio = 1.5, xiD = [-0.74178089  0.48346178], lambda = -23.828266754290734\n"
     ]
    },
    {
     "name": "stderr",
     "output_type": "stream",
     "text": [
      "d:\\programs\\Anaconda\\lib\\site-packages\\composipy\\optimize\\_maximize_buckling.py:109: UserWarning: Loads will be normalized, prefer to use loads between -1 and 1 (Nxx = -1, Nyy = -2.0, Nxy = 2.5)\n",
      "  warnings.warn(f'Loads will be normalized, prefer to use loads between -1 and 1 (Nxx = {Nxx}, Nyy = {Nyy}, Nxy = {Nxy})')\n"
     ]
    },
    {
     "name": "stdout",
     "output_type": "stream",
     "text": [
      "ratio = 2.0, xiD = [-0.84753576  0.69497152], lambda = -19.899127672244404\n"
     ]
    },
    {
     "name": "stderr",
     "output_type": "stream",
     "text": [
      "d:\\programs\\Anaconda\\lib\\site-packages\\composipy\\optimize\\_maximize_buckling.py:109: UserWarning: Loads will be normalized, prefer to use loads between -1 and 1 (Nxx = -1, Nyy = -2.5, Nxy = 2.5)\n",
      "  warnings.warn(f'Loads will be normalized, prefer to use loads between -1 and 1 (Nxx = {Nxx}, Nyy = {Nyy}, Nxy = {Nxy})')\n"
     ]
    },
    {
     "name": "stdout",
     "output_type": "stream",
     "text": [
      "ratio = 2.5, xiD = [-0.92056333  0.84102666], lambda = -16.99351407453444\n",
      "shear_ratio = 3.0\n",
      "=========================\n"
     ]
    },
    {
     "name": "stderr",
     "output_type": "stream",
     "text": [
      "d:\\programs\\Anaconda\\lib\\site-packages\\composipy\\optimize\\_maximize_buckling.py:109: UserWarning: Loads will be normalized, prefer to use loads between -1 and 1 (Nxx = -1, Nyy = 0, Nxy = 3.0)\n",
      "  warnings.warn(f'Loads will be normalized, prefer to use loads between -1 and 1 (Nxx = {Nxx}, Nyy = {Nyy}, Nxy = {Nxy})')\n"
     ]
    },
    {
     "name": "stdout",
     "output_type": "stream",
     "text": [
      "ratio = 0, xiD = [-0.02572596 -0.94864808], lambda = -40.08610694193087\n"
     ]
    },
    {
     "name": "stderr",
     "output_type": "stream",
     "text": [
      "d:\\programs\\Anaconda\\lib\\site-packages\\composipy\\optimize\\_maximize_buckling.py:109: UserWarning: Loads will be normalized, prefer to use loads between -1 and 1 (Nxx = -1, Nyy = -0.5, Nxy = 3.0)\n",
      "  warnings.warn(f'Loads will be normalized, prefer to use loads between -1 and 1 (Nxx = {Nxx}, Nyy = {Nyy}, Nxy = {Nxy})')\n"
     ]
    },
    {
     "name": "stdout",
     "output_type": "stream",
     "text": [
      "ratio = 0.5, xiD = [-0.33181586 -0.33646829], lambda = -33.09510280265455\n"
     ]
    },
    {
     "name": "stderr",
     "output_type": "stream",
     "text": [
      "d:\\programs\\Anaconda\\lib\\site-packages\\composipy\\optimize\\_maximize_buckling.py:109: UserWarning: Loads will be normalized, prefer to use loads between -1 and 1 (Nxx = -1, Nyy = -1.0, Nxy = 3.0)\n",
      "  warnings.warn(f'Loads will be normalized, prefer to use loads between -1 and 1 (Nxx = {Nxx}, Nyy = {Nyy}, Nxy = {Nxy})')\n"
     ]
    },
    {
     "name": "stdout",
     "output_type": "stream",
     "text": [
      "ratio = 1.0, xiD = [-0.55064187  0.10118376], lambda = -27.227891558740293\n"
     ]
    },
    {
     "name": "stderr",
     "output_type": "stream",
     "text": [
      "d:\\programs\\Anaconda\\lib\\site-packages\\composipy\\optimize\\_maximize_buckling.py:109: UserWarning: Loads will be normalized, prefer to use loads between -1 and 1 (Nxx = -1, Nyy = -1.5, Nxy = 3.0)\n",
      "  warnings.warn(f'Loads will be normalized, prefer to use loads between -1 and 1 (Nxx = {Nxx}, Nyy = {Nyy}, Nxy = {Nxy})')\n"
     ]
    },
    {
     "name": "stdout",
     "output_type": "stream",
     "text": [
      "ratio = 1.5, xiD = [-0.70603079  0.41196158], lambda = -22.6684448004703\n"
     ]
    },
    {
     "name": "stderr",
     "output_type": "stream",
     "text": [
      "d:\\programs\\Anaconda\\lib\\site-packages\\composipy\\optimize\\_maximize_buckling.py:109: UserWarning: Loads will be normalized, prefer to use loads between -1 and 1 (Nxx = -1, Nyy = -2.0, Nxy = 3.0)\n",
      "  warnings.warn(f'Loads will be normalized, prefer to use loads between -1 and 1 (Nxx = {Nxx}, Nyy = {Nyy}, Nxy = {Nxy})')\n"
     ]
    },
    {
     "name": "stdout",
     "output_type": "stream",
     "text": [
      "ratio = 2.0, xiD = [-0.81534056  0.63058111], lambda = -19.20108161883388\n"
     ]
    },
    {
     "name": "stderr",
     "output_type": "stream",
     "text": [
      "d:\\programs\\Anaconda\\lib\\site-packages\\composipy\\optimize\\_maximize_buckling.py:109: UserWarning: Loads will be normalized, prefer to use loads between -1 and 1 (Nxx = -1, Nyy = -2.5, Nxy = 3.0)\n",
      "  warnings.warn(f'Loads will be normalized, prefer to use loads between -1 and 1 (Nxx = {Nxx}, Nyy = {Nyy}, Nxy = {Nxy})')\n"
     ]
    },
    {
     "name": "stdout",
     "output_type": "stream",
     "text": [
      "ratio = 2.5, xiD = [-0.89323063  0.78636126], lambda = -16.550716519079806\n",
      "shear_ratio = 3.5\n",
      "=========================\n"
     ]
    },
    {
     "name": "stderr",
     "output_type": "stream",
     "text": [
      "d:\\programs\\Anaconda\\lib\\site-packages\\composipy\\optimize\\_maximize_buckling.py:109: UserWarning: Loads will be normalized, prefer to use loads between -1 and 1 (Nxx = -1, Nyy = 0, Nxy = 3.5)\n",
      "  warnings.warn(f'Loads will be normalized, prefer to use loads between -1 and 1 (Nxx = {Nxx}, Nyy = {Nyy}, Nxy = {Nxy})')\n"
     ]
    },
    {
     "name": "stdout",
     "output_type": "stream",
     "text": [
      "ratio = 0, xiD = [-0.05501136 -0.89007729], lambda = -35.5545601190607\n"
     ]
    },
    {
     "name": "stderr",
     "output_type": "stream",
     "text": [
      "d:\\programs\\Anaconda\\lib\\site-packages\\composipy\\optimize\\_maximize_buckling.py:109: UserWarning: Loads will be normalized, prefer to use loads between -1 and 1 (Nxx = -1, Nyy = -0.5, Nxy = 3.5)\n",
      "  warnings.warn(f'Loads will be normalized, prefer to use loads between -1 and 1 (Nxx = {Nxx}, Nyy = {Nyy}, Nxy = {Nxy})')\n"
     ]
    },
    {
     "name": "stdout",
     "output_type": "stream",
     "text": [
      "ratio = 0.5, xiD = [-0.32146358 -0.35717285], lambda = -30.095502082773013\n"
     ]
    },
    {
     "name": "stderr",
     "output_type": "stream",
     "text": [
      "d:\\programs\\Anaconda\\lib\\site-packages\\composipy\\optimize\\_maximize_buckling.py:109: UserWarning: Loads will be normalized, prefer to use loads between -1 and 1 (Nxx = -1, Nyy = -1.0, Nxy = 3.5)\n",
      "  warnings.warn(f'Loads will be normalized, prefer to use loads between -1 and 1 (Nxx = {Nxx}, Nyy = {Nyy}, Nxy = {Nxy})')\n"
     ]
    },
    {
     "name": "stdout",
     "output_type": "stream",
     "text": [
      "ratio = 1.0, xiD = [-0.52230745  0.04451489], lambda = -25.36307105467693\n"
     ]
    },
    {
     "name": "stderr",
     "output_type": "stream",
     "text": [
      "d:\\programs\\Anaconda\\lib\\site-packages\\composipy\\optimize\\_maximize_buckling.py:109: UserWarning: Loads will be normalized, prefer to use loads between -1 and 1 (Nxx = -1, Nyy = -1.5, Nxy = 3.5)\n",
      "  warnings.warn(f'Loads will be normalized, prefer to use loads between -1 and 1 (Nxx = {Nxx}, Nyy = {Nyy}, Nxy = {Nxy})')\n"
     ]
    },
    {
     "name": "stdout",
     "output_type": "stream",
     "text": [
      "ratio = 1.5, xiD = [-0.67268743  0.34527485], lambda = -21.517232267281482\n"
     ]
    },
    {
     "name": "stderr",
     "output_type": "stream",
     "text": [
      "d:\\programs\\Anaconda\\lib\\site-packages\\composipy\\optimize\\_maximize_buckling.py:109: UserWarning: Loads will be normalized, prefer to use loads between -1 and 1 (Nxx = -1, Nyy = -2.0, Nxy = 3.5)\n",
      "  warnings.warn(f'Loads will be normalized, prefer to use loads between -1 and 1 (Nxx = {Nxx}, Nyy = {Nyy}, Nxy = {Nxy})')\n"
     ]
    },
    {
     "name": "stdout",
     "output_type": "stream",
     "text": [
      "ratio = 2.0, xiD = [-0.7833868   0.56667363], lambda = -18.472980584497098\n"
     ]
    },
    {
     "name": "stderr",
     "output_type": "stream",
     "text": [
      "d:\\programs\\Anaconda\\lib\\site-packages\\composipy\\optimize\\_maximize_buckling.py:109: UserWarning: Loads will be normalized, prefer to use loads between -1 and 1 (Nxx = -1, Nyy = -2.5, Nxy = 3.5)\n",
      "  warnings.warn(f'Loads will be normalized, prefer to use loads between -1 and 1 (Nxx = {Nxx}, Nyy = {Nyy}, Nxy = {Nxy})')\n"
     ]
    },
    {
     "name": "stdout",
     "output_type": "stream",
     "text": [
      "ratio = 2.5, xiD = [-0.86489639  0.72969277], lambda = -16.073173329844433\n",
      "shear_ratio = 4.0\n",
      "=========================\n"
     ]
    },
    {
     "name": "stderr",
     "output_type": "stream",
     "text": [
      "d:\\programs\\Anaconda\\lib\\site-packages\\composipy\\optimize\\_maximize_buckling.py:109: UserWarning: Loads will be normalized, prefer to use loads between -1 and 1 (Nxx = -1, Nyy = 0, Nxy = 4.0)\n",
      "  warnings.warn(f'Loads will be normalized, prefer to use loads between -1 and 1 (Nxx = {Nxx}, Nyy = {Nyy}, Nxy = {Nxy})')\n"
     ]
    },
    {
     "name": "stdout",
     "output_type": "stream",
     "text": [
      "ratio = 0, xiD = [-0.0779157 -0.8442686], lambda = -31.93043970656103\n"
     ]
    },
    {
     "name": "stderr",
     "output_type": "stream",
     "text": [
      "d:\\programs\\Anaconda\\lib\\site-packages\\composipy\\optimize\\_maximize_buckling.py:109: UserWarning: Loads will be normalized, prefer to use loads between -1 and 1 (Nxx = -1, Nyy = -0.5, Nxy = 4.0)\n",
      "  warnings.warn(f'Loads will be normalized, prefer to use loads between -1 and 1 (Nxx = {Nxx}, Nyy = {Nyy}, Nxy = {Nxy})')\n"
     ]
    },
    {
     "name": "stdout",
     "output_type": "stream",
     "text": [
      "ratio = 0.5, xiD = [-0.31350239 -0.37309522], lambda = -27.553116225075783\n"
     ]
    },
    {
     "name": "stderr",
     "output_type": "stream",
     "text": [
      "d:\\programs\\Anaconda\\lib\\site-packages\\composipy\\optimize\\_maximize_buckling.py:109: UserWarning: Loads will be normalized, prefer to use loads between -1 and 1 (Nxx = -1, Nyy = -1.0, Nxy = 4.0)\n",
      "  warnings.warn(f'Loads will be normalized, prefer to use loads between -1 and 1 (Nxx = {Nxx}, Nyy = {Nyy}, Nxy = {Nxy})')\n"
     ]
    },
    {
     "name": "stdout",
     "output_type": "stream",
     "text": [
      "ratio = 1.0, xiD = [-0.49821348 -0.00367304], lambda = -23.67105746288599\n"
     ]
    },
    {
     "name": "stderr",
     "output_type": "stream",
     "text": [
      "d:\\programs\\Anaconda\\lib\\site-packages\\composipy\\optimize\\_maximize_buckling.py:109: UserWarning: Loads will be normalized, prefer to use loads between -1 and 1 (Nxx = -1, Nyy = -1.5, Nxy = 4.0)\n",
      "  warnings.warn(f'Loads will be normalized, prefer to use loads between -1 and 1 (Nxx = {Nxx}, Nyy = {Nyy}, Nxy = {Nxy})')\n"
     ]
    },
    {
     "name": "stdout",
     "output_type": "stream",
     "text": [
      "ratio = 1.5, xiD = [-0.6423394   0.28457908], lambda = -20.40837325477989\n"
     ]
    },
    {
     "name": "stderr",
     "output_type": "stream",
     "text": [
      "d:\\programs\\Anaconda\\lib\\site-packages\\composipy\\optimize\\_maximize_buckling.py:109: UserWarning: Loads will be normalized, prefer to use loads between -1 and 1 (Nxx = -1, Nyy = -2.0, Nxy = 4.0)\n",
      "  warnings.warn(f'Loads will be normalized, prefer to use loads between -1 and 1 (Nxx = {Nxx}, Nyy = {Nyy}, Nxy = {Nxy})')\n"
     ]
    },
    {
     "name": "stdout",
     "output_type": "stream",
     "text": [
      "ratio = 2.0, xiD = [-0.75267334  0.50524667], lambda = -17.7389061182237\n"
     ]
    },
    {
     "name": "stderr",
     "output_type": "stream",
     "text": [
      "d:\\programs\\Anaconda\\lib\\site-packages\\composipy\\optimize\\_maximize_buckling.py:109: UserWarning: Loads will be normalized, prefer to use loads between -1 and 1 (Nxx = -1, Nyy = -2.5, Nxy = 4.0)\n",
      "  warnings.warn(f'Loads will be normalized, prefer to use loads between -1 and 1 (Nxx = {Nxx}, Nyy = {Nyy}, Nxy = {Nxy})')\n"
     ]
    },
    {
     "name": "stdout",
     "output_type": "stream",
     "text": [
      "ratio = 2.5, xiD = [-0.83651554  0.67293107], lambda = -15.575567021824352\n"
     ]
    }
   ],
   "source": [
    "# Nxx, Nyy, Nxy\n",
    "T = 3.048\n",
    "ratio = [0, 0.5, 1.0, 1.5, 2.0, 2.5]\n",
    "shear_ratio = [0, 0.5, 1.0, 2.0, 2.5, 3.0, 3.5, 4.0]\n",
    "\n",
    "for sr in shear_ratio:\n",
    "    print(f'shear_ratio = {sr}')\n",
    "    print('=========================')\n",
    "    for r in ratio:\n",
    "        res = optimize_panel_shear(r, T, sr)\n",
    "        fun = res.fun\n",
    "\n",
    "        if max(r, sr) > 1:\n",
    "            fun = fun / max(r, sr) #it compensates function natural normalization\n",
    "\n",
    "        print(f'ratio = {r}, xiD = {res.x}, lambda = {fun}')"
   ]
  },
  {
   "cell_type": "markdown",
   "metadata": {},
   "source": [
    "## Sanity check"
   ]
  },
  {
   "cell_type": "code",
   "execution_count": 1,
   "metadata": {},
   "outputs": [],
   "source": [
    "from composipy import OrthotropicMaterial, LaminateProperty, PlateStructure"
   ]
  },
  {
   "cell_type": "code",
   "execution_count": 1,
   "metadata": {},
   "outputs": [],
   "source": [
    "E1 = 128e3\n",
    "E2 = 13e3\n",
    "G12 = 6.4e3\n",
    "v12 = 0.3\n",
    "a = 508\n",
    "b = 254\n",
    "m = 10\n",
    "n = 10\n",
    "panel_constraint = 'PINNED'\n",
    "\n",
    "Nxx = -1\n",
    "Nyy = -2.5\n",
    "Nxy = -4.0\n",
    "\n",
    "xiD1, xiD3 = -0.83651554,  0.67293107\n",
    "T = 3.048\n"
   ]
  },
  {
   "cell_type": "code",
   "execution_count": 55,
   "metadata": {},
   "outputs": [
    {
     "data": {
      "text/plain": [
       "(array([ 7.14323867,  7.27564472,  8.9304361 ,  9.17598613, 11.65421711]),\n",
       " array([[ 9.38457676e-02,  1.20115323e-01, -3.96616835e-02,\n",
       "         -2.72498103e-01,  1.61388261e-01],\n",
       "        [ 9.40398211e-01, -1.01169499e+00,  1.79502638e+00,\n",
       "         -7.77146726e-01,  2.24720132e+00],\n",
       "        [ 2.56994007e-01,  1.02529834e-01,  3.24617328e-02,\n",
       "         -7.27709617e-01,  4.09721218e-01],\n",
       "        [-6.48523884e-01,  4.94808325e-01, -9.70351697e-01,\n",
       "          6.77151221e-01, -1.36092706e+00],\n",
       "        [-3.63518030e-01,  4.80060467e-02, -2.04921523e-01,\n",
       "          7.57011142e-01, -4.36769583e-01],\n",
       "        [-7.61666550e-02,  7.90375217e-02, -1.69598182e-01,\n",
       "          7.47576800e-02, -1.54483919e-01],\n",
       "        [-6.23472132e-02,  1.02337320e-01, -1.91560195e-01,\n",
       "          6.38539670e-02, -3.65673323e-01],\n",
       "        [-4.41623992e-02,  7.14135221e-02, -1.52451801e-01,\n",
       "          2.74052801e-02, -2.26597366e-01],\n",
       "        [-3.38679895e-02,  2.78057705e-02, -7.53138480e-02,\n",
       "          3.05469165e-02, -1.17736472e-01],\n",
       "        [-7.09996930e-03,  2.10090131e-02, -2.44953263e-02,\n",
       "          8.21154390e-03, -6.03489191e-02],\n",
       "        [-9.40398211e-01, -1.01169499e+00, -1.79502638e+00,\n",
       "         -7.77146726e-01,  2.24720132e+00],\n",
       "        [-9.38457676e-02,  1.20115323e-01,  3.96616835e-02,\n",
       "         -2.72498103e-01,  1.61388261e-01],\n",
       "        [ 2.56994007e-01, -1.02529834e-01,  3.24617328e-02,\n",
       "          7.27709617e-01, -4.09721218e-01],\n",
       "        [ 6.48523884e-01,  4.94808325e-01,  9.70351697e-01,\n",
       "          6.77151221e-01, -1.36092706e+00],\n",
       "        [-3.63518030e-01, -4.80060467e-02, -2.04921523e-01,\n",
       "         -7.57011142e-01,  4.36769583e-01],\n",
       "        [ 7.61666550e-02,  7.90375217e-02,  1.69598182e-01,\n",
       "          7.47576800e-02, -1.54483919e-01],\n",
       "        [-6.23472132e-02, -1.02337320e-01, -1.91560195e-01,\n",
       "         -6.38539670e-02,  3.65673323e-01],\n",
       "        [ 4.41623992e-02,  7.14135221e-02,  1.52451801e-01,\n",
       "          2.74052801e-02, -2.26597366e-01],\n",
       "        [-3.38679895e-02, -2.78057705e-02, -7.53138480e-02,\n",
       "         -3.05469165e-02,  1.17736472e-01],\n",
       "        [ 7.09996930e-03,  2.10090131e-02,  2.44953263e-02,\n",
       "          8.21154390e-03, -6.03489191e-02],\n",
       "        [-1.35679735e+00, -1.56361652e+00, -2.36815985e+00,\n",
       "          4.89364207e-01,  1.65437121e+00],\n",
       "        [-1.35679735e+00,  1.56361652e+00, -2.36815985e+00,\n",
       "         -4.89364207e-01, -1.65437121e+00],\n",
       "        [-2.74134493e-12, -3.14992648e-01, -1.06749562e-11,\n",
       "          2.48015977e+00, -1.63991534e+00],\n",
       "        [ 1.72829658e+00, -6.91225603e-12,  2.72135372e+00,\n",
       "          1.02860486e-11,  1.04587481e-11],\n",
       "        [-3.63168072e-12, -1.39321737e-01, -1.17425491e-11,\n",
       "         -2.00748839e+00,  1.25101917e+00],\n",
       "        [ 1.80384649e-01, -6.37132883e-12,  3.90105752e-01,\n",
       "          1.38982520e-11,  1.57502092e-11],\n",
       "        [-2.45049453e-12, -2.52577885e-01,  1.33217701e-12,\n",
       "         -1.45377521e-01,  8.95006146e-01],\n",
       "        [ 1.09497357e-01, -4.29095307e-12,  3.80827889e-01,\n",
       "          8.11992314e-12,  2.06616802e-11],\n",
       "        [-1.05175321e-12, -6.92611307e-02,  8.30444349e-12,\n",
       "         -7.64886879e-02,  2.93741407e-01],\n",
       "        [ 1.76928713e-02, -1.00873608e-12,  6.08909417e-02,\n",
       "          1.61053760e-12,  4.86412853e-12],\n",
       "        [ 1.59503596e+00, -2.40208727e+00, -8.69326126e-01,\n",
       "          1.91764188e-01,  3.29440072e+00],\n",
       "        [-1.59503596e+00, -2.40208727e+00,  8.69326126e-01,\n",
       "          1.91764188e-01,  3.29440072e+00],\n",
       "        [ 2.86939148e+00, -6.78349017e-12,  1.97606497e+00,\n",
       "         -7.81572281e-12,  2.18983313e-11],\n",
       "        [ 7.46140602e-12,  3.13637813e+00,  1.08006986e-11,\n",
       "         -9.00528083e-01, -3.40274277e+00],\n",
       "        [-1.76801710e+00, -1.50915537e-11, -1.50999120e+00,\n",
       "         -7.83796780e-12,  2.69081212e-11],\n",
       "        [ 1.32350084e-11,  1.37325665e-01,  5.01912651e-12,\n",
       "          5.12935825e-01, -5.41623830e-01],\n",
       "        [-1.54609725e-01, -2.07624151e-11, -5.71993188e-01,\n",
       "         -5.73254237e-12,  4.40222456e-12],\n",
       "        [ 7.65970252e-12,  2.48768104e-01, -1.24961753e-11,\n",
       "          7.17129770e-02, -7.75552886e-01],\n",
       "        [-1.18493395e-01, -8.92006160e-12, -2.62045192e-01,\n",
       "         -6.26464393e-13, -7.54284743e-12],\n",
       "        [ 2.89389711e-12,  7.23221693e-02, -9.33798252e-12,\n",
       "          2.92826592e-02, -2.07727059e-01],\n",
       "        [ 1.93657716e+00,  2.40460648e+00, -2.39891851e+00,\n",
       "          2.11468587e-01,  6.95325136e-01],\n",
       "        [ 1.93657716e+00, -2.40460648e+00, -2.39891851e+00,\n",
       "         -2.11468587e-01, -6.95325136e-01],\n",
       "        [-5.76706171e-12,  3.89048102e+00, -1.76750579e-11,\n",
       "          2.24711950e+00, -4.92743636e+00],\n",
       "        [-3.78330417e+00, -1.35200908e-11,  2.18321914e+00,\n",
       "          1.68369823e-11,  1.76277751e-11],\n",
       "        [-5.64009120e-12, -2.33937003e+00, -2.03259766e-11,\n",
       "         -1.64675946e+00,  3.36173267e+00],\n",
       "        [ 7.05191310e-01, -1.05368170e-11,  6.95880661e-01,\n",
       "          2.34968606e-11,  2.67774513e-11],\n",
       "        [-4.25369081e-12, -2.16294267e-01,  2.38604238e-12,\n",
       "         -3.56071596e-01,  1.35672924e+00],\n",
       "        [ 1.42809819e-01, -7.23275029e-12,  6.17821997e-01,\n",
       "          1.38557322e-11,  3.50662248e-11],\n",
       "        [-1.77760513e-12, -1.23089103e-01,  1.39654506e-11,\n",
       "         -1.27763507e-01,  5.11041507e-01],\n",
       "        [ 3.16719462e-02, -1.58737194e-12,  1.03256381e-01,\n",
       "          2.57389645e-12,  8.30104529e-12],\n",
       "        [-2.05174178e+00,  2.83574720e+00,  2.19315868e+00,\n",
       "          2.87809801e+00,  8.22388202e-01],\n",
       "        [ 2.05174178e+00,  2.83574720e+00, -2.19315868e+00,\n",
       "          2.87809801e+00,  8.22388202e-01],\n",
       "        [-1.90046229e+00, -1.15264415e-11,  6.11092946e+00,\n",
       "         -1.04889093e-11,  3.20617156e-11],\n",
       "        [ 1.38073195e-11, -5.33904342e+00,  1.75890308e-11,\n",
       "         -5.44080496e+00,  1.15228756e+00],\n",
       "        [ 1.58649249e+00, -2.07163832e-11, -4.04797311e+00,\n",
       "         -1.22906472e-11,  3.90786012e-11],\n",
       "        [ 1.85434080e-11,  7.23724221e-01,  7.24451435e-12,\n",
       "          1.00613471e+00, -1.08685185e+00],\n",
       "        [-4.99016869e-01, -2.96921981e-11, -4.80288773e-01,\n",
       "         -7.91726371e-12,  6.48288857e-12],\n",
       "        [ 1.09641568e-11,  2.41992839e-01, -1.82260949e-11,\n",
       "          7.28024125e-02, -9.80062434e-01],\n",
       "        [-1.67458924e-01, -1.28603200e-11, -3.89421805e-01,\n",
       "         -8.04745771e-13, -1.14960366e-11],\n",
       "        [ 3.77448107e-12,  1.07726194e-01, -1.36202974e-11,\n",
       "          4.64937831e-02, -2.99970712e-01],\n",
       "        [-1.01527925e+00, -1.56516905e+00,  5.65588675e+00,\n",
       "         -2.21081884e+00, -1.14324437e+00],\n",
       "        [-1.01527925e+00,  1.56516905e+00,  5.65588675e+00,\n",
       "          2.21081884e+00,  1.14324437e+00],\n",
       "        [-4.87486824e-12, -2.17188256e+00, -1.80911300e-11,\n",
       "         -5.16977872e+00, -6.37323827e+00],\n",
       "        [ 1.15945819e+00, -1.39964006e-11, -1.08711311e+01,\n",
       "          1.61480521e-11,  1.91765739e-11],\n",
       "        [-7.86585870e-12,  2.08823806e+00, -2.56338422e-11,\n",
       "          5.06885621e+00,  3.91407692e+00],\n",
       "        [ 7.08055309e-02, -1.26935703e-11,  1.80621467e+00,\n",
       "          2.72655981e-11,  3.11688566e-11],\n",
       "        [-4.94963495e-12, -5.47927345e-01,  2.53773956e-12,\n",
       "         -8.57463872e-01,  1.21973378e+00],\n",
       "        [ 2.58314565e-01, -8.32254709e-12,  4.60757982e-01,\n",
       "          1.60408349e-11,  4.04636492e-11],\n",
       "        [-2.08159546e-12, -1.39178620e-01,  1.61524676e-11,\n",
       "         -1.32638802e-01,  6.17013499e-01],\n",
       "        [ 3.60432128e-02, -2.32890063e-12,  1.23272856e-01,\n",
       "          2.31712759e-12,  1.00866053e-11],\n",
       "        [ 5.16740638e-01, -5.16183952e-01, -1.85068261e+00,\n",
       "         -3.50068690e+00, -7.51665056e+00],\n",
       "        [-5.16740638e-01, -5.16183952e-01,  1.85068261e+00,\n",
       "         -3.50068690e+00, -7.51665056e+00],\n",
       "        [ 1.97069535e-01, -1.20236441e-11, -6.49392041e+00,\n",
       "         -1.48764641e-11,  3.54770084e-11],\n",
       "        [ 1.38528723e-11,  5.79881466e-01,  1.78953462e-11,\n",
       "          5.76739993e+00,  1.48768574e+01],\n",
       "        [ 5.40155405e-01, -2.25565837e-11,  6.95183976e+00,\n",
       "         -1.06772274e-11,  4.22172400e-11],\n",
       "        [ 1.90123992e-11, -2.50728757e-01,  7.88323208e-12,\n",
       "         -9.83045689e-01, -2.75731087e+00],\n",
       "        [-2.41520294e-01, -3.01452883e-11, -8.86613306e-01,\n",
       "         -7.52044164e-12,  6.26118397e-12],\n",
       "        [ 1.12154164e-11,  3.17943912e-01, -2.06027245e-11,\n",
       "          4.14960887e-01, -4.98300065e-01],\n",
       "        [-1.88955182e-01, -1.35273525e-11, -3.89426698e-01,\n",
       "         -6.35228682e-13, -1.38440170e-11],\n",
       "        [ 3.86743728e-12,  1.14812292e-01, -1.61461478e-11,\n",
       "          5.40432534e-02, -3.29783127e-01],\n",
       "        [ 2.41177871e-01,  4.60475041e-01, -2.35876337e+00,\n",
       "          1.06486070e+00,  4.41488913e-01],\n",
       "        [ 2.41177871e-01, -4.60475041e-01, -2.35876337e+00,\n",
       "         -1.06486070e+00, -4.41488913e-01],\n",
       "        [-3.28820113e-12, -5.59759868e-04, -1.22010537e-11,\n",
       "          2.49059671e+00,  1.26485015e+01],\n",
       "        [-4.81418159e-01, -9.60507749e-12,  3.73034033e+00,\n",
       "          1.38300857e-11,  7.80070385e-12],\n",
       "        [-5.73248485e-12,  5.24257091e-01, -1.82322154e-11,\n",
       "         -1.74838707e+00, -1.45272653e+01],\n",
       "        [-8.21816109e-02, -9.12385924e-12, -8.71962649e-01,\n",
       "          1.86481513e-11,  2.27378670e-11],\n",
       "        [-3.55928082e-12, -1.79327825e-01,  1.25327181e-12,\n",
       "         -7.79309320e-02,  1.73992142e+00],\n",
       "        [ 1.76087616e-01, -5.65222742e-12,  5.97855909e-01,\n",
       "          1.13823324e-11,  2.81689679e-11],\n",
       "        [-1.39139200e-12, -1.06266142e-01,  1.13211188e-11,\n",
       "         -1.24756667e-01,  3.17331163e-01],\n",
       "        [ 2.73394809e-02, -1.62891847e-12,  8.49584114e-02,\n",
       "          2.03342733e-12,  9.16423264e-12],\n",
       "        [ 7.26972888e-02,  2.50110001e-01,  1.13199070e+00,\n",
       "          8.91064196e-01,  3.71487298e+00],\n",
       "        [-7.26972888e-02,  2.50110001e-01, -1.13199070e+00,\n",
       "          8.91064196e-01,  3.71487298e+00],\n",
       "        [-3.94049126e-01, -8.32208026e-12,  5.11002944e-01,\n",
       "         -1.11661310e-11,  2.04582552e-11],\n",
       "        [ 8.86493603e-12, -2.63727810e-01,  1.34124924e-11,\n",
       "         -1.42026226e+00, -7.96331424e+00],\n",
       "        [ 6.21055871e-01, -1.56238365e-11,  2.20246363e-01,\n",
       "         -6.70771093e-12,  3.51552207e-11],\n",
       "        [ 1.13173831e-11, -3.62629902e-01,  4.19038295e-12,\n",
       "         -1.08290502e-01,  3.53763852e+00],\n",
       "        [-2.98837988e-02, -1.80135446e-11,  1.89161835e-01,\n",
       "         -3.12981568e-12,  4.22096708e-13],\n",
       "        [ 6.50408200e-12,  1.64912387e-01, -1.53981273e-11,\n",
       "          1.48207762e-01, -9.07010382e-01],\n",
       "        [-1.29168200e-01, -8.37167835e-12, -2.85921798e-01,\n",
       "          2.12923635e-13, -1.13753642e-11],\n",
       "        [ 2.21257040e-12,  7.88759120e-02, -1.10803729e-11,\n",
       "          4.60925812e-02, -2.31422837e-01]]))"
      ]
     },
     "execution_count": 55,
     "metadata": {},
     "output_type": "execute_result"
    }
   ],
   "source": [
    "stack = {'xiD': [xiD1, 0., xiD3, 0.], 'T': T}\n",
    "mat = OrthotropicMaterial(E1, E2, v12, G12, 0.1)\n",
    "lam = LaminateProperty(stacking=stack, plies=mat)\n",
    "plate = PlateStructure(lam, a, b, panel_constraint, Nxx, Nyy, Nxy, m, n)\n",
    "\n",
    "plate.buckling_analysis()"
   ]
  },
  {
   "cell_type": "code",
   "execution_count": null,
   "metadata": {},
   "outputs": [],
   "source": []
  },
  {
   "cell_type": "code",
   "execution_count": null,
   "metadata": {},
   "outputs": [],
   "source": []
  }
 ],
 "metadata": {
  "kernelspec": {
   "display_name": "base",
   "language": "python",
   "name": "python3"
  },
  "language_info": {
   "codemirror_mode": {
    "name": "ipython",
    "version": 3
   },
   "file_extension": ".py",
   "mimetype": "text/x-python",
   "name": "python",
   "nbconvert_exporter": "python",
   "pygments_lexer": "ipython3",
   "version": "3.9.13"
  },
  "orig_nbformat": 4
 },
 "nbformat": 4,
 "nbformat_minor": 2
}
