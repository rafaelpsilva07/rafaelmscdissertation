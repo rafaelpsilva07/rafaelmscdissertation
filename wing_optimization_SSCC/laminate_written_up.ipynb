{
 "cells": [
  {
   "cell_type": "code",
   "execution_count": 1,
   "metadata": {},
   "outputs": [],
   "source": [
    "stack_panel_10 = [45, 45, -45, 45, 45, -45, -45, 90, 45, 90, -45, 0, 45, 45, 90, -45, -45, -45, 90, 45, 45, -45, 90, 45, 45, 0, 90, 90, 90, 45, -45, 0, 90, 0, -45, 0, -45, 90, 90, 45, 90, -45, 90, -45, 45, -45, 45, 90, 90, 45, -45, 90, -45, 45, 0, 0, 0, 45, 90, 90, -45, -45, 45, 0, -45, -45, -45, 90, 45, 45, -45, 90, -45, 45, 45, 90, -45, 45, 45, -45, 90, 45, 45, -45, 90, -45, 45, 45, 90, -45, -45, -45, 0, 45, -45, -45, 90, 90, 45, 0, 0, 0, 45, -45, 90, -45, 45, 90, 90, 45, -45, 45, -45, 90, -45, 90, 45, 90, 90, -45, 0, -45, 0, 90, 0, -45, 45, 90, 90, 90, 0, 45, 45, 90, -45, 45, 45, 90, -45, -45, -45, 90, 45, 45, 0, -45, 90, 45, 90, -45, -45, 45, 45, -45, 45, 45]\n",
    "stack_panel_11 = [45, 0, -45, 45, -45, -45, -45, 45, 45, -45, -45, 45, 45, 0, 0, 45, -45, 45, -45, 0, -45, 45, 45, 90, -45, 45, -45, 45, -45, -45, -45, 0, 90, 45, 45, 0, 90, 90, -45, -45, 0, -45, 90, -45, -45, 90, 90, 45, 0, 0, 45, 90, 45, 45, 0, 0, 45, 90, 90, 0, 90, 90, 45, 0, 0, 45, 45, 90, 45, 0, 0, 45, 90, 90, -45, -45, 90, -45, 0, -45, -45, 90, 90, 0, 45, 45, 90, 0, -45, -45, -45, 45, -45, 45, -45, 90, 45, 45, -45, 0, -45, 45, -45, 45, 0, 0, 45, 45, -45, -45, 45, 45, -45, -45, -45, 45, -45, 0, 45]\n",
    "stack_panel_12 = [45, 45, -45, -45, 45, 45, 90, -45, 45, -45, -45, 0, -45, 45, -45, 45, 45, -45, 0, -45, 0, 0, 45, 90, 0, 0, 90, 90, 90, -45, 0, -45, 45, 45, -45, 90, 90, 45, -45, 45, -45, 45, 90, 90, -45, 45, 45, -45, 0, -45, 90, 90, 90, 0, 0, 90, 45, 0, 0, -45, 0, -45, 45, 45, -45, 45, -45, 0, -45, -45, 45, -45, 90, 45, 45, -45, -45, 45, 45]\n",
    "stack_panel_13 = [45, 45, 90, 45, 45, -45, 45, 45, 45, -45, 0, -45, -45, 45, 90, -45, 45, 0, 45, -45, -45, 90, 0, 90, 45, -45, 0, -45, -45, 0, 0, -45, 45, 90, -45, 90, 45, -45, 0, 45, -45, -45, 45, 0, -45, 45, 90, -45, 90, 45, -45, 0, 0, -45, -45, 0, -45, 45, 90, 0, 90, -45, -45, 45, 0, 45, -45, 90, 45, -45, -45, 0, -45, 45, 45, 45, -45, 45, 45, 90, 45, 45]\n",
    "stack_panel_14 = [45, 45, -45, 0, 45, -45, 45, -45, 0, 45, -45, 0, -45, 45, 45, -45, 90, -45, -45, 45, 0, 45, -45, 45, 0, 90, 90, 45, 45, 90, 45, -45, 45, 0, -45, 90, 45, -45, -45, 90, -45, 90, 0, -45, 90, 45, 90, 90, 0, -45, -45, 0, 0, 0, 45, 45, 45, 0, 90, 0, 90, -45, -45, -45, -45, 90, 0, 90, 0, 45, 45, 45, 0, 0, 0, -45, -45, 0, 90, 90, 45, 90, -45, 0, 90, -45, 90, -45, -45, 45, 90, -45, 0, 45, -45, 45, 90, 45, 45, 90, 90, 0, 45, -45, 45, 0, 45, -45, -45, 90, -45, 45, 45, -45, 0, -45, 45, 0, -45, 45, -45, 45, 0, -45, 45, 45]\n",
    "stack_panel_15 = [45, 45, 90, -45, 45, 90, 45, 90, 45, 45, -45, 0, -45, 90, 90, 45, 90, 90, 45, 90, 45, 90, 90, 90, 45, -45, 45, 45, -45, -45, 90, 45, 0, -45, 45, -45, 45, 90, 90, -45, -45, -45, 45, -45, 45, 0, -45, 0, -45, 0, 45, -45, -45, 90, 0, 0, -45, 90, 90, -45, 0, -45, 90, 45, -45, 0, 0, 45, 45, 45, 90, -45, 45, 90, -45, 45, -45, -45, 45, 0, 90, -45, 90, 0, 45, -45, -45, 45, -45, 90, 45, -45, 90, 45, 45, 45, 0, 0, -45, 45, 90, -45, 0, -45, 90, 90, -45, 0, 0, 90, -45, -45, 45, 0, -45, 0, -45, 0, 45, -45, 45, -45, -45, -45, 90, 90, 45, -45, 45, -45, 0, 45, 90, -45, -45, 45, 45, -45, 45, 90, 90, 90, 45, 90, 45, 90, 90, 45, 90, 90, -45, 0, -45, 45, 45, 90, 45, 90, 45, -45, 90, 45, 45]\n",
    "stack_panel_16 = [90, -45, 45, -45, 90, -45, 90, 45, 90, -45, -45, -45, 45, 90, -45, 0, -45, -45, 45, 45, 45, 0, 90, 90, -45, -45, 45, 90, -45, 45, -45, 90, 45, 45, 45, 90, 45, 45, 90, 0, -45, 90, 45, 90, 0, 45, 90, -45, 90, -45, 0, -45, -45, 45, -45, 90, 0, -45, 45, 90, 45, -45, 45, -45, -45, 0, 0, 45, 90, 45, 90, 45, 0, 45, -45, 45, -45, -45, 90, 90, 45, 45, 45, 45, 90, 90, -45, -45, 45, -45, 45, 0, 45, 90, 45, 90, 45, 0, 0, -45, -45, 45, -45, 45, 90, 45, -45, 0, 90, -45, 45, -45, -45, 0, -45, 90, -45, 90, 45, 0, 90, 45, 90, -45, 0, 90, 45, 45, 90, 45, 45, 45, 90, -45, 45, -45, 90, 45, -45, -45, 90, 90, 0, 45, 45, 45, -45, -45, 0, -45, 90, 45, -45, -45, -45, 90, 45, 90, -45, 90, -45, 45, -45, 90]\n",
    "stack_panel_17 = [-45, 90, 0, 45, 45, 45, -45, -45, 45, -45, -45, 45, 0, 45, 0, 45, 45, 90, -45, 90, -45, -45, 45, -45, 90, 45, 45, 45, 0, -45, -45, -45, 0, 90, -45, -45, -45, 45, -45, 45, 45, 0, 45, 45, -45, 45, 0, 90, -45, 0, 45, 90, -45, 45, 90, 0, 90, 90, 0, -45, -45, 45, 45, -45, -45, 0, 90, 90, 0, 90, 45, -45, 90, 45, 0, -45, 90, 0, 45, -45, 45, 45, 0, 45, 45, -45, 45, -45, -45, -45, 90, 0, -45, -45, -45, 0, 45, 45, 45, 90, -45, 45, -45, -45, 90, -45, 90, 45, 45, 0, 45, 0, 45, -45, -45, 45, -45, -45, 45, 45, 45, 0, 90, -45]\n",
    "stack_panel_18 = [-45, -45, 0, 45, -45, 45, -45, 45, -45, -45, -45, 45, -45, -45, 0, -45, 90, 45, 45, 90, 90, -45, 45, 45, 45, 0, 0, 0, 90, -45, 90, 90, 45, 45, 90, 45, 45, 90, 90, -45, 90, 45, -45, 0, -45, 45, 90, -45, 90, 90, 45, 45, 90, 45, 45, 90, 90, -45, 90, 0, 0, 0, 45, 45, 45, -45, 90, 90, 45, 45, 90, -45, 0, -45, -45, 45, -45, -45, -45, 45, -45, 45, -45, 45, 0, -45, -45]"
   ]
  },
  {
   "cell_type": "code",
   "execution_count": 2,
   "metadata": {},
   "outputs": [],
   "source": [
    "s_report_10 = stack_panel_10[0:78]\n",
    "s_report_11 = stack_panel_11[0:60]\n",
    "s_report_12 = stack_panel_12[0:40]\n",
    "s_report_13 = stack_panel_13[0:41]\n",
    "s_report_14 = stack_panel_14[0:63]\n",
    "s_report_15 = stack_panel_15[0:82]\n",
    "s_report_16 = stack_panel_16[0:82]\n",
    "s_report_17 = stack_panel_17[0:62]\n",
    "s_report_18 = stack_panel_18[0:44]"
   ]
  },
  {
   "cell_type": "code",
   "execution_count": 3,
   "metadata": {},
   "outputs": [],
   "source": [
    "txt = ''\n",
    "txt += str(s_report_10) + '\\n'\n",
    "txt += str(s_report_11) + '\\n'\n",
    "txt += str(s_report_12) + '\\n'\n",
    "txt += str(s_report_13) + '\\n'\n",
    "txt += str(s_report_14) + '\\n'\n",
    "txt += str(s_report_15) + '\\n'\n",
    "txt += str(s_report_16) + '\\n'\n",
    "txt += str(s_report_17) + '\\n'\n",
    "txt += str(s_report_17)\n",
    "\n",
    "#with open('plies_5th_iteraction.txt', 'w') as f:\n",
    "#    f.write(txt)"
   ]
  },
  {
   "cell_type": "markdown",
   "metadata": {},
   "source": [
    "## Sanity check discrete case"
   ]
  },
  {
   "cell_type": "code",
   "execution_count": 4,
   "metadata": {},
   "outputs": [],
   "source": [
    "from composipy import OrthotropicMaterial, LaminateProperty, PlateStructure"
   ]
  },
  {
   "cell_type": "code",
   "execution_count": 5,
   "metadata": {},
   "outputs": [],
   "source": [
    "Nxx, Nyy, Nxy = -2413, -608, 291 #10 \n",
    "Nxx, Nyy, Nxy = -1520, -41, -30 #11\n",
    "Nxx, Nyy, Nxy = -449, 3, -62 #12\n",
    "Nxx, Nyy, Nxy = -448, 31, -177 #13\n",
    "Nxx, Nyy, Nxy = -1474, -155, -209 #14\n",
    "Nxx, Nyy, Nxy = -2783, -716, -127 #15\n",
    "Nxx, Nyy, Nxy = -2831, -586, 22 #16\n",
    "Nxx, Nyy, Nxy = -1670, -66, -325 #17\n",
    "Nxx, Nyy, Nxy = -532, 8, -285 #18"
   ]
  },
  {
   "cell_type": "code",
   "execution_count": 32,
   "metadata": {},
   "outputs": [],
   "source": [
    "stack = stack_panel_18\n",
    "Nxx, Nyy, Nxy = -532, 8, -285 #18\n",
    "\n",
    "Nxx_n, Nyy_n, Nxy_n = Nxx/abs(Nxx), Nyy/abs(Nxx), Nxy/abs(Nxx)\n",
    "\n",
    "\n",
    "panel_constraint = { 'x0' : ['TX', 'TY', 'TZ', 'RX', 'RY', 'RZ'],\n",
    "                'xa' : ['TX', 'TY', 'TZ', 'RX', 'RY', 'RZ'],\n",
    "                'y0' : ['TX', 'TY', 'TZ'],\n",
    "                'yb' : ['TX', 'TY', 'TZ']\n",
    "                } #sscc\n",
    "panel_constraint = 'PINNED'"
   ]
  },
  {
   "cell_type": "code",
   "execution_count": 33,
   "metadata": {},
   "outputs": [
    {
     "data": {
      "text/plain": [
       "(0.031621723819025664, -0.5688189727305694)"
      ]
     },
     "execution_count": 33,
     "metadata": {},
     "output_type": "execute_result"
    }
   ],
   "source": [
    "E1 = 127560\n",
    "E2 = 13030\n",
    "G12 = 6410\n",
    "v12 = 0.3\n",
    "a = 1181.1\n",
    "b = 746.74\n",
    "m = 7\n",
    "n = 7\n",
    "t = 0.127\n",
    "\n",
    "\n",
    "mat = OrthotropicMaterial(E1, E2, v12, G12, t)\n",
    "lam = LaminateProperty(stack, mat)\n",
    "plate = PlateStructure(lam, a, b, panel_constraint, Nxx=Nxx_n, Nyy=Nyy_n, Nxy=Nxy_n, m=m, n=n)\n",
    "\n",
    "lam.xiD[0], lam.xiD[2]"
   ]
  },
  {
   "cell_type": "code",
   "execution_count": 34,
   "metadata": {},
   "outputs": [
    {
     "data": {
      "text/plain": [
       "array([0.88274665, 0.95328119, 1.19844327, 1.67108684, 2.4733221 ])"
      ]
     },
     "execution_count": 34,
     "metadata": {},
     "output_type": "execute_result"
    }
   ],
   "source": [
    "plate.buckling_analysis()[0] / abs(Nxx)"
   ]
  },
  {
   "cell_type": "code",
   "execution_count": 94,
   "metadata": {},
   "outputs": [
    {
     "data": {
      "text/plain": [
       "124"
      ]
     },
     "execution_count": 94,
     "metadata": {},
     "output_type": "execute_result"
    }
   ],
   "source": [
    "len(stack)"
   ]
  },
  {
   "cell_type": "markdown",
   "metadata": {},
   "source": [
    "## Sanity check continuous case"
   ]
  },
  {
   "cell_type": "code",
   "execution_count": 3,
   "metadata": {},
   "outputs": [],
   "source": [
    "from composipy import OrthotropicMaterial, LaminateProperty, PlateStructure"
   ]
  },
  {
   "cell_type": "code",
   "execution_count": 4,
   "metadata": {},
   "outputs": [],
   "source": [
    "E1 = 127560\n",
    "E2 = 13030\n",
    "G12 = 6410\n",
    "v12 = 0.3\n",
    "a = 1181.1\n",
    "b = 746.74\n",
    "m = 7\n",
    "n = 7"
   ]
  },
  {
   "cell_type": "code",
   "execution_count": 5,
   "metadata": {},
   "outputs": [],
   "source": [
    "Nxx, Nyy, Nxy = -2413, -608, 291 #10 \n",
    "Nxx, Nyy, Nxy = -1520, -41, -30 #11\n",
    "Nxx, Nyy, Nxy = -449, 3, -62 #12\n",
    "Nxx, Nyy, Nxy = -448, 31, -177 #13\n",
    "Nxx, Nyy, Nxy = -1474, -155, -209 #14\n",
    "Nxx, Nyy, Nxy = -2783, -716, -127 #15\n",
    "Nxx, Nyy, Nxy = -2831, -586, 22 #16\n",
    "Nxx, Nyy, Nxy = -1670, -66, -325 #17\n",
    "Nxx, Nyy, Nxy = -532, 8, -285 #18"
   ]
  },
  {
   "cell_type": "code",
   "execution_count": 14,
   "metadata": {},
   "outputs": [],
   "source": [
    "T_10 = 19.08426766\n",
    "T_11 = 15.272379\n",
    "T_12 = 10.12620413\n",
    "T_13 = 10.13364736\n",
    "T_14 = 15.70947256\n",
    "T_15 = 20.03744614\n",
    "T_16 = 19.70313066\n",
    "T_17 = 15.86696859\n",
    "T_18 = 10.98112698\n",
    "\n",
    "xi1, xi2, xi3, xi4 = 0, 0, -1., 0 # panels\n",
    "xi1, xi2, xi3, xi4 = -0.112, 0, -0.776, 0 # 14"
   ]
  },
  {
   "cell_type": "code",
   "execution_count": 71,
   "metadata": {},
   "outputs": [],
   "source": [
    "xi1, xi2, xi3, xi4 = 0, 0, -1., 0 # panels\n",
    "T = T_18\n",
    "stack = {'xiD': [xi1, xi2, xi3, xi4], 'T': T}\n",
    "\n",
    "Nxx, Nyy, Nxy = -532, 8, -285 #18\n",
    "\n",
    "Nxx_n, Nyy_n, Nxy_n = Nxx/abs(Nxx), Nyy/abs(Nxx), Nxy/abs(Nxx)\n",
    "\n",
    "\n",
    "panel_constraint = { 'x0' : ['TX', 'TY', 'TZ', 'RX', 'RY', 'RZ'],\n",
    "                'xa' : ['TX', 'TY', 'TZ', 'RX', 'RY', 'RZ'],\n",
    "                'y0' : ['TX', 'TY', 'TZ'],\n",
    "                'yb' : ['TX', 'TY', 'TZ']\n",
    "                } #sscc\n",
    "panel_constraint = 'PINNED'"
   ]
  },
  {
   "cell_type": "code",
   "execution_count": 72,
   "metadata": {},
   "outputs": [],
   "source": [
    "mat2 = OrthotropicMaterial(E1, E2, v12, G12, 0.1)\n",
    "lam2 = LaminateProperty(stack, mat2)\n",
    "plate2 = PlateStructure(lam2, a, b, panel_constraint, Nxx=Nxx_n, Nyy=Nyy_n, Nxy=Nxy_n, m=m, n=n)"
   ]
  },
  {
   "cell_type": "code",
   "execution_count": 73,
   "metadata": {},
   "outputs": [
    {
     "data": {
      "text/plain": [
       "array([0.9960406 , 1.08018037, 1.27647394, 1.71509775, 2.41199853])"
      ]
     },
     "execution_count": 73,
     "metadata": {},
     "output_type": "execute_result"
    }
   ],
   "source": [
    "plate2.buckling_analysis()[0] / abs(Nxx)"
   ]
  },
  {
   "cell_type": "code",
   "execution_count": null,
   "metadata": {},
   "outputs": [],
   "source": []
  },
  {
   "cell_type": "code",
   "execution_count": null,
   "metadata": {},
   "outputs": [],
   "source": []
  }
 ],
 "metadata": {
  "kernelspec": {
   "display_name": "base",
   "language": "python",
   "name": "python3"
  },
  "language_info": {
   "codemirror_mode": {
    "name": "ipython",
    "version": 3
   },
   "file_extension": ".py",
   "mimetype": "text/x-python",
   "name": "python",
   "nbconvert_exporter": "python",
   "pygments_lexer": "ipython3",
   "version": "3.9.13"
  }
 },
 "nbformat": 4,
 "nbformat_minor": 2
}
