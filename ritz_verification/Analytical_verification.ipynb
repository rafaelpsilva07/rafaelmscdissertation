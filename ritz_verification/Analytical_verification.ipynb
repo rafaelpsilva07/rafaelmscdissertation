{
 "cells": [
  {
   "cell_type": "code",
   "execution_count": 8,
   "metadata": {},
   "outputs": [],
   "source": [
    "from numpy import pi\n",
    "\n",
    "from composipy import OrthotropicMaterial, LaminateProperty"
   ]
  },
  {
   "cell_type": "code",
   "execution_count": 5,
   "metadata": {},
   "outputs": [],
   "source": [
    "Ex = 137.9e3\n",
    "Ey = 11.7e3\n",
    "Gxy = 4.82e3\n",
    "vxy = 0.31\n",
    "tply = 0.154\n",
    "\n",
    "stack = [45, -45, 45, -45, 0, 0, 90, 90]\n",
    "stack += stack[::-1]"
   ]
  },
  {
   "cell_type": "code",
   "execution_count": 7,
   "metadata": {},
   "outputs": [
    {
     "data": {
      "text/plain": [
       "array([[67570.96328567, 38438.22770759,  5576.45633334],\n",
       "       [38438.22770759, 52700.41306342,  5576.45633334],\n",
       "       [ 5576.45633334,  5576.45633334, 39888.29887531]])"
      ]
     },
     "execution_count": 7,
     "metadata": {},
     "output_type": "execute_result"
    }
   ],
   "source": [
    "mat = OrthotropicMaterial(Ex, Ey, vxy, Gxy, tply)\n",
    "lam = LaminateProperty(stack, mat)\n",
    "lam.D"
   ]
  },
  {
   "cell_type": "code",
   "execution_count": 9,
   "metadata": {},
   "outputs": [
    {
     "data": {
      "text/plain": [
       "67570.96328567102"
      ]
     },
     "execution_count": 9,
     "metadata": {},
     "output_type": "execute_result"
    }
   ],
   "source": [
    "lam.D[0,0]"
   ]
  },
  {
   "cell_type": "code",
   "execution_count": 10,
   "metadata": {},
   "outputs": [],
   "source": [
    "D11 = lam.D[0,0]\n",
    "D12 = lam.D[0,1]\n",
    "D66 = lam.D[2,2]\n",
    "D22 = lam.D[1,1]"
   ]
  },
  {
   "cell_type": "code",
   "execution_count": 15,
   "metadata": {},
   "outputs": [
    {
     "data": {
      "text/plain": [
       "234.69986857151946"
      ]
     },
     "execution_count": 15,
     "metadata": {},
     "output_type": "execute_result"
    }
   ],
   "source": [
    "#m = 1\n",
    "#n = 1\n",
    "# a = 100\n",
    "# b = 100\n",
    "\n",
    "\n",
    "critc_buckling = pi**2 * (D11 + 2*(D12+2*D66) + D22) / (100**2*(1+0.5))\n",
    "critc_buckling"
   ]
  }
 ],
 "metadata": {
  "kernelspec": {
   "display_name": "base",
   "language": "python",
   "name": "python3"
  },
  "language_info": {
   "codemirror_mode": {
    "name": "ipython",
    "version": 3
   },
   "file_extension": ".py",
   "mimetype": "text/x-python",
   "name": "python",
   "nbconvert_exporter": "python",
   "pygments_lexer": "ipython3",
   "version": "3.9.13"
  }
 },
 "nbformat": 4,
 "nbformat_minor": 2
}
